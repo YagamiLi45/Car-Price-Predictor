{
  "cells": [
    {
      "cell_type": "code",
      "execution_count": 1,
      "metadata": {
        "id": "WLPze3yt-IMi"
      },
      "outputs": [],
      "source": [
        "import pandas as pd \n",
        "import numpy as np\n",
        "import matplotlib.pyplot as plt\n",
        "import seaborn as sns "
      ]
    },
    {
      "cell_type": "code",
      "execution_count": 2,
      "metadata": {
        "colab": {
          "base_uri": "https://localhost:8080/"
        },
        "id": "4ea4wcNdjv48",
        "outputId": "adecadfd-b391-4524-a6bc-4f4858d2e321"
      },
      "outputs": [
        {
          "name": "stdout",
          "output_type": "stream",
          "text": [
            "Requirement already satisfied: pydrive in c:\\users\\shant\\appdata\\local\\programs\\python\\python310\\lib\\site-packages (1.3.1)\n",
            "Requirement already satisfied: google-api-python-client>=1.2 in c:\\users\\shant\\appdata\\local\\programs\\python\\python310\\lib\\site-packages (from pydrive) (2.86.0)\n",
            "Requirement already satisfied: oauth2client>=4.0.0 in c:\\users\\shant\\appdata\\local\\programs\\python\\python310\\lib\\site-packages (from pydrive) (4.1.3)\n",
            "Requirement already satisfied: PyYAML>=3.0 in c:\\users\\shant\\appdata\\local\\programs\\python\\python310\\lib\\site-packages (from pydrive) (6.0)\n",
            "Requirement already satisfied: uritemplate<5,>=3.0.1 in c:\\users\\shant\\appdata\\local\\programs\\python\\python310\\lib\\site-packages (from google-api-python-client>=1.2->pydrive) (4.1.1)\n",
            "Requirement already satisfied: google-auth-httplib2>=0.1.0 in c:\\users\\shant\\appdata\\local\\programs\\python\\python310\\lib\\site-packages (from google-api-python-client>=1.2->pydrive) (0.1.0)\n",
            "Requirement already satisfied: google-auth<3.0.0dev,>=1.19.0 in c:\\users\\shant\\appdata\\local\\programs\\python\\python310\\lib\\site-packages (from google-api-python-client>=1.2->pydrive) (2.17.3)\n",
            "Requirement already satisfied: httplib2<1dev,>=0.15.0 in c:\\users\\shant\\appdata\\local\\programs\\python\\python310\\lib\\site-packages (from google-api-python-client>=1.2->pydrive) (0.22.0)\n",
            "Requirement already satisfied: google-api-core!=2.0.*,!=2.1.*,!=2.2.*,!=2.3.0,<3.0.0dev,>=1.31.5 in c:\\users\\shant\\appdata\\local\\programs\\python\\python310\\lib\\site-packages (from google-api-python-client>=1.2->pydrive) (2.11.0)\n",
            "Requirement already satisfied: pyasn1-modules>=0.0.5 in c:\\users\\shant\\appdata\\local\\programs\\python\\python310\\lib\\site-packages (from oauth2client>=4.0.0->pydrive) (0.3.0)\n",
            "Requirement already satisfied: pyasn1>=0.1.7 in c:\\users\\shant\\appdata\\local\\programs\\python\\python310\\lib\\site-packages (from oauth2client>=4.0.0->pydrive) (0.5.0)\n",
            "Requirement already satisfied: rsa>=3.1.4 in c:\\users\\shant\\appdata\\local\\programs\\python\\python310\\lib\\site-packages (from oauth2client>=4.0.0->pydrive) (4.9)\n",
            "Requirement already satisfied: six>=1.6.1 in c:\\users\\shant\\appdata\\local\\programs\\python\\python310\\lib\\site-packages (from oauth2client>=4.0.0->pydrive) (1.16.0)\n",
            "Requirement already satisfied: requests<3.0.0dev,>=2.18.0 in c:\\users\\shant\\appdata\\local\\programs\\python\\python310\\lib\\site-packages (from google-api-core!=2.0.*,!=2.1.*,!=2.2.*,!=2.3.0,<3.0.0dev,>=1.31.5->google-api-python-client>=1.2->pydrive) (2.28.1)\n",
            "Requirement already satisfied: protobuf!=3.20.0,!=3.20.1,!=4.21.0,!=4.21.1,!=4.21.2,!=4.21.3,!=4.21.4,!=4.21.5,<5.0.0dev,>=3.19.5 in c:\\users\\shant\\appdata\\local\\programs\\python\\python310\\lib\\site-packages (from google-api-core!=2.0.*,!=2.1.*,!=2.2.*,!=2.3.0,<3.0.0dev,>=1.31.5->google-api-python-client>=1.2->pydrive) (4.22.3)\n",
            "Requirement already satisfied: googleapis-common-protos<2.0dev,>=1.56.2 in c:\\users\\shant\\appdata\\local\\programs\\python\\python310\\lib\\site-packages (from google-api-core!=2.0.*,!=2.1.*,!=2.2.*,!=2.3.0,<3.0.0dev,>=1.31.5->google-api-python-client>=1.2->pydrive) (1.59.0)\n",
            "Requirement already satisfied: cachetools<6.0,>=2.0.0 in c:\\users\\shant\\appdata\\local\\programs\\python\\python310\\lib\\site-packages (from google-auth<3.0.0dev,>=1.19.0->google-api-python-client>=1.2->pydrive) (5.3.0)\n",
            "Requirement already satisfied: pyparsing!=3.0.0,!=3.0.1,!=3.0.2,!=3.0.3,<4,>=2.4.2 in c:\\users\\shant\\appdata\\local\\programs\\python\\python310\\lib\\site-packages (from httplib2<1dev,>=0.15.0->google-api-python-client>=1.2->pydrive) (3.0.9)\n",
            "Requirement already satisfied: charset-normalizer<3,>=2 in c:\\users\\shant\\appdata\\local\\programs\\python\\python310\\lib\\site-packages (from requests<3.0.0dev,>=2.18.0->google-api-core!=2.0.*,!=2.1.*,!=2.2.*,!=2.3.0,<3.0.0dev,>=1.31.5->google-api-python-client>=1.2->pydrive) (2.1.0)\n",
            "Requirement already satisfied: urllib3<1.27,>=1.21.1 in c:\\users\\shant\\appdata\\local\\programs\\python\\python310\\lib\\site-packages (from requests<3.0.0dev,>=2.18.0->google-api-core!=2.0.*,!=2.1.*,!=2.2.*,!=2.3.0,<3.0.0dev,>=1.31.5->google-api-python-client>=1.2->pydrive) (1.26.11)\n",
            "Requirement already satisfied: certifi>=2017.4.17 in c:\\users\\shant\\appdata\\local\\programs\\python\\python310\\lib\\site-packages (from requests<3.0.0dev,>=2.18.0->google-api-core!=2.0.*,!=2.1.*,!=2.2.*,!=2.3.0,<3.0.0dev,>=1.31.5->google-api-python-client>=1.2->pydrive) (2022.6.15)\n",
            "Requirement already satisfied: idna<4,>=2.5 in c:\\users\\shant\\appdata\\local\\programs\\python\\python310\\lib\\site-packages (from requests<3.0.0dev,>=2.18.0->google-api-core!=2.0.*,!=2.1.*,!=2.2.*,!=2.3.0,<3.0.0dev,>=1.31.5->google-api-python-client>=1.2->pydrive) (3.3)\n"
          ]
        },
        {
          "name": "stderr",
          "output_type": "stream",
          "text": [
            "\n",
            "[notice] A new release of pip available: 22.2.2 -> 23.1.2\n",
            "[notice] To update, run: python.exe -m pip install --upgrade pip\n"
          ]
        }
      ],
      "source": [
        "! pip install pydrive"
      ]
    },
    {
      "cell_type": "code",
      "execution_count": 3,
      "metadata": {
        "id": "j1ed--YL-IMk"
      },
      "outputs": [],
      "source": [
        "# from pydrive.auth import GoogleAuth\n",
        "# from pydrive.drive import GoogleDrive \n",
        "# author = GoogleAuth()\n",
        "# author.LocalWebserverAuth() \n",
        "# drive = GoogleDrive(author)\n",
        "\n",
        "# file_id = 'https://drive.google.com/file/d/1FCh9R1tCfwqf-7oAYw9d9SbMaZbV9H4G/view?usp=share_link' \n",
        "# file_name='Car details v3.csv'\n",
        "# file = drive.CreateFile({'id': file_id})\n",
        "# file.GetContentFile(file_name)\n",
        "\n",
        "# # Load the CSV file into a pandas dataframe\n",
        "# df = pd.read_csv(file_name)\n",
        "\n"
      ]
    },
    {
      "cell_type": "code",
      "execution_count": 4,
      "metadata": {
        "id": "vFQ0vJwaLAhB"
      },
      "outputs": [],
      "source": [
        "df=pd.read_csv(\"Car details v3.csv\")"
      ]
    },
    {
      "cell_type": "code",
      "execution_count": 5,
      "metadata": {
        "colab": {
          "base_uri": "https://localhost:8080/",
          "height": 389
        },
        "id": "oHx8_qrz-IMl",
        "outputId": "6769ff5f-5da5-4a55-f363-5b1564022023"
      },
      "outputs": [
        {
          "data": {
            "text/html": [
              "<div>\n",
              "<style scoped>\n",
              "    .dataframe tbody tr th:only-of-type {\n",
              "        vertical-align: middle;\n",
              "    }\n",
              "\n",
              "    .dataframe tbody tr th {\n",
              "        vertical-align: top;\n",
              "    }\n",
              "\n",
              "    .dataframe thead th {\n",
              "        text-align: right;\n",
              "    }\n",
              "</style>\n",
              "<table border=\"1\" class=\"dataframe\">\n",
              "  <thead>\n",
              "    <tr style=\"text-align: right;\">\n",
              "      <th></th>\n",
              "      <th>name</th>\n",
              "      <th>year</th>\n",
              "      <th>selling_price</th>\n",
              "      <th>km_driven</th>\n",
              "      <th>fuel</th>\n",
              "      <th>seller_type</th>\n",
              "      <th>transmission</th>\n",
              "      <th>owner</th>\n",
              "      <th>mileage</th>\n",
              "      <th>engine</th>\n",
              "      <th>max_power</th>\n",
              "      <th>torque</th>\n",
              "      <th>seats</th>\n",
              "    </tr>\n",
              "  </thead>\n",
              "  <tbody>\n",
              "    <tr>\n",
              "      <th>0</th>\n",
              "      <td>Maruti Swift Dzire VDI</td>\n",
              "      <td>2014</td>\n",
              "      <td>450000</td>\n",
              "      <td>145500</td>\n",
              "      <td>Diesel</td>\n",
              "      <td>Individual</td>\n",
              "      <td>Manual</td>\n",
              "      <td>First Owner</td>\n",
              "      <td>23.4 kmpl</td>\n",
              "      <td>1248 CC</td>\n",
              "      <td>74 bhp</td>\n",
              "      <td>190Nm@ 2000rpm</td>\n",
              "      <td>5.0</td>\n",
              "    </tr>\n",
              "    <tr>\n",
              "      <th>1</th>\n",
              "      <td>Skoda Rapid 1.5 TDI Ambition</td>\n",
              "      <td>2014</td>\n",
              "      <td>370000</td>\n",
              "      <td>120000</td>\n",
              "      <td>Diesel</td>\n",
              "      <td>Individual</td>\n",
              "      <td>Manual</td>\n",
              "      <td>Second Owner</td>\n",
              "      <td>21.14 kmpl</td>\n",
              "      <td>1498 CC</td>\n",
              "      <td>103.52 bhp</td>\n",
              "      <td>250Nm@ 1500-2500rpm</td>\n",
              "      <td>5.0</td>\n",
              "    </tr>\n",
              "    <tr>\n",
              "      <th>2</th>\n",
              "      <td>Honda City 2017-2020 EXi</td>\n",
              "      <td>2006</td>\n",
              "      <td>158000</td>\n",
              "      <td>140000</td>\n",
              "      <td>Petrol</td>\n",
              "      <td>Individual</td>\n",
              "      <td>Manual</td>\n",
              "      <td>Third Owner</td>\n",
              "      <td>17.7 kmpl</td>\n",
              "      <td>1497 CC</td>\n",
              "      <td>78 bhp</td>\n",
              "      <td>12.7@ 2,700(kgm@ rpm)</td>\n",
              "      <td>5.0</td>\n",
              "    </tr>\n",
              "    <tr>\n",
              "      <th>3</th>\n",
              "      <td>Hyundai i20 Sportz Diesel</td>\n",
              "      <td>2010</td>\n",
              "      <td>225000</td>\n",
              "      <td>127000</td>\n",
              "      <td>Diesel</td>\n",
              "      <td>Individual</td>\n",
              "      <td>Manual</td>\n",
              "      <td>First Owner</td>\n",
              "      <td>23.0 kmpl</td>\n",
              "      <td>1396 CC</td>\n",
              "      <td>90 bhp</td>\n",
              "      <td>22.4 kgm at 1750-2750rpm</td>\n",
              "      <td>5.0</td>\n",
              "    </tr>\n",
              "    <tr>\n",
              "      <th>4</th>\n",
              "      <td>Maruti Swift VXI BSIII</td>\n",
              "      <td>2007</td>\n",
              "      <td>130000</td>\n",
              "      <td>120000</td>\n",
              "      <td>Petrol</td>\n",
              "      <td>Individual</td>\n",
              "      <td>Manual</td>\n",
              "      <td>First Owner</td>\n",
              "      <td>16.1 kmpl</td>\n",
              "      <td>1298 CC</td>\n",
              "      <td>88.2 bhp</td>\n",
              "      <td>11.5@ 4,500(kgm@ rpm)</td>\n",
              "      <td>5.0</td>\n",
              "    </tr>\n",
              "  </tbody>\n",
              "</table>\n",
              "</div>"
            ],
            "text/plain": [
              "                           name  year  selling_price  km_driven    fuel  \\\n",
              "0        Maruti Swift Dzire VDI  2014         450000     145500  Diesel   \n",
              "1  Skoda Rapid 1.5 TDI Ambition  2014         370000     120000  Diesel   \n",
              "2      Honda City 2017-2020 EXi  2006         158000     140000  Petrol   \n",
              "3     Hyundai i20 Sportz Diesel  2010         225000     127000  Diesel   \n",
              "4        Maruti Swift VXI BSIII  2007         130000     120000  Petrol   \n",
              "\n",
              "  seller_type transmission         owner     mileage   engine   max_power  \\\n",
              "0  Individual       Manual   First Owner   23.4 kmpl  1248 CC      74 bhp   \n",
              "1  Individual       Manual  Second Owner  21.14 kmpl  1498 CC  103.52 bhp   \n",
              "2  Individual       Manual   Third Owner   17.7 kmpl  1497 CC      78 bhp   \n",
              "3  Individual       Manual   First Owner   23.0 kmpl  1396 CC      90 bhp   \n",
              "4  Individual       Manual   First Owner   16.1 kmpl  1298 CC    88.2 bhp   \n",
              "\n",
              "                     torque  seats  \n",
              "0            190Nm@ 2000rpm    5.0  \n",
              "1       250Nm@ 1500-2500rpm    5.0  \n",
              "2     12.7@ 2,700(kgm@ rpm)    5.0  \n",
              "3  22.4 kgm at 1750-2750rpm    5.0  \n",
              "4     11.5@ 4,500(kgm@ rpm)    5.0  "
            ]
          },
          "execution_count": 5,
          "metadata": {},
          "output_type": "execute_result"
        }
      ],
      "source": [
        "df.head()"
      ]
    },
    {
      "cell_type": "code",
      "execution_count": 6,
      "metadata": {
        "colab": {
          "base_uri": "https://localhost:8080/",
          "height": 300
        },
        "id": "XRad5ZCl-IMm",
        "outputId": "89118fe8-3242-461a-e669-6a7b751d62b9"
      },
      "outputs": [
        {
          "data": {
            "text/html": [
              "<div>\n",
              "<style scoped>\n",
              "    .dataframe tbody tr th:only-of-type {\n",
              "        vertical-align: middle;\n",
              "    }\n",
              "\n",
              "    .dataframe tbody tr th {\n",
              "        vertical-align: top;\n",
              "    }\n",
              "\n",
              "    .dataframe thead th {\n",
              "        text-align: right;\n",
              "    }\n",
              "</style>\n",
              "<table border=\"1\" class=\"dataframe\">\n",
              "  <thead>\n",
              "    <tr style=\"text-align: right;\">\n",
              "      <th></th>\n",
              "      <th>year</th>\n",
              "      <th>selling_price</th>\n",
              "      <th>km_driven</th>\n",
              "      <th>seats</th>\n",
              "    </tr>\n",
              "  </thead>\n",
              "  <tbody>\n",
              "    <tr>\n",
              "      <th>count</th>\n",
              "      <td>8128.000000</td>\n",
              "      <td>8.128000e+03</td>\n",
              "      <td>8.128000e+03</td>\n",
              "      <td>7907.000000</td>\n",
              "    </tr>\n",
              "    <tr>\n",
              "      <th>mean</th>\n",
              "      <td>2013.804011</td>\n",
              "      <td>6.382718e+05</td>\n",
              "      <td>6.981951e+04</td>\n",
              "      <td>5.416719</td>\n",
              "    </tr>\n",
              "    <tr>\n",
              "      <th>std</th>\n",
              "      <td>4.044249</td>\n",
              "      <td>8.062534e+05</td>\n",
              "      <td>5.655055e+04</td>\n",
              "      <td>0.959588</td>\n",
              "    </tr>\n",
              "    <tr>\n",
              "      <th>min</th>\n",
              "      <td>1983.000000</td>\n",
              "      <td>2.999900e+04</td>\n",
              "      <td>1.000000e+00</td>\n",
              "      <td>2.000000</td>\n",
              "    </tr>\n",
              "    <tr>\n",
              "      <th>25%</th>\n",
              "      <td>2011.000000</td>\n",
              "      <td>2.549990e+05</td>\n",
              "      <td>3.500000e+04</td>\n",
              "      <td>5.000000</td>\n",
              "    </tr>\n",
              "    <tr>\n",
              "      <th>50%</th>\n",
              "      <td>2015.000000</td>\n",
              "      <td>4.500000e+05</td>\n",
              "      <td>6.000000e+04</td>\n",
              "      <td>5.000000</td>\n",
              "    </tr>\n",
              "    <tr>\n",
              "      <th>75%</th>\n",
              "      <td>2017.000000</td>\n",
              "      <td>6.750000e+05</td>\n",
              "      <td>9.800000e+04</td>\n",
              "      <td>5.000000</td>\n",
              "    </tr>\n",
              "    <tr>\n",
              "      <th>max</th>\n",
              "      <td>2020.000000</td>\n",
              "      <td>1.000000e+07</td>\n",
              "      <td>2.360457e+06</td>\n",
              "      <td>14.000000</td>\n",
              "    </tr>\n",
              "  </tbody>\n",
              "</table>\n",
              "</div>"
            ],
            "text/plain": [
              "              year  selling_price     km_driven        seats\n",
              "count  8128.000000   8.128000e+03  8.128000e+03  7907.000000\n",
              "mean   2013.804011   6.382718e+05  6.981951e+04     5.416719\n",
              "std       4.044249   8.062534e+05  5.655055e+04     0.959588\n",
              "min    1983.000000   2.999900e+04  1.000000e+00     2.000000\n",
              "25%    2011.000000   2.549990e+05  3.500000e+04     5.000000\n",
              "50%    2015.000000   4.500000e+05  6.000000e+04     5.000000\n",
              "75%    2017.000000   6.750000e+05  9.800000e+04     5.000000\n",
              "max    2020.000000   1.000000e+07  2.360457e+06    14.000000"
            ]
          },
          "execution_count": 6,
          "metadata": {},
          "output_type": "execute_result"
        }
      ],
      "source": [
        "df.describe()"
      ]
    },
    {
      "cell_type": "code",
      "execution_count": 7,
      "metadata": {
        "colab": {
          "base_uri": "https://localhost:8080/"
        },
        "id": "NPpwfgwi-IMn",
        "outputId": "6e4bbdd4-8460-40ee-a84f-80af7ee8185b"
      },
      "outputs": [
        {
          "data": {
            "text/plain": [
              "(8128, 13)"
            ]
          },
          "execution_count": 7,
          "metadata": {},
          "output_type": "execute_result"
        }
      ],
      "source": [
        "df.shape"
      ]
    },
    {
      "cell_type": "code",
      "execution_count": 8,
      "metadata": {
        "colab": {
          "base_uri": "https://localhost:8080/"
        },
        "id": "QyJeDQdo-IMn",
        "outputId": "320bf366-93d5-4a43-bdca-8c0f3d8969e0"
      },
      "outputs": [
        {
          "name": "stdout",
          "output_type": "stream",
          "text": [
            "<class 'pandas.core.frame.DataFrame'>\n",
            "RangeIndex: 8128 entries, 0 to 8127\n",
            "Data columns (total 13 columns):\n",
            " #   Column         Non-Null Count  Dtype  \n",
            "---  ------         --------------  -----  \n",
            " 0   name           8128 non-null   object \n",
            " 1   year           8128 non-null   int64  \n",
            " 2   selling_price  8128 non-null   int64  \n",
            " 3   km_driven      8128 non-null   int64  \n",
            " 4   fuel           8128 non-null   object \n",
            " 5   seller_type    8128 non-null   object \n",
            " 6   transmission   8128 non-null   object \n",
            " 7   owner          8128 non-null   object \n",
            " 8   mileage        7907 non-null   object \n",
            " 9   engine         7907 non-null   object \n",
            " 10  max_power      7913 non-null   object \n",
            " 11  torque         7906 non-null   object \n",
            " 12  seats          7907 non-null   float64\n",
            "dtypes: float64(1), int64(3), object(9)\n",
            "memory usage: 825.6+ KB\n"
          ]
        }
      ],
      "source": [
        "df.info()"
      ]
    },
    {
      "cell_type": "code",
      "execution_count": 9,
      "metadata": {
        "colab": {
          "base_uri": "https://localhost:8080/"
        },
        "id": "QhjEUWKw-IMn",
        "outputId": "f4df857d-f3b5-42ba-a8af-07221b5935c0"
      },
      "outputs": [
        {
          "data": {
            "text/plain": [
              "Index(['name', 'year', 'selling_price', 'km_driven', 'fuel', 'seller_type',\n",
              "       'transmission', 'owner', 'mileage', 'engine', 'max_power', 'torque',\n",
              "       'seats'],\n",
              "      dtype='object')"
            ]
          },
          "execution_count": 9,
          "metadata": {},
          "output_type": "execute_result"
        }
      ],
      "source": [
        "df.columns"
      ]
    },
    {
      "cell_type": "code",
      "execution_count": 10,
      "metadata": {
        "colab": {
          "base_uri": "https://localhost:8080/"
        },
        "id": "LyFRxfpgZSbe",
        "outputId": "e0428a7f-2084-4bba-86ac-bc19e84c43be"
      },
      "outputs": [
        {
          "data": {
            "text/plain": [
              "name               0\n",
              "year               0\n",
              "selling_price      0\n",
              "km_driven          0\n",
              "fuel               0\n",
              "seller_type        0\n",
              "transmission       0\n",
              "owner              0\n",
              "mileage          221\n",
              "engine           221\n",
              "max_power        215\n",
              "torque           222\n",
              "seats            221\n",
              "dtype: int64"
            ]
          },
          "execution_count": 10,
          "metadata": {},
          "output_type": "execute_result"
        }
      ],
      "source": [
        "df.isnull().sum()"
      ]
    },
    {
      "cell_type": "code",
      "execution_count": null,
      "metadata": {
        "id": "DKIeSuldZcPd"
      },
      "outputs": [],
      "source": []
    },
    {
      "cell_type": "code",
      "execution_count": 11,
      "metadata": {
        "id": "XcutUSqH-IMn"
      },
      "outputs": [],
      "source": [
        "df.dropna(inplace=True)"
      ]
    },
    {
      "cell_type": "code",
      "execution_count": 12,
      "metadata": {
        "colab": {
          "base_uri": "https://localhost:8080/"
        },
        "id": "H15XJ94TV-QU",
        "outputId": "011e34aa-f134-43e4-b037-85e17fbbeb0e"
      },
      "outputs": [
        {
          "data": {
            "text/plain": [
              "(7906, 13)"
            ]
          },
          "execution_count": 12,
          "metadata": {},
          "output_type": "execute_result"
        }
      ],
      "source": [
        "df.shape"
      ]
    },
    {
      "cell_type": "code",
      "execution_count": 13,
      "metadata": {
        "colab": {
          "base_uri": "https://localhost:8080/"
        },
        "id": "IOnoCBOQ-IMo",
        "outputId": "d546280c-3b47-425b-9f05-e83ee2adffa4"
      },
      "outputs": [
        {
          "name": "stdout",
          "output_type": "stream",
          "text": [
            "Diesel    4299\n",
            "Petrol    3520\n",
            "CNG         52\n",
            "LPG         35\n",
            "Name: fuel, dtype: int64\n",
            "Individual          6563\n",
            "Dealer              1107\n",
            "Trustmark Dealer     236\n",
            "Name: seller_type, dtype: int64\n",
            "Manual       6865\n",
            "Automatic    1041\n",
            "Name: transmission, dtype: int64\n",
            "5.0     6254\n",
            "7.0     1120\n",
            "8.0      235\n",
            "4.0      133\n",
            "9.0       80\n",
            "6.0       62\n",
            "10.0      19\n",
            "2.0        2\n",
            "14.0       1\n",
            "Name: seats, dtype: int64\n",
            "18.9 kmpl      225\n",
            "19.7 kmpl      173\n",
            "18.6 kmpl      164\n",
            "21.1 kmpl      157\n",
            "17.0 kmpl      133\n",
            "              ... \n",
            "16.34 kmpl       1\n",
            "19.69 kmpl       1\n",
            "20.88 km/kg      1\n",
            "17.8 km/kg       1\n",
            "16.51 kmpl       1\n",
            "Name: mileage, Length: 393, dtype: int64\n",
            "Maruti Swift Dzire VDI                          129\n",
            "Maruti Alto 800 LXI                              82\n",
            "Maruti Alto LXi                                  71\n",
            "BMW X4 M Sport X xDrive20d                       62\n",
            "Maruti Swift VDI                                 61\n",
            "                                               ... \n",
            "Honda Jazz 1.2 S AT i VTEC                        1\n",
            "Hyundai i20 Active 1.2 SX with AVN                1\n",
            "Ambassador CLASSIC 1500 DSL AC                    1\n",
            "Tata Harrier XZ Dark Edition BSIV                 1\n",
            "Toyota Innova 2.5 GX (Diesel) 8 Seater BS IV      1\n",
            "Name: name, Length: 1982, dtype: int64\n",
            "First Owner             5215\n",
            "Second Owner            2016\n",
            "Third Owner              510\n",
            "Fourth & Above Owner     160\n",
            "Test Drive Car             5\n",
            "Name: owner, dtype: int64\n"
          ]
        }
      ],
      "source": [
        "print(df['fuel'].value_counts())\n",
        "print(df['seller_type'].value_counts())\n",
        "print(df['transmission'].value_counts())\n",
        "print(df['seats'].value_counts())\n",
        "print(df['mileage'].value_counts())\n",
        "print(df['name'].value_counts())\n",
        "print(df['owner'].value_counts())"
      ]
    },
    {
      "cell_type": "code",
      "execution_count": 14,
      "metadata": {
        "colab": {
          "base_uri": "https://localhost:8080/"
        },
        "id": "QZV45bRq0dpE",
        "outputId": "966d95c6-0281-4f13-ee51-4c11f75ce3a1"
      },
      "outputs": [
        {
          "name": "stdout",
          "output_type": "stream",
          "text": [
            "0        23.4\n",
            "1       21.14\n",
            "2        17.7\n",
            "3        23.0\n",
            "4        16.1\n",
            "        ...  \n",
            "8123     18.5\n",
            "8124     16.8\n",
            "8125     19.3\n",
            "8126    23.57\n",
            "8127    23.57\n",
            "Name: mileage, Length: 7906, dtype: object\n",
            "0       23.40\n",
            "1       21.14\n",
            "2       17.70\n",
            "3       23.00\n",
            "4       16.10\n",
            "        ...  \n",
            "8123    18.50\n",
            "8124    16.80\n",
            "8125    19.30\n",
            "8126    23.57\n",
            "8127    23.57\n",
            "Name: mileage, Length: 7906, dtype: float64\n",
            "      year  selling_price  km_driven    fuel seller_type transmission  \\\n",
            "0     2014         450000     145500  Diesel  Individual       Manual   \n",
            "1     2014         370000     120000  Diesel  Individual       Manual   \n",
            "2     2006         158000     140000  Petrol  Individual       Manual   \n",
            "3     2010         225000     127000  Diesel  Individual       Manual   \n",
            "4     2007         130000     120000  Petrol  Individual       Manual   \n",
            "...    ...            ...        ...     ...         ...          ...   \n",
            "8123  2013         320000     110000  Petrol  Individual       Manual   \n",
            "8124  2007         135000     119000  Diesel  Individual       Manual   \n",
            "8125  2009         382000     120000  Diesel  Individual       Manual   \n",
            "8126  2013         290000      25000  Diesel  Individual       Manual   \n",
            "8127  2013         290000      25000  Diesel  Individual       Manual   \n",
            "\n",
            "                     owner  mileage  seats    Brand                   Model  \n",
            "0              First Owner    23.40    5.0   Maruti         Swift Dzire VDI  \n",
            "1             Second Owner    21.14    5.0    Skoda  Rapid 1.5 TDI Ambition  \n",
            "2              Third Owner    17.70    5.0    Honda      City 2017-2020 EXi  \n",
            "3              First Owner    23.00    5.0  Hyundai       i20 Sportz Diesel  \n",
            "4              First Owner    16.10    5.0   Maruti         Swift VXI BSIII  \n",
            "...                    ...      ...    ...      ...                     ...  \n",
            "8123           First Owner    18.50    5.0  Hyundai               i20 Magna  \n",
            "8124  Fourth & Above Owner    16.80    5.0  Hyundai           Verna CRDi SX  \n",
            "8125           First Owner    19.30    5.0   Maruti         Swift Dzire ZDi  \n",
            "8126           First Owner    23.57    5.0     Tata              Indigo CR4  \n",
            "8127           First Owner    23.57    5.0     Tata              Indigo CR4  \n",
            "\n",
            "[7906 rows x 11 columns]\n"
          ]
        },
        {
          "name": "stderr",
          "output_type": "stream",
          "text": [
            "C:\\Users\\shant\\AppData\\Local\\Temp\\ipykernel_14396\\3517751090.py:3: FutureWarning: In a future version of pandas all arguments of StringMethods.split except for the argument 'pat' will be keyword-only.\n",
            "  df[['Brand', 'Model']] = df['name'].str.split(' ', 1, expand=True)\n"
          ]
        }
      ],
      "source": [
        "#Drop some columns that actually not need i.e. engine,seats,torque\n",
        "#in that  case we will different comapnay name and model \n",
        "df[['Brand', 'Model']] = df['name'].str.split(' ', 1, expand=True)\n",
        "df['mileage']=df['mileage'].str.split(' ').str.get(0)\n",
        "print(df['mileage'])\n",
        "df['mileage']=df['mileage'].astype(float)\n",
        "print(df['mileage'])\n",
        "df=df.drop(['name'],axis=1)\n",
        "df=df.drop(['torque','engine','max_power'],axis=1)\n",
        "print(df)"
      ]
    },
    {
      "cell_type": "code",
      "execution_count": 15,
      "metadata": {
        "colab": {
          "base_uri": "https://localhost:8080/"
        },
        "id": "WB1QQyD04-BP",
        "outputId": "bec46e94-a9d1-49f8-dfea-bab8491ca08d"
      },
      "outputs": [
        {
          "name": "stdout",
          "output_type": "stream",
          "text": [
            "Maruti           2367\n",
            "Hyundai          1360\n",
            "Mahindra          758\n",
            "Tata              719\n",
            "Honda             466\n",
            "Toyota            452\n",
            "Ford              388\n",
            "Chevrolet         230\n",
            "Renault           228\n",
            "Volkswagen        185\n",
            "BMW               118\n",
            "Skoda             104\n",
            "Nissan             81\n",
            "Jaguar             71\n",
            "Volvo              67\n",
            "Datsun             65\n",
            "Mercedes-Benz      54\n",
            "Fiat               41\n",
            "Audi               40\n",
            "Lexus              34\n",
            "Jeep               31\n",
            "Mitsubishi         14\n",
            "Force               6\n",
            "Land                6\n",
            "Isuzu               5\n",
            "Kia                 4\n",
            "Ambassador          4\n",
            "Daewoo              3\n",
            "MG                  3\n",
            "Ashok               1\n",
            "Opel                1\n",
            "Name: Brand, dtype: int64\n",
            "Swift Dzire VDI                          129\n",
            "Alto 800 LXI                              82\n",
            "Alto LXi                                  71\n",
            "X4 M Sport X xDrive20d                    62\n",
            "Swift VDI                                 61\n",
            "                                        ... \n",
            "Jazz 1.2 S AT i VTEC                       1\n",
            "i20 Active 1.2 SX with AVN                 1\n",
            "CLASSIC 1500 DSL AC                        1\n",
            "Harrier XZ Dark Edition BSIV               1\n",
            "Innova 2.5 GX (Diesel) 8 Seater BS IV      1\n",
            "Name: Model, Length: 1982, dtype: int64\n"
          ]
        }
      ],
      "source": [
        "print(df['Brand'].value_counts())\n",
        "print(df['Model'].value_counts())"
      ]
    },
    {
      "cell_type": "code",
      "execution_count": 16,
      "metadata": {
        "id": "gEJxzQRingge"
      },
      "outputs": [],
      "source": [
        "df[\"make_country\"] = 'Other'\n",
        "df.loc[df.Brand.isin(['Maruti', 'Mahindra', 'Tata', 'Force', 'Ambassador', 'Ashok']), \"make_country\"] = 'India'\n",
        "df.loc[df.Brand.isin(['Honda', 'Toyota', 'Nissan', 'Lexus', 'Isuzu', 'Mitsubishi', 'Datsun']), \"make_country\"] = 'Japan'\n",
        "df.loc[df.Brand.isin([ 'Ford', 'Chevrolet', 'Jeep']), \"make_country\"] = 'America'\n",
        "df.loc[df.Brand.isin([ 'Kia', 'Daewoo','Hyundai']), \"make_country\"] = 'South Korea'\n",
        "df.loc[df.Brand.isin(['Volkswagen', 'BMW', 'Skoda', 'Mercedes-Benz', 'Audi', 'Opel']), \"make_country\"] = 'Germany'\n",
        "df.loc[df.Brand.isin(['Jaguar', 'Land']), \"make_country\"] = 'UK'\n",
        "df.loc[df.Brand.isin(['Volvo','MG','Fiat','Renault']), \"make_country\"] = 'Other'\n"
      ]
    },
    {
      "cell_type": "code",
      "execution_count": 17,
      "metadata": {
        "colab": {
          "base_uri": "https://localhost:8080/",
          "height": 502
        },
        "id": "MOVnkuUv1Xj5",
        "outputId": "1bf48b67-df23-4616-8c64-d8a626216102"
      },
      "outputs": [
        {
          "data": {
            "text/html": [
              "<div>\n",
              "<style scoped>\n",
              "    .dataframe tbody tr th:only-of-type {\n",
              "        vertical-align: middle;\n",
              "    }\n",
              "\n",
              "    .dataframe tbody tr th {\n",
              "        vertical-align: top;\n",
              "    }\n",
              "\n",
              "    .dataframe thead th {\n",
              "        text-align: right;\n",
              "    }\n",
              "</style>\n",
              "<table border=\"1\" class=\"dataframe\">\n",
              "  <thead>\n",
              "    <tr style=\"text-align: right;\">\n",
              "      <th></th>\n",
              "      <th>year</th>\n",
              "      <th>selling_price</th>\n",
              "      <th>km_driven</th>\n",
              "      <th>fuel</th>\n",
              "      <th>seller_type</th>\n",
              "      <th>transmission</th>\n",
              "      <th>owner</th>\n",
              "      <th>mileage</th>\n",
              "      <th>seats</th>\n",
              "      <th>Brand</th>\n",
              "      <th>Model</th>\n",
              "      <th>make_country</th>\n",
              "    </tr>\n",
              "  </thead>\n",
              "  <tbody>\n",
              "    <tr>\n",
              "      <th>0</th>\n",
              "      <td>2014</td>\n",
              "      <td>450000</td>\n",
              "      <td>145500</td>\n",
              "      <td>Diesel</td>\n",
              "      <td>Individual</td>\n",
              "      <td>Manual</td>\n",
              "      <td>First Owner</td>\n",
              "      <td>23.40</td>\n",
              "      <td>5.0</td>\n",
              "      <td>Maruti</td>\n",
              "      <td>Swift Dzire VDI</td>\n",
              "      <td>India</td>\n",
              "    </tr>\n",
              "    <tr>\n",
              "      <th>1</th>\n",
              "      <td>2014</td>\n",
              "      <td>370000</td>\n",
              "      <td>120000</td>\n",
              "      <td>Diesel</td>\n",
              "      <td>Individual</td>\n",
              "      <td>Manual</td>\n",
              "      <td>Second Owner</td>\n",
              "      <td>21.14</td>\n",
              "      <td>5.0</td>\n",
              "      <td>Skoda</td>\n",
              "      <td>Rapid 1.5 TDI Ambition</td>\n",
              "      <td>Germany</td>\n",
              "    </tr>\n",
              "    <tr>\n",
              "      <th>2</th>\n",
              "      <td>2006</td>\n",
              "      <td>158000</td>\n",
              "      <td>140000</td>\n",
              "      <td>Petrol</td>\n",
              "      <td>Individual</td>\n",
              "      <td>Manual</td>\n",
              "      <td>Third Owner</td>\n",
              "      <td>17.70</td>\n",
              "      <td>5.0</td>\n",
              "      <td>Honda</td>\n",
              "      <td>City 2017-2020 EXi</td>\n",
              "      <td>Japan</td>\n",
              "    </tr>\n",
              "    <tr>\n",
              "      <th>3</th>\n",
              "      <td>2010</td>\n",
              "      <td>225000</td>\n",
              "      <td>127000</td>\n",
              "      <td>Diesel</td>\n",
              "      <td>Individual</td>\n",
              "      <td>Manual</td>\n",
              "      <td>First Owner</td>\n",
              "      <td>23.00</td>\n",
              "      <td>5.0</td>\n",
              "      <td>Hyundai</td>\n",
              "      <td>i20 Sportz Diesel</td>\n",
              "      <td>South Korea</td>\n",
              "    </tr>\n",
              "    <tr>\n",
              "      <th>4</th>\n",
              "      <td>2007</td>\n",
              "      <td>130000</td>\n",
              "      <td>120000</td>\n",
              "      <td>Petrol</td>\n",
              "      <td>Individual</td>\n",
              "      <td>Manual</td>\n",
              "      <td>First Owner</td>\n",
              "      <td>16.10</td>\n",
              "      <td>5.0</td>\n",
              "      <td>Maruti</td>\n",
              "      <td>Swift VXI BSIII</td>\n",
              "      <td>India</td>\n",
              "    </tr>\n",
              "    <tr>\n",
              "      <th>...</th>\n",
              "      <td>...</td>\n",
              "      <td>...</td>\n",
              "      <td>...</td>\n",
              "      <td>...</td>\n",
              "      <td>...</td>\n",
              "      <td>...</td>\n",
              "      <td>...</td>\n",
              "      <td>...</td>\n",
              "      <td>...</td>\n",
              "      <td>...</td>\n",
              "      <td>...</td>\n",
              "      <td>...</td>\n",
              "    </tr>\n",
              "    <tr>\n",
              "      <th>8123</th>\n",
              "      <td>2013</td>\n",
              "      <td>320000</td>\n",
              "      <td>110000</td>\n",
              "      <td>Petrol</td>\n",
              "      <td>Individual</td>\n",
              "      <td>Manual</td>\n",
              "      <td>First Owner</td>\n",
              "      <td>18.50</td>\n",
              "      <td>5.0</td>\n",
              "      <td>Hyundai</td>\n",
              "      <td>i20 Magna</td>\n",
              "      <td>South Korea</td>\n",
              "    </tr>\n",
              "    <tr>\n",
              "      <th>8124</th>\n",
              "      <td>2007</td>\n",
              "      <td>135000</td>\n",
              "      <td>119000</td>\n",
              "      <td>Diesel</td>\n",
              "      <td>Individual</td>\n",
              "      <td>Manual</td>\n",
              "      <td>Fourth &amp; Above Owner</td>\n",
              "      <td>16.80</td>\n",
              "      <td>5.0</td>\n",
              "      <td>Hyundai</td>\n",
              "      <td>Verna CRDi SX</td>\n",
              "      <td>South Korea</td>\n",
              "    </tr>\n",
              "    <tr>\n",
              "      <th>8125</th>\n",
              "      <td>2009</td>\n",
              "      <td>382000</td>\n",
              "      <td>120000</td>\n",
              "      <td>Diesel</td>\n",
              "      <td>Individual</td>\n",
              "      <td>Manual</td>\n",
              "      <td>First Owner</td>\n",
              "      <td>19.30</td>\n",
              "      <td>5.0</td>\n",
              "      <td>Maruti</td>\n",
              "      <td>Swift Dzire ZDi</td>\n",
              "      <td>India</td>\n",
              "    </tr>\n",
              "    <tr>\n",
              "      <th>8126</th>\n",
              "      <td>2013</td>\n",
              "      <td>290000</td>\n",
              "      <td>25000</td>\n",
              "      <td>Diesel</td>\n",
              "      <td>Individual</td>\n",
              "      <td>Manual</td>\n",
              "      <td>First Owner</td>\n",
              "      <td>23.57</td>\n",
              "      <td>5.0</td>\n",
              "      <td>Tata</td>\n",
              "      <td>Indigo CR4</td>\n",
              "      <td>India</td>\n",
              "    </tr>\n",
              "    <tr>\n",
              "      <th>8127</th>\n",
              "      <td>2013</td>\n",
              "      <td>290000</td>\n",
              "      <td>25000</td>\n",
              "      <td>Diesel</td>\n",
              "      <td>Individual</td>\n",
              "      <td>Manual</td>\n",
              "      <td>First Owner</td>\n",
              "      <td>23.57</td>\n",
              "      <td>5.0</td>\n",
              "      <td>Tata</td>\n",
              "      <td>Indigo CR4</td>\n",
              "      <td>India</td>\n",
              "    </tr>\n",
              "  </tbody>\n",
              "</table>\n",
              "<p>7906 rows × 12 columns</p>\n",
              "</div>"
            ],
            "text/plain": [
              "      year  selling_price  km_driven    fuel seller_type transmission  \\\n",
              "0     2014         450000     145500  Diesel  Individual       Manual   \n",
              "1     2014         370000     120000  Diesel  Individual       Manual   \n",
              "2     2006         158000     140000  Petrol  Individual       Manual   \n",
              "3     2010         225000     127000  Diesel  Individual       Manual   \n",
              "4     2007         130000     120000  Petrol  Individual       Manual   \n",
              "...    ...            ...        ...     ...         ...          ...   \n",
              "8123  2013         320000     110000  Petrol  Individual       Manual   \n",
              "8124  2007         135000     119000  Diesel  Individual       Manual   \n",
              "8125  2009         382000     120000  Diesel  Individual       Manual   \n",
              "8126  2013         290000      25000  Diesel  Individual       Manual   \n",
              "8127  2013         290000      25000  Diesel  Individual       Manual   \n",
              "\n",
              "                     owner  mileage  seats    Brand                   Model  \\\n",
              "0              First Owner    23.40    5.0   Maruti         Swift Dzire VDI   \n",
              "1             Second Owner    21.14    5.0    Skoda  Rapid 1.5 TDI Ambition   \n",
              "2              Third Owner    17.70    5.0    Honda      City 2017-2020 EXi   \n",
              "3              First Owner    23.00    5.0  Hyundai       i20 Sportz Diesel   \n",
              "4              First Owner    16.10    5.0   Maruti         Swift VXI BSIII   \n",
              "...                    ...      ...    ...      ...                     ...   \n",
              "8123           First Owner    18.50    5.0  Hyundai               i20 Magna   \n",
              "8124  Fourth & Above Owner    16.80    5.0  Hyundai           Verna CRDi SX   \n",
              "8125           First Owner    19.30    5.0   Maruti         Swift Dzire ZDi   \n",
              "8126           First Owner    23.57    5.0     Tata              Indigo CR4   \n",
              "8127           First Owner    23.57    5.0     Tata              Indigo CR4   \n",
              "\n",
              "     make_country  \n",
              "0           India  \n",
              "1         Germany  \n",
              "2           Japan  \n",
              "3     South Korea  \n",
              "4           India  \n",
              "...           ...  \n",
              "8123  South Korea  \n",
              "8124  South Korea  \n",
              "8125        India  \n",
              "8126        India  \n",
              "8127        India  \n",
              "\n",
              "[7906 rows x 12 columns]"
            ]
          },
          "execution_count": 17,
          "metadata": {},
          "output_type": "execute_result"
        }
      ],
      "source": [
        "df"
      ]
    },
    {
      "cell_type": "code",
      "execution_count": 18,
      "metadata": {
        "colab": {
          "base_uri": "https://localhost:8080/",
          "height": 502
        },
        "id": "QomNiwWCq_ZE",
        "outputId": "edba033d-003b-4184-fbdf-2ddc6cefffaa"
      },
      "outputs": [
        {
          "data": {
            "text/html": [
              "<div>\n",
              "<style scoped>\n",
              "    .dataframe tbody tr th:only-of-type {\n",
              "        vertical-align: middle;\n",
              "    }\n",
              "\n",
              "    .dataframe tbody tr th {\n",
              "        vertical-align: top;\n",
              "    }\n",
              "\n",
              "    .dataframe thead th {\n",
              "        text-align: right;\n",
              "    }\n",
              "</style>\n",
              "<table border=\"1\" class=\"dataframe\">\n",
              "  <thead>\n",
              "    <tr style=\"text-align: right;\">\n",
              "      <th></th>\n",
              "      <th>year</th>\n",
              "      <th>selling_price</th>\n",
              "      <th>km_driven</th>\n",
              "      <th>fuel</th>\n",
              "      <th>seller_type</th>\n",
              "      <th>transmission</th>\n",
              "      <th>owner</th>\n",
              "      <th>mileage</th>\n",
              "      <th>seats</th>\n",
              "      <th>Brand</th>\n",
              "      <th>Model</th>\n",
              "      <th>make_country</th>\n",
              "    </tr>\n",
              "  </thead>\n",
              "  <tbody>\n",
              "    <tr>\n",
              "      <th>0</th>\n",
              "      <td>2014</td>\n",
              "      <td>450000</td>\n",
              "      <td>145500</td>\n",
              "      <td>Diesel</td>\n",
              "      <td>Individual</td>\n",
              "      <td>Manual</td>\n",
              "      <td>First Owner</td>\n",
              "      <td>23.40</td>\n",
              "      <td>5.0</td>\n",
              "      <td>Maruti</td>\n",
              "      <td>Swift Dzire VDI</td>\n",
              "      <td>India</td>\n",
              "    </tr>\n",
              "    <tr>\n",
              "      <th>1</th>\n",
              "      <td>2014</td>\n",
              "      <td>370000</td>\n",
              "      <td>120000</td>\n",
              "      <td>Diesel</td>\n",
              "      <td>Individual</td>\n",
              "      <td>Manual</td>\n",
              "      <td>Second Owner</td>\n",
              "      <td>21.14</td>\n",
              "      <td>5.0</td>\n",
              "      <td>Skoda</td>\n",
              "      <td>Rapid 1.5 TDI Ambition</td>\n",
              "      <td>Germany</td>\n",
              "    </tr>\n",
              "    <tr>\n",
              "      <th>2</th>\n",
              "      <td>2006</td>\n",
              "      <td>158000</td>\n",
              "      <td>140000</td>\n",
              "      <td>Petrol</td>\n",
              "      <td>Individual</td>\n",
              "      <td>Manual</td>\n",
              "      <td>Third Owner</td>\n",
              "      <td>17.70</td>\n",
              "      <td>5.0</td>\n",
              "      <td>Honda</td>\n",
              "      <td>City 2017-2020 EXi</td>\n",
              "      <td>Japan</td>\n",
              "    </tr>\n",
              "    <tr>\n",
              "      <th>3</th>\n",
              "      <td>2010</td>\n",
              "      <td>225000</td>\n",
              "      <td>127000</td>\n",
              "      <td>Diesel</td>\n",
              "      <td>Individual</td>\n",
              "      <td>Manual</td>\n",
              "      <td>First Owner</td>\n",
              "      <td>23.00</td>\n",
              "      <td>5.0</td>\n",
              "      <td>Hyundai</td>\n",
              "      <td>i20 Sportz Diesel</td>\n",
              "      <td>South Korea</td>\n",
              "    </tr>\n",
              "    <tr>\n",
              "      <th>4</th>\n",
              "      <td>2007</td>\n",
              "      <td>130000</td>\n",
              "      <td>120000</td>\n",
              "      <td>Petrol</td>\n",
              "      <td>Individual</td>\n",
              "      <td>Manual</td>\n",
              "      <td>First Owner</td>\n",
              "      <td>16.10</td>\n",
              "      <td>5.0</td>\n",
              "      <td>Maruti</td>\n",
              "      <td>Swift VXI BSIII</td>\n",
              "      <td>India</td>\n",
              "    </tr>\n",
              "    <tr>\n",
              "      <th>...</th>\n",
              "      <td>...</td>\n",
              "      <td>...</td>\n",
              "      <td>...</td>\n",
              "      <td>...</td>\n",
              "      <td>...</td>\n",
              "      <td>...</td>\n",
              "      <td>...</td>\n",
              "      <td>...</td>\n",
              "      <td>...</td>\n",
              "      <td>...</td>\n",
              "      <td>...</td>\n",
              "      <td>...</td>\n",
              "    </tr>\n",
              "    <tr>\n",
              "      <th>8123</th>\n",
              "      <td>2013</td>\n",
              "      <td>320000</td>\n",
              "      <td>110000</td>\n",
              "      <td>Petrol</td>\n",
              "      <td>Individual</td>\n",
              "      <td>Manual</td>\n",
              "      <td>First Owner</td>\n",
              "      <td>18.50</td>\n",
              "      <td>5.0</td>\n",
              "      <td>Hyundai</td>\n",
              "      <td>i20 Magna</td>\n",
              "      <td>South Korea</td>\n",
              "    </tr>\n",
              "    <tr>\n",
              "      <th>8124</th>\n",
              "      <td>2007</td>\n",
              "      <td>135000</td>\n",
              "      <td>119000</td>\n",
              "      <td>Diesel</td>\n",
              "      <td>Individual</td>\n",
              "      <td>Manual</td>\n",
              "      <td>Fourth &amp; Above Owner</td>\n",
              "      <td>16.80</td>\n",
              "      <td>5.0</td>\n",
              "      <td>Hyundai</td>\n",
              "      <td>Verna CRDi SX</td>\n",
              "      <td>South Korea</td>\n",
              "    </tr>\n",
              "    <tr>\n",
              "      <th>8125</th>\n",
              "      <td>2009</td>\n",
              "      <td>382000</td>\n",
              "      <td>120000</td>\n",
              "      <td>Diesel</td>\n",
              "      <td>Individual</td>\n",
              "      <td>Manual</td>\n",
              "      <td>First Owner</td>\n",
              "      <td>19.30</td>\n",
              "      <td>5.0</td>\n",
              "      <td>Maruti</td>\n",
              "      <td>Swift Dzire ZDi</td>\n",
              "      <td>India</td>\n",
              "    </tr>\n",
              "    <tr>\n",
              "      <th>8126</th>\n",
              "      <td>2013</td>\n",
              "      <td>290000</td>\n",
              "      <td>25000</td>\n",
              "      <td>Diesel</td>\n",
              "      <td>Individual</td>\n",
              "      <td>Manual</td>\n",
              "      <td>First Owner</td>\n",
              "      <td>23.57</td>\n",
              "      <td>5.0</td>\n",
              "      <td>Tata</td>\n",
              "      <td>Indigo CR4</td>\n",
              "      <td>India</td>\n",
              "    </tr>\n",
              "    <tr>\n",
              "      <th>8127</th>\n",
              "      <td>2013</td>\n",
              "      <td>290000</td>\n",
              "      <td>25000</td>\n",
              "      <td>Diesel</td>\n",
              "      <td>Individual</td>\n",
              "      <td>Manual</td>\n",
              "      <td>First Owner</td>\n",
              "      <td>23.57</td>\n",
              "      <td>5.0</td>\n",
              "      <td>Tata</td>\n",
              "      <td>Indigo CR4</td>\n",
              "      <td>India</td>\n",
              "    </tr>\n",
              "  </tbody>\n",
              "</table>\n",
              "<p>7906 rows × 12 columns</p>\n",
              "</div>"
            ],
            "text/plain": [
              "      year  selling_price  km_driven    fuel seller_type transmission  \\\n",
              "0     2014         450000     145500  Diesel  Individual       Manual   \n",
              "1     2014         370000     120000  Diesel  Individual       Manual   \n",
              "2     2006         158000     140000  Petrol  Individual       Manual   \n",
              "3     2010         225000     127000  Diesel  Individual       Manual   \n",
              "4     2007         130000     120000  Petrol  Individual       Manual   \n",
              "...    ...            ...        ...     ...         ...          ...   \n",
              "8123  2013         320000     110000  Petrol  Individual       Manual   \n",
              "8124  2007         135000     119000  Diesel  Individual       Manual   \n",
              "8125  2009         382000     120000  Diesel  Individual       Manual   \n",
              "8126  2013         290000      25000  Diesel  Individual       Manual   \n",
              "8127  2013         290000      25000  Diesel  Individual       Manual   \n",
              "\n",
              "                     owner  mileage  seats    Brand                   Model  \\\n",
              "0              First Owner    23.40    5.0   Maruti         Swift Dzire VDI   \n",
              "1             Second Owner    21.14    5.0    Skoda  Rapid 1.5 TDI Ambition   \n",
              "2              Third Owner    17.70    5.0    Honda      City 2017-2020 EXi   \n",
              "3              First Owner    23.00    5.0  Hyundai       i20 Sportz Diesel   \n",
              "4              First Owner    16.10    5.0   Maruti         Swift VXI BSIII   \n",
              "...                    ...      ...    ...      ...                     ...   \n",
              "8123           First Owner    18.50    5.0  Hyundai               i20 Magna   \n",
              "8124  Fourth & Above Owner    16.80    5.0  Hyundai           Verna CRDi SX   \n",
              "8125           First Owner    19.30    5.0   Maruti         Swift Dzire ZDi   \n",
              "8126           First Owner    23.57    5.0     Tata              Indigo CR4   \n",
              "8127           First Owner    23.57    5.0     Tata              Indigo CR4   \n",
              "\n",
              "     make_country  \n",
              "0           India  \n",
              "1         Germany  \n",
              "2           Japan  \n",
              "3     South Korea  \n",
              "4           India  \n",
              "...           ...  \n",
              "8123  South Korea  \n",
              "8124  South Korea  \n",
              "8125        India  \n",
              "8126        India  \n",
              "8127        India  \n",
              "\n",
              "[7906 rows x 12 columns]"
            ]
          },
          "execution_count": 18,
          "metadata": {},
          "output_type": "execute_result"
        }
      ],
      "source": [
        "df.dropna()"
      ]
    },
    {
      "cell_type": "code",
      "execution_count": 19,
      "metadata": {
        "colab": {
          "base_uri": "https://localhost:8080/"
        },
        "id": "eW3Xdc3P6lyz",
        "outputId": "787ddc8e-13de-463f-a4fb-f1ac689466d9"
      },
      "outputs": [
        {
          "name": "stdout",
          "output_type": "stream",
          "text": [
            "      year  selling_price  km_driven    fuel seller_type transmission  \\\n",
            "0     2014         450000     145500  Diesel  Individual       Manual   \n",
            "1     2014         370000     120000  Diesel  Individual       Manual   \n",
            "2     2006         158000     140000  Petrol  Individual       Manual   \n",
            "3     2010         225000     127000  Diesel  Individual       Manual   \n",
            "4     2007         130000     120000  Petrol  Individual       Manual   \n",
            "...    ...            ...        ...     ...         ...          ...   \n",
            "8121  2013         260000      50000  Petrol  Individual       Manual   \n",
            "8122  2014         475000      80000  Diesel  Individual       Manual   \n",
            "8123  2013         320000     110000  Petrol  Individual       Manual   \n",
            "8124  2007         135000     119000  Diesel  Individual       Manual   \n",
            "8125  2009         382000     120000  Diesel  Individual       Manual   \n",
            "\n",
            "                     owner  mileage  seats    Brand  \\\n",
            "0              First Owner    23.40    5.0   Maruti   \n",
            "1             Second Owner    21.14    5.0    Skoda   \n",
            "2              Third Owner    17.70    5.0    Honda   \n",
            "3              First Owner    23.00    5.0  Hyundai   \n",
            "4              First Owner    16.10    5.0   Maruti   \n",
            "...                    ...      ...    ...      ...   \n",
            "8121          Second Owner    18.90    5.0   Maruti   \n",
            "8122          Second Owner    22.54    5.0  Hyundai   \n",
            "8123           First Owner    18.50    5.0  Hyundai   \n",
            "8124  Fourth & Above Owner    16.80    5.0  Hyundai   \n",
            "8125           First Owner    19.30    5.0   Maruti   \n",
            "\n",
            "                           Model make_country  \n",
            "0                Swift Dzire VDI        India  \n",
            "1         Rapid 1.5 TDI Ambition      Germany  \n",
            "2             City 2017-2020 EXi        Japan  \n",
            "3              i20 Sportz Diesel  South Korea  \n",
            "4                Swift VXI BSIII        India  \n",
            "...                          ...          ...  \n",
            "8121  Wagon R VXI BS IV with ABS        India  \n",
            "8122          i20 Magna 1.4 CRDi  South Korea  \n",
            "8123                   i20 Magna  South Korea  \n",
            "8124               Verna CRDi SX  South Korea  \n",
            "8125             Swift Dzire ZDi        India  \n",
            "\n",
            "[6717 rows x 12 columns]\n"
          ]
        }
      ],
      "source": [
        "df=df.drop_duplicates()\n",
        "print(df)\n",
        "df=df.reset_index(drop=True)"
      ]
    },
    {
      "cell_type": "code",
      "execution_count": 20,
      "metadata": {
        "id": "AKMdO5AD8mFJ"
      },
      "outputs": [],
      "source": [
        "# df.drop(\"make_country\", axis = \"columns\", inplace = True)"
      ]
    },
    {
      "cell_type": "code",
      "execution_count": 21,
      "metadata": {
        "id": "tmdOx2SI9A50"
      },
      "outputs": [],
      "source": [
        "#Here Data Cleaning is done"
      ]
    },
    {
      "cell_type": "code",
      "execution_count": 22,
      "metadata": {
        "id": "Mfhg1aw_-IMo"
      },
      "outputs": [],
      "source": [
        "fuel_ty=df['fuel']\n",
        "seller_ty=df['seller_type']\n",
        "transmission_ty=df['transmission']\n",
        "selling_pri=df['selling_price']"
      ]
    },
    {
      "cell_type": "code",
      "execution_count": 23,
      "metadata": {
        "colab": {
          "base_uri": "https://localhost:8080/",
          "height": 469
        },
        "id": "AB7ZkMmD-IMo",
        "outputId": "29184da3-d08a-4ea5-baca-5d6ef3d9fce7"
      },
      "outputs": [
        {
          "data": {
            "image/png": "[encoded data removed]",
            "text/plain": [
              "<Figure size 1500x500 with 3 Axes>"
            ]
          },
          "metadata": {},
          "output_type": "display_data"
        }
      ],
      "source": [
        "#Using ggplot from r language for histogram \n",
        "from matplotlib import style \n",
        "style.use('ggplot')\n",
        "fig=plt.figure(figsize=(15,5))\n",
        "fig.suptitle(\" Categorical data columns \")\n",
        "plt.subplot(1,3,1)\n",
        "plt.bar(fuel_ty,selling_pri,color='red')\n",
        "plt.xlabel('Fuel types')\n",
        "plt.ylabel('Selling price')\n",
        "plt.subplot(1,3,2)\n",
        "plt.bar(seller_ty,selling_pri,color='purple')\n",
        "plt.xlabel('Seller Types')\n",
        "plt.ylabel('Selling price')\n",
        "plt.subplot(1,3,3)\n",
        "plt.bar(transmission_ty,selling_pri,color='royalblue')\n",
        "plt.xlabel('Transmission type ')\n",
        "plt.ylabel('Selling price')\n",
        "plt.show()\n"
      ]
    },
    {
      "cell_type": "code",
      "execution_count": 24,
      "metadata": {
        "colab": {
          "base_uri": "https://localhost:8080/",
          "height": 452
        },
        "id": "cpbOXv6g-IMo",
        "outputId": "54f01e1d-b81a-4d1d-94f7-28d237bb6d30"
      },
      "outputs": [
        {
          "data": {
            "text/plain": [
              "<Axes: >"
            ]
          },
          "execution_count": 24,
          "metadata": {},
          "output_type": "execute_result"
        },
        {
          "data": {
            "image/png": "[encoded data removed]",
            "text/plain": [
              "<Figure size 640x480 with 1 Axes>"
            ]
          },
          "metadata": {},
          "output_type": "display_data"
        }
      ],
      "source": [
        "sns.rugplot('selling_pri')"
      ]
    },
    {
      "cell_type": "code",
      "execution_count": 25,
      "metadata": {
        "id": "QR7txlJ__DsP"
      },
      "outputs": [],
      "source": [
        "#Regression starts works here\n",
        "import sklearn\n",
        "from sklearn.linear_model import LinearRegression\n",
        "from sklearn.model_selection import train_test_split\n",
        "from sklearn.preprocessing import StandardScaler,OneHotEncoder\n",
        "from sklearn.compose import make_column_transformer\n",
        "from sklearn import metrics\n",
        "from sklearn.metrics import r2_score\n",
        "from sklearn.preprocessing import OneHotEncoder"
      ]
    },
    {
      "cell_type": "code",
      "execution_count": 26,
      "metadata": {
        "colab": {
          "base_uri": "https://localhost:8080/"
        },
        "id": "n_933hLrHrLB",
        "outputId": "e2ca6275-ee3a-4fdd-e334-02d4a7c259bb"
      },
      "outputs": [
        {
          "data": {
            "text/plain": [
              "year               int64\n",
              "selling_price      int64\n",
              "km_driven          int64\n",
              "fuel              object\n",
              "seller_type       object\n",
              "transmission      object\n",
              "owner             object\n",
              "mileage          float64\n",
              "seats            float64\n",
              "Brand             object\n",
              "Model             object\n",
              "make_country      object\n",
              "dtype: object"
            ]
          },
          "execution_count": 26,
          "metadata": {},
          "output_type": "execute_result"
        }
      ],
      "source": [
        "df.dtypes"
      ]
    },
    {
      "cell_type": "code",
      "execution_count": 27,
      "metadata": {
        "id": "BxHsZ8RQD8Iu"
      },
      "outputs": [
        {
          "name": "stderr",
          "output_type": "stream",
          "text": [
            "c:\\Users\\shant\\AppData\\Local\\Programs\\Python\\Python310\\lib\\site-packages\\sklearn\\preprocessing\\_encoders.py:828: FutureWarning: `sparse` was renamed to `sparse_output` in version 1.2 and will be removed in 1.4. `sparse_output` is ignored unless you leave `sparse` to its default value.\n",
            "  warnings.warn(\n",
            "c:\\Users\\shant\\AppData\\Local\\Programs\\Python\\Python310\\lib\\site-packages\\sklearn\\preprocessing\\_encoders.py:828: FutureWarning: `sparse` was renamed to `sparse_output` in version 1.2 and will be removed in 1.4. `sparse_output` is ignored unless you leave `sparse` to its default value.\n",
            "  warnings.warn(\n",
            "c:\\Users\\shant\\AppData\\Local\\Programs\\Python\\Python310\\lib\\site-packages\\sklearn\\preprocessing\\_encoders.py:828: FutureWarning: `sparse` was renamed to `sparse_output` in version 1.2 and will be removed in 1.4. `sparse_output` is ignored unless you leave `sparse` to its default value.\n",
            "  warnings.warn(\n",
            "c:\\Users\\shant\\AppData\\Local\\Programs\\Python\\Python310\\lib\\site-packages\\sklearn\\preprocessing\\_encoders.py:828: FutureWarning: `sparse` was renamed to `sparse_output` in version 1.2 and will be removed in 1.4. `sparse_output` is ignored unless you leave `sparse` to its default value.\n",
            "  warnings.warn(\n",
            "c:\\Users\\shant\\AppData\\Local\\Programs\\Python\\Python310\\lib\\site-packages\\sklearn\\preprocessing\\_encoders.py:828: FutureWarning: `sparse` was renamed to `sparse_output` in version 1.2 and will be removed in 1.4. `sparse_output` is ignored unless you leave `sparse` to its default value.\n",
            "  warnings.warn(\n",
            "c:\\Users\\shant\\AppData\\Local\\Programs\\Python\\Python310\\lib\\site-packages\\sklearn\\preprocessing\\_encoders.py:828: FutureWarning: `sparse` was renamed to `sparse_output` in version 1.2 and will be removed in 1.4. `sparse_output` is ignored unless you leave `sparse` to its default value.\n",
            "  warnings.warn(\n"
          ]
        },
        {
          "name": "stdout",
          "output_type": "stream",
          "text": [
            "      year  selling_price  km_driven  mileage  seats  fuel_CNG  fuel_Diesel  \\\n",
            "0     2014         450000     145500    23.40    5.0       0.0          1.0   \n",
            "1     2014         370000     120000    21.14    5.0       0.0          1.0   \n",
            "2     2006         158000     140000    17.70    5.0       0.0          0.0   \n",
            "3     2010         225000     127000    23.00    5.0       0.0          1.0   \n",
            "4     2007         130000     120000    16.10    5.0       0.0          0.0   \n",
            "...    ...            ...        ...      ...    ...       ...          ...   \n",
            "6712  2013         260000      50000    18.90    5.0       0.0          0.0   \n",
            "6713  2014         475000      80000    22.54    5.0       0.0          1.0   \n",
            "6714  2013         320000     110000    18.50    5.0       0.0          0.0   \n",
            "6715  2007         135000     119000    16.80    5.0       0.0          1.0   \n",
            "6716  2009         382000     120000    19.30    5.0       0.0          1.0   \n",
            "\n",
            "      fuel_LPG  fuel_Petrol  seller_type_Dealer  ...  Model_i20 Sportz Diesel  \\\n",
            "0          0.0          0.0                 0.0  ...                      0.0   \n",
            "1          0.0          0.0                 0.0  ...                      0.0   \n",
            "2          0.0          1.0                 0.0  ...                      0.0   \n",
            "3          0.0          0.0                 0.0  ...                      1.0   \n",
            "4          0.0          1.0                 0.0  ...                      0.0   \n",
            "...        ...          ...                 ...  ...                      ...   \n",
            "6712       0.0          1.0                 0.0  ...                      0.0   \n",
            "6713       0.0          0.0                 0.0  ...                      0.0   \n",
            "6714       0.0          1.0                 0.0  ...                      0.0   \n",
            "6715       0.0          0.0                 0.0  ...                      0.0   \n",
            "6716       0.0          0.0                 0.0  ...                      0.0   \n",
            "\n",
            "      Model_i20 Sportz Option 1.2  Model_i20 Sportz Option 1.4 CRDi  \\\n",
            "0                             0.0                               0.0   \n",
            "1                             0.0                               0.0   \n",
            "2                             0.0                               0.0   \n",
            "3                             0.0                               0.0   \n",
            "4                             0.0                               0.0   \n",
            "...                           ...                               ...   \n",
            "6712                          0.0                               0.0   \n",
            "6713                          0.0                               0.0   \n",
            "6714                          0.0                               0.0   \n",
            "6715                          0.0                               0.0   \n",
            "6716                          0.0                               0.0   \n",
            "\n",
            "      make_country_America  make_country_Germany  make_country_India  \\\n",
            "0                      0.0                   0.0                 1.0   \n",
            "1                      0.0                   1.0                 0.0   \n",
            "2                      0.0                   0.0                 0.0   \n",
            "3                      0.0                   0.0                 0.0   \n",
            "4                      0.0                   0.0                 1.0   \n",
            "...                    ...                   ...                 ...   \n",
            "6712                   0.0                   0.0                 1.0   \n",
            "6713                   0.0                   0.0                 0.0   \n",
            "6714                   0.0                   0.0                 0.0   \n",
            "6715                   0.0                   0.0                 0.0   \n",
            "6716                   0.0                   0.0                 1.0   \n",
            "\n",
            "      make_country_Japan  make_country_Other  make_country_South Korea  \\\n",
            "0                    0.0                 0.0                       0.0   \n",
            "1                    0.0                 0.0                       0.0   \n",
            "2                    1.0                 0.0                       0.0   \n",
            "3                    0.0                 0.0                       1.0   \n",
            "4                    0.0                 0.0                       0.0   \n",
            "...                  ...                 ...                       ...   \n",
            "6712                 0.0                 0.0                       0.0   \n",
            "6713                 0.0                 0.0                       1.0   \n",
            "6714                 0.0                 0.0                       1.0   \n",
            "6715                 0.0                 0.0                       1.0   \n",
            "6716                 0.0                 0.0                       0.0   \n",
            "\n",
            "      make_country_UK  \n",
            "0                 0.0  \n",
            "1                 0.0  \n",
            "2                 0.0  \n",
            "3                 0.0  \n",
            "4                 0.0  \n",
            "...               ...  \n",
            "6712              0.0  \n",
            "6713              0.0  \n",
            "6714              0.0  \n",
            "6715              0.0  \n",
            "6716              0.0  \n",
            "\n",
            "[6717 rows x 2039 columns]\n"
          ]
        },
        {
          "name": "stderr",
          "output_type": "stream",
          "text": [
            "c:\\Users\\shant\\AppData\\Local\\Programs\\Python\\Python310\\lib\\site-packages\\sklearn\\preprocessing\\_encoders.py:828: FutureWarning: `sparse` was renamed to `sparse_output` in version 1.2 and will be removed in 1.4. `sparse_output` is ignored unless you leave `sparse` to its default value.\n",
            "  warnings.warn(\n"
          ]
        }
      ],
      "source": [
        "#Convert categorical data into the numerical that's why we are using this \n",
        "onehot_cols=['fuel','seller_type','transmission','owner','Brand','Model', 'make_country']\n",
        "# ohe=OneHotEncoder()\n",
        "# col_trans=make_column_transformer(\n",
        "#                                   (OneHotEncoder(sparse_output = False),onehot_cols),\n",
        "#                                   remainder='passthrough')\n",
        "# col_trans.fit(df)\n",
        "# df = col_trans.transform(df)\n",
        "# df.columns\n",
        "for col in onehot_cols:\n",
        "    encoder = OneHotEncoder(sparse=False)\n",
        "    encoded_col = encoder.fit_transform(df[col].values.reshape(-1, 1))\n",
        "    col_names = [f'{col}_{cat}' for cat in encoder.categories_[0]]\n",
        "    encoded_df = pd.DataFrame(encoded_col, columns=col_names)\n",
        "    df = pd.concat([df, encoded_df], axis=1)\n",
        "    df.drop(col, axis=1, inplace=True)\n",
        "print(df)"
      ]
    },
    {
      "cell_type": "code",
      "execution_count": 28,
      "metadata": {
        "colab": {
          "base_uri": "https://localhost:8080/"
        },
        "id": "umIonsI2Jujn",
        "outputId": "2f48716a-c098-4674-8f6a-d50add53f293"
      },
      "outputs": [
        {
          "ename": "NameError",
          "evalue": "name 'col_trans' is not defined",
          "output_type": "error",
          "traceback": [
            "\u001b[1;31m---------------------------------------------------------------------------\u001b[0m",
            "\u001b[1;31mNameError\u001b[0m                                 Traceback (most recent call last)",
            "\u001b[1;32mc:\\PROJECTS\\ML PROJECTS\\Linear Regression Project\\Original_Vehicle_price_prediction.ipynb Cell 29\u001b[0m in \u001b[0;36m<cell line: 1>\u001b[1;34m()\u001b[0m\n\u001b[1;32m----> <a href='vscode-notebook-cell:/c%3A/PROJECTS/ML%20PROJECTS/Linear%20Regression%20Project/Original_Vehicle_price_prediction.ipynb#X40sZmlsZQ%3D%3D?line=0'>1</a>\u001b[0m col_trans\u001b[39m.\u001b[39mget_feature_names_out()\n",
            "\u001b[1;31mNameError\u001b[0m: name 'col_trans' is not defined"
          ]
        }
      ],
      "source": [
        "col_trans.get_feature_names_out()"
      ]
    },
    {
      "cell_type": "code",
      "execution_count": null,
      "metadata": {
        "colab": {
          "base_uri": "https://localhost:8080/",
          "height": 200
        },
        "id": "1kq7cdg7-IMp",
        "outputId": "12f8e01a-aaee-4a79-f701-64bd5a65ef4f"
      },
      "outputs": [
        {
          "ename": "AttributeError",
          "evalue": "ignored",
          "output_type": "error",
          "traceback": [
            "\u001b[0;31m---------------------------------------------------------------------------\u001b[0m",
            "\u001b[0;31mAttributeError\u001b[0m                            Traceback (most recent call last)",
            "\u001b[0;32m<ipython-input-269-27eaa430986b>\u001b[0m in \u001b[0;36m<cell line: 1>\u001b[0;34m()\u001b[0m\n\u001b[0;32m----> 1\u001b[0;31m \u001b[0mx\u001b[0m\u001b[0;34m=\u001b[0m\u001b[0mdf\u001b[0m\u001b[0;34m.\u001b[0m\u001b[0mdrop\u001b[0m\u001b[0;34m(\u001b[0m\u001b[0;34m[\u001b[0m\u001b[0;34m'selling_price'\u001b[0m\u001b[0;34m]\u001b[0m\u001b[0;34m,\u001b[0m\u001b[0maxis\u001b[0m\u001b[0;34m=\u001b[0m\u001b[0;36m1\u001b[0m\u001b[0;34m)\u001b[0m\u001b[0;34m\u001b[0m\u001b[0;34m\u001b[0m\u001b[0m\n\u001b[0m\u001b[1;32m      2\u001b[0m \u001b[0my\u001b[0m\u001b[0;34m=\u001b[0m\u001b[0mdf\u001b[0m\u001b[0;34m[\u001b[0m\u001b[0;34m'selling_price'\u001b[0m\u001b[0;34m]\u001b[0m\u001b[0;34m\u001b[0m\u001b[0;34m\u001b[0m\u001b[0m\n\u001b[1;32m      3\u001b[0m \u001b[0;34m\u001b[0m\u001b[0m\n",
            "\u001b[0;31mAttributeError\u001b[0m: 'numpy.ndarray' object has no attribute 'drop'"
          ]
        }
      ],
      "source": [
        "x=df.drop(['selling_price'],axis=1)\n",
        "y=df['selling_price']\n",
        "\n"
      ]
    },
    {
      "cell_type": "code",
      "execution_count": null,
      "metadata": {
        "colab": {
          "base_uri": "https://localhost:8080/"
        },
        "id": "7lbCyWc8-IMp",
        "outputId": "088a8da9-92a8-4d50-c4fd-7895e55f76f9"
      },
      "outputs": [
        {
          "name": "stdout",
          "output_type": "stream",
          "text": [
            "(6717, 2038)\n"
          ]
        },
        {
          "data": {
            "text/plain": [
              "(6717,)"
            ]
          },
          "execution_count": 201,
          "metadata": {},
          "output_type": "execute_result"
        }
      ],
      "source": [
        "print(x.shape)\n",
        "y.shape"
      ]
    },
    {
      "cell_type": "code",
      "execution_count": null,
      "metadata": {
        "id": "BpyGQEWu-IMp"
      },
      "outputs": [],
      "source": [
        "#Regression starts works here\n",
        "import sklearn\n",
        "from sklearn.linear_model import LinearRegression\n",
        "from sklearn.model_selection import train_test_split\n",
        "from sklearn.preprocessing import StandardScaler,OneHotEncoder\n",
        "from sklearn.compose import make_column_transformer\n",
        "from sklearn import metrics\n",
        "from sklearn.metrics import r2_score\n",
        "from sklearn.preprocessing import OneHotEncoder\n",
        "from sklearn.pipeline import make_pipeline"
      ]
    },
    {
      "cell_type": "code",
      "execution_count": null,
      "metadata": {
        "id": "D4LcmXgh-IMq"
      },
      "outputs": [],
      "source": [
        "X_train,X_test,Y_train,Y_test=train_test_split(x,y,test_size=0.2,random_state=100)"
      ]
    },
    {
      "cell_type": "code",
      "execution_count": null,
      "metadata": {
        "colab": {
          "base_uri": "https://localhost:8080/"
        },
        "id": "NiGlW5N0-IMq",
        "outputId": "c2630e26-6a92-4e8b-9a96-7540b648d379"
      },
      "outputs": [
        {
          "name": "stdout",
          "output_type": "stream",
          "text": [
            "(5373, 2038)\n",
            "(1344, 2038)\n",
            "(5373,)\n",
            "(1344,)\n"
          ]
        }
      ],
      "source": [
        "print(X_train.shape)\n",
        "print(X_test.shape)\n",
        "print(Y_train.shape)\n",
        "print(Y_test.shape)"
      ]
    },
    {
      "cell_type": "code",
      "execution_count": null,
      "metadata": {
        "id": "MKsUvjMb9sZm"
      },
      "outputs": [],
      "source": [
        "#Convert categorical data into the numerical that's why we are using this \n",
        "# ohe=OneHotEncoder()\n",
        "# ohe.fit(x[['fuel','seller_type','transmission','owner']])\n",
        "# col_trans=make_column_transformer((OneHotEncoder(categories=ohe.categories_),['fuel','seller_type','transmission','owner']),remainder='passthrough')"
      ]
    },
    {
      "cell_type": "code",
      "execution_count": null,
      "metadata": {
        "id": "im-ejtiw-IMq"
      },
      "outputs": [],
      "source": [
        "# #standardize the data\n",
        "# scaler=StandardScaler()\n",
        "# X_train=scaler.fit_transform(X_train)\n",
        "# X_test=scaler.transform(X_test)\n"
      ]
    },
    {
      "cell_type": "code",
      "execution_count": null,
      "metadata": {
        "id": "w7bU8zTFHF8L"
      },
      "outputs": [],
      "source": [
        "# lr=LinearRegression()"
      ]
    },
    {
      "cell_type": "code",
      "execution_count": null,
      "metadata": {
        "id": "RuGHmAdNHHtt"
      },
      "outputs": [],
      "source": [
        "# pipe=make_pipeline(col_trans,lr)\n",
        "# pipe.fit(X_train,Y_train)"
      ]
    },
    {
      "cell_type": "code",
      "execution_count": null,
      "metadata": {
        "id": "bI_Ra_rQAaSs"
      },
      "outputs": [],
      "source": [
        "metric_list = []"
      ]
    },
    {
      "cell_type": "code",
      "execution_count": null,
      "metadata": {
        "colab": {
          "base_uri": "https://localhost:8080/",
          "height": 827
        },
        "id": "NmBpbRYc-IMq",
        "outputId": "76035e0a-3073-4c1c-c8fb-6d913224a03b"
      },
      "outputs": [
        {
          "name": "stdout",
          "output_type": "stream",
          "text": [
            "[ 522966.11206055  710381.38623047  321009.03149414 ...  382689.78881836\n",
            "  499100.81738281 1140916.75732422]\n",
            "--------------------------------------------\n",
            "Coeff are : [ 3.13296511e+04 -1.85684903e-01  5.61893287e+03 ... -6.11522135e+11\n",
            "  1.01022720e+12 -1.26211671e+12]\n",
            "--------------------------------------------\n",
            "Intercept  : -2138348766343.428\n",
            "--------------------------------------------\n",
            "train_accuracy_lr: 0.9755293635616568\n",
            "--------------------------------------------\n",
            "test_accuracy_lr: -48477011030.49028\n",
            "--------------------------------------------\n",
            " Acuracy of Our Model is : -48477011030.49028\n",
            "--------------------------------------------\n"
          ]
        },
        {
          "data": {
            "image/png": "[encoded data removed]",
            "text/plain": [
              "<Figure size 600x600 with 1 Axes>"
            ]
          },
          "metadata": {},
          "output_type": "display_data"
        }
      ],
      "source": [
        "\n",
        "#Linear Regression\n",
        "\n",
        "lr=LinearRegression()\n",
        "lr.fit(X_train,Y_train)\n",
        "Y_pred=lr.predict(X_test)\n",
        "print(Y_pred)\n",
        "\n",
        "train_accuracy_lr = lr.score(X_train, Y_train)\n",
        "test_accuracy_lr = lr.score(X_test, Y_test)\n",
        "r2_score_lr = r2_score(Y_test, Y_pred)\n",
        "print(\"--------------------------------------------\")\n",
        "print(\"Coeff are :\",lr.coef_)\n",
        "print(\"--------------------------------------------\")\n",
        "print(\"Intercept  :\",lr.intercept_)\n",
        "print(\"--------------------------------------------\")\n",
        "print('train_accuracy_lr:', train_accuracy_lr)\n",
        "print(\"--------------------------------------------\")\n",
        "print('test_accuracy_lr:', test_accuracy_lr)\n",
        "print(\"--------------------------------------------\")\n",
        "print(' Acuracy of Our Model is :', r2_score_lr)\n",
        "print(\"--------------------------------------------\")\n",
        "plt.figure(figsize= (6, 6))\n",
        "plt.title(\"Visualizing the Regression using Linear Regression algorithm\")\n",
        "plt.scatter(Y_test,Y_pred, color = \"red\")\n",
        "plt.xlabel(\"New Predicted Price\")\n",
        "plt.ylabel(\"Selling Price\")\n",
        "plt.show()\n",
        "\n",
        "\n",
        "\n",
        "\n"
      ]
    },
    {
      "cell_type": "code",
      "execution_count": null,
      "metadata": {
        "colab": {
          "base_uri": "https://localhost:8080/"
        },
        "id": "Czau0RIQs1wX",
        "outputId": "93e1b26a-9557-42a5-b94c-ca38074fd58b"
      },
      "outputs": [
        {
          "name": "stdout",
          "output_type": "stream",
          "text": [
            "2038\n",
            "2038\n"
          ]
        }
      ],
      "source": [
        "print(len(lr.coef_))\n",
        "print(len(X_train.columns))\n",
        "# df_lt_importance[\"\"]\n",
        "df_lr_importance = pd.DataFrame()\n",
        "df_lr_importance[\"var_name\"] = X_train.columns\n",
        "df_lr_importance[\"lr_importance\"] = abs(lr.coef_)\n",
        "df_lr_importance.sort_values(['lr_importance'], ascending = False)\n",
        "df_lr_importance.to_csv('importance.csv')"
      ]
    },
    {
      "cell_type": "code",
      "execution_count": null,
      "metadata": {
        "colab": {
          "base_uri": "https://localhost:8080/",
          "height": 740
        },
        "id": "uwJVWTLk5SEQ",
        "outputId": "3701010b-12b6-4ae9-f2a8-ae19b4689b63"
      },
      "outputs": [
        {
          "name": "stdout",
          "output_type": "stream",
          "text": [
            "[467199.95       624199.99       293544.99       ... 388599.85\n",
            " 957509.98       948776.66666667]\n",
            "--------------------------------------------\n",
            "train_accuracy_rf: 0.9739289952702822\n",
            "--------------------------------------------\n",
            "test_accuracy_rf: 0.9010221340478712\n",
            "--------------------------------------------\n",
            " Acuracy of Our Model is : 0.9010221340478712\n",
            "--------------------------------------------\n"
          ]
        },
        {
          "data": {
            "image/png": "[encoded data removed]",
            "text/plain": [
              "<Figure size 600x600 with 1 Axes>"
            ]
          },
          "metadata": {},
          "output_type": "display_data"
        }
      ],
      "source": [
        "#Random froest Regression\n",
        "from sklearn.ensemble import RandomForestRegressor\n",
        "rf=RandomForestRegressor(n_estimators=100)\n",
        "rf.fit(X_train,Y_train)\n",
        "Y_pred=rf.predict(X_test)\n",
        "print(Y_pred)\n",
        "\n",
        "train_accuracy_rf = rf.score(X_train, Y_train)\n",
        "test_accuracy_rf= rf.score(X_test, Y_test)\n",
        "r2_score_rf= r2_score(Y_test, Y_pred)\n",
        "temp_list  = [\"Rf\", r2_score_rf, rmse, mae, mape]\n",
        "metric_list.appen(temp_list)\n",
        "#Random forest does not have coeff anf intercepts\n",
        "#print(\"Coeff are :\",rf.coef_)\n",
        "#print(\"Intercept  :\",rf.intercept_)\n",
        "print(\"--------------------------------------------\")\n",
        "print('train_accuracy_rf:', train_accuracy_rf)\n",
        "print(\"--------------------------------------------\")\n",
        "print('test_accuracy_rf:', test_accuracy_rf)\n",
        "print(\"--------------------------------------------\")\n",
        "print(' Acuracy of Our Model is :', r2_score_rf)\n",
        "print(\"--------------------------------------------\")\n",
        "plt.figure(figsize= (6, 6))\n",
        "plt.title(\"Visualizing the Regression using Random Forest Regression algorithm\")\n",
        "plt.scatter(Y_test,Y_pred, color = \"red\")\n",
        "plt.xlabel(\"New Predicted Price\")\n",
        "plt.ylabel(\"Selling Price\")\n",
        "plt.show()"
      ]
    },
    {
      "cell_type": "code",
      "execution_count": null,
      "metadata": {
        "id": "Rhcjrjb_5grj"
      },
      "outputs": [],
      "source": [
        "df_lr_importance[\"rf_importance\"] = rf.feature_importances_\n",
        "df_lr_importance.to_csv(\"importance.csv\")"
      ]
    },
    {
      "cell_type": "code",
      "execution_count": null,
      "metadata": {
        "colab": {
          "base_uri": "https://localhost:8080/",
          "height": 882
        },
        "id": "6lqkwfr6m9dh",
        "outputId": "f0db3a83-2043-4298-cb2c-0fc825fcc2d3"
      },
      "outputs": [
        {
          "name": "stderr",
          "output_type": "stream",
          "text": [
            "/usr/local/lib/python3.9/dist-packages/sklearn/linear_model/_coordinate_descent.py:631: ConvergenceWarning: Objective did not converge. You might want to increase the number of iterations, check the scale of the features or consider increasing regularisation. Duality gap: 1.848e+13, tolerance: 1.491e+11\n",
            "  model = cd_fast.enet_coordinate_descent(\n"
          ]
        },
        {
          "name": "stdout",
          "output_type": "stream",
          "text": [
            "[ 522634.87025251  708237.56735181  321595.15414651 ...  382826.57473552\n",
            "  456591.33680587 1140760.27886731]\n",
            "--------------------------------------------\n",
            "Coeff are : [ 3.14767326e+04 -1.85537649e-01  5.07311110e+03 ...  7.11406504e+03\n",
            "  4.49452494e+03 -0.00000000e+00]\n",
            "--------------------------------------------\n",
            "Intercept  : -63020555.333097436\n",
            "--------------------------------------------\n",
            "train_accuracy_ls: 0.9755153341711764\n",
            "--------------------------------------------\n",
            "test_accuracy_ls: 0.8590303883815916\n",
            "--------------------------------------------\n",
            " Acuracy of Our Model is : 0.8590303883815916\n",
            "--------------------------------------------\n"
          ]
        },
        {
          "data": {
            "image/png": "[encoded data removed]",
            "text/plain": [
              "<Figure size 600x600 with 1 Axes>"
            ]
          },
          "metadata": {},
          "output_type": "display_data"
        }
      ],
      "source": [
        "#Lasso \n",
        "from sklearn.linear_model import Lasso\n",
        "ls=Lasso(0.1)\n",
        "ls.fit(X_train,Y_train)\n",
        "Y_pred=ls.predict(X_test)\n",
        "print(Y_pred)\n",
        "\n",
        "train_accuracy_ls = ls.score(X_train, Y_train)\n",
        "test_accuracy_ls= ls.score(X_test, Y_test)\n",
        "r2_score_ls = r2_score(Y_test, Y_pred)\n",
        "print(\"--------------------------------------------\")\n",
        "print(\"Coeff are :\",ls.coef_)\n",
        "print(\"--------------------------------------------\")\n",
        "print(\"Intercept  :\",ls.intercept_)\n",
        "print(\"--------------------------------------------\")\n",
        "print('train_accuracy_ls:', train_accuracy_ls)\n",
        "print(\"--------------------------------------------\")\n",
        "print('test_accuracy_ls:', test_accuracy_ls)\n",
        "print(\"--------------------------------------------\")\n",
        "print(' Acuracy of Our Model is :', r2_score_ls)\n",
        "print(\"--------------------------------------------\")\n",
        "plt.figure(figsize= (6, 6))\n",
        "plt.title(\"Visualizing the Regression using Lasso Regression algorithm\")\n",
        "plt.scatter(Y_test,Y_pred, color = \"red\")\n",
        "plt.xlabel(\"New Predicted Price\")\n",
        "plt.ylabel(\"Selling Price\")\n",
        "plt.show()"
      ]
    },
    {
      "cell_type": "code",
      "execution_count": null,
      "metadata": {
        "colab": {
          "base_uri": "https://localhost:8080/",
          "height": 827
        },
        "id": "ZH0fPIqVnIOH",
        "outputId": "5872d8a4-826a-4d19-a284-8b4652f5b73c"
      },
      "outputs": [
        {
          "name": "stdout",
          "output_type": "stream",
          "text": [
            "[3.21799368e+17 6.53826978e+16 1.00476373e+17 ... 6.38249811e+16\n",
            " 1.45226161e+17 5.90870747e+16]\n",
            "--------------------------------------------\n",
            "Coeff are : [ 1.81614466e+13  1.35880339e+12 -9.12674852e+10 ...  7.51352865e+10\n",
            "  1.71373131e+11  5.18635140e+09]\n",
            "--------------------------------------------\n",
            "Intercept  : [8.62550907e+09]\n",
            "--------------------------------------------\n",
            "train_accuracy_sgd: -9.218126837774615e+22\n",
            "--------------------------------------------\n",
            "test_accuracy_sgd: -8.5884650823375e+22\n",
            "--------------------------------------------\n",
            " Acuracy of Our Model is : -8.5884650823375e+22\n",
            "--------------------------------------------\n"
          ]
        },
        {
          "data": {
            "image/png": "[encoded data removed]",
            "text/plain": [
              "<Figure size 600x600 with 1 Axes>"
            ]
          },
          "metadata": {},
          "output_type": "display_data"
        }
      ],
      "source": [
        "#SGD Regressor \n",
        "from sklearn.linear_model import SGDRegressor\n",
        "sgd=SGDRegressor(loss=\"squared_error\")\n",
        "sgd.fit(X_train,Y_train)\n",
        "Y_pred=sgd.predict(X_test)\n",
        "print(Y_pred)\n",
        "\n",
        "train_accuracy_sgd = sgd.score(X_train, Y_train)\n",
        "test_accuracy_sgd= sgd.score(X_test, Y_test)\n",
        "r2_score_sgd= r2_score(Y_test, Y_pred)\n",
        "print(\"--------------------------------------------\")\n",
        "print(\"Coeff are :\",sgd.coef_)\n",
        "print(\"--------------------------------------------\")\n",
        "print(\"Intercept  :\",sgd.intercept_)\n",
        "print(\"--------------------------------------------\")\n",
        "print('train_accuracy_sgd:', train_accuracy_sgd)\n",
        "print(\"--------------------------------------------\")\n",
        "print('test_accuracy_sgd:', test_accuracy_sgd)\n",
        "print(\"--------------------------------------------\")\n",
        "print(' Acuracy of Our Model is :', r2_score_sgd)\n",
        "print(\"--------------------------------------------\")\n",
        "plt.figure(figsize= (6, 6))\n",
        "plt.title(\"Visualizing the Regression using SGDRegressor Regression algorithm\")\n",
        "plt.scatter(Y_test,Y_pred, color = \"red\")\n",
        "plt.xlabel(\"New Predicted Price\")\n",
        "plt.ylabel(\"Selling Price\")\n",
        "plt.show()"
      ]
    },
    {
      "cell_type": "code",
      "execution_count": null,
      "metadata": {
        "colab": {
          "base_uri": "https://localhost:8080/",
          "height": 740
        },
        "id": "-lz-8Z6Nnnu8",
        "outputId": "56e7ec5b-a775-42cd-a739-1ef76e07bb1d"
      },
      "outputs": [
        {
          "name": "stdout",
          "output_type": "stream",
          "text": [
            "[ 486576.2566586  1123805.62695925  581973.21810345 ...  639507.31541389\n",
            " 1323568.22539683  818877.88662791]\n",
            "--------------------------------------------\n",
            "train_accuracy_ada: 0.6137464774265465\n",
            "--------------------------------------------\n",
            "test_accuracy_ada: 0.6195048833910869\n",
            "--------------------------------------------\n",
            " Acuracy of Our Model is : 0.6195048833910869\n",
            "--------------------------------------------\n"
          ]
        },
        {
          "data": {
            "image/png": "[encoded data removed]",
            "text/plain": [
              "<Figure size 600x600 with 1 Axes>"
            ]
          },
          "metadata": {},
          "output_type": "display_data"
        }
      ],
      "source": [
        "#Adaboost\n",
        "from sklearn.ensemble import AdaBoostRegressor\n",
        "ada=AdaBoostRegressor(n_estimators=10)\n",
        "ada.fit(X_train,Y_train)\n",
        "Y_pred=ada.predict(X_test)\n",
        "print(Y_pred)\n",
        "\n",
        "train_accuracy_ada = ada.score(X_train, Y_train)\n",
        "test_accuracy_ada= ada.score(X_test, Y_test)\n",
        "r2_score_ada= r2_score(Y_test, Y_pred)\n",
        "#Adaboost does not have coeff and intedcept\n",
        "#print(\"Coeff are :\",ada.coef_)\n",
        "#print(\"Intercept  :\",ada.intercept_)\n",
        "print(\"--------------------------------------------\")\n",
        "print('train_accuracy_ada:', train_accuracy_ada)\n",
        "print(\"--------------------------------------------\")\n",
        "print('test_accuracy_ada:', test_accuracy_ada)\n",
        "print(\"--------------------------------------------\")\n",
        "print(' Acuracy of Our Model is :', r2_score_ada)\n",
        "print(\"--------------------------------------------\")\n",
        "plt.figure(figsize= (6, 6))\n",
        "plt.title(\"Visualizing the Regression using Adaboost Regression algorithm\")\n",
        "plt.scatter(Y_test,Y_pred, color = \"red\")\n",
        "plt.xlabel(\"New Predicted Price\")\n",
        "plt.ylabel(\"Selling Price\")\n",
        "plt.show()"
      ]
    },
    {
      "cell_type": "code",
      "execution_count": null,
      "metadata": {
        "colab": {
          "base_uri": "https://localhost:8080/",
          "height": 723
        },
        "id": "jC2HUb71nvEr",
        "outputId": "05a3d094-9934-4e01-d42a-e5a8ed076e28"
      },
      "outputs": [
        {
          "name": "stdout",
          "output_type": "stream",
          "text": [
            "[486775.44 597623.44 362863.   ... 409993.5  432786.44 769907.94]\n",
            "--------------------------------------------\n",
            "train_accuracy_xgb: 0.9132664692790572\n",
            "--------------------------------------------\n",
            "test_accuracy_xgb: 0.8548150952984912\n",
            "--------------------------------------------\n",
            " Acuracy of Our Model is : 0.8548150952984912\n",
            "--------------------------------------------\n"
          ]
        },
        {
          "data": {
            "image/png": "[encoded data removed]",
            "text/plain": [
              "<Figure size 600x600 with 1 Axes>"
            ]
          },
          "metadata": {},
          "output_type": "display_data"
        }
      ],
      "source": [
        "#Xgboost\n",
        "import xgboost as xg\n",
        "xgb=xg.XGBRegressor(n_estimators=10)\n",
        "xgb.fit(X_train,Y_train)\n",
        "Y_pred=xgb.predict(X_test)\n",
        "print(Y_pred)\n",
        "\n",
        "train_accuracy_xgb = xgb.score(X_train, Y_train)\n",
        "test_accuracy_xgb= xgb.score(X_test, Y_test)\n",
        "r2_score_xgb= r2_score(Y_test, Y_pred)\n",
        "#Xgboost regressor does not have coef and intercepts \n",
        "#print(\"Coeff are :\",xgb.coef_)\n",
        "#print(\"Intercept  :\",xgb.intercept_)\n",
        "print(\"--------------------------------------------\")\n",
        "print('train_accuracy_xgb:', train_accuracy_xgb)\n",
        "print(\"--------------------------------------------\")\n",
        "print('test_accuracy_xgb:', test_accuracy_xgb)\n",
        "print(\"--------------------------------------------\")\n",
        "print(' Acuracy of Our Model is :', r2_score_xgb)\n",
        "print(\"--------------------------------------------\")\n",
        "plt.figure(figsize= (6, 6))\n",
        "plt.title(\"Visualizing the Regression using Xgboost Regression algorithm\")\n",
        "plt.scatter(Y_test,Y_pred, color = \"red\")\n",
        "plt.xlabel(\"New Predicted Price\")\n",
        "plt.ylabel(\"Selling Price\")\n",
        "plt.show()"
      ]
    },
    {
      "cell_type": "code",
      "execution_count": null,
      "metadata": {
        "colab": {
          "base_uri": "https://localhost:8080/",
          "height": 723
        },
        "id": "eH00Dw4vrugm",
        "outputId": "cd261fae-66ed-47ba-8bbd-77f970f08f36"
      },
      "outputs": [
        {
          "name": "stdout",
          "output_type": "stream",
          "text": [
            "[ 359799.9 1000999.9 1040999.9 ...  377800.   214499.9  747900. ]\n",
            "--------------------------------------------\n",
            "train_accuracy_kn: 0.37914356411853467\n",
            "--------------------------------------------\n",
            "test_accuracy_kn: 0.2865232849785804\n",
            "--------------------------------------------\n",
            " Acuracy of Our Model is : 0.2865232849785804\n",
            "--------------------------------------------\n"
          ]
        },
        {
          "data": {
            "image/png": "[encoded data removed]",
            "text/plain": [
              "<Figure size 600x600 with 1 Axes>"
            ]
          },
          "metadata": {},
          "output_type": "display_data"
        }
      ],
      "source": [
        "#KNN\n",
        "from sklearn.neighbors import KNeighborsRegressor\n",
        "kn=KNeighborsRegressor(n_neighbors=10)\n",
        "kn.fit(X_train,Y_train)\n",
        "Y_pred=kn.predict(X_test)\n",
        "print(Y_pred)\n",
        "\n",
        "train_accuracy_kn = kn.score(X_train, Y_train)\n",
        "test_accuracy_kn= kn.score(X_test, Y_test)\n",
        "r2_score_kn= r2_score(Y_test, Y_pred)\n",
        "#KNeighbors does not hav an coefficeints and intercepts\n",
        "#print(\"Coeff are :\",kn.coef_)\n",
        "#print(\"Intercept  :\",kn.intercept_)\n",
        "print(\"--------------------------------------------\")\n",
        "print('train_accuracy_kn:', train_accuracy_kn)\n",
        "print(\"--------------------------------------------\")\n",
        "print('test_accuracy_kn:', test_accuracy_kn)\n",
        "print(\"--------------------------------------------\")\n",
        "print(' Acuracy of Our Model is :', r2_score_kn)\n",
        "print(\"--------------------------------------------\")\n",
        "plt.figure(figsize= (6, 6))\n",
        "plt.title(\"Visualizing the Regression using KNeighbors Regression algorithm\")\n",
        "plt.scatter(Y_test,Y_pred, color = \"red\")\n",
        "plt.xlabel(\"New Predicted Price\")\n",
        "plt.ylabel(\"Selling Price\")\n",
        "plt.show()"
      ]
    },
    {
      "cell_type": "code",
      "execution_count": null,
      "metadata": {
        "id": "Tbs3WxUkr29v"
      },
      "outputs": [],
      "source": []
    },
    {
      "cell_type": "code",
      "execution_count": null,
      "metadata": {
        "id": "UJQ5Dd7L-IMt"
      },
      "outputs": [],
      "source": [
        "with open('vehicle_price_prediction_model.pkl', 'rb') as f:\n",
        "    model = pickle.load(f)\n",
        "\n",
        "# Load the scaler\n",
        "with open('input_scaler.pkl', 'rb') as f:\n",
        "    scaler = pickle.load(f)\n",
        "\n",
        "\n",
        "\n",
        "\n",
        "\n",
        "\n"
      ]
    },
    {
      "cell_type": "code",
      "execution_count": null,
      "metadata": {
        "id": "I3fUZaRaBgf6"
      },
      "outputs": [],
      "source": [
        "!apt-get update\n",
        "!apt-get install xvfb\n",
        "\n"
      ]
    },
    {
      "cell_type": "code",
      "execution_count": null,
      "metadata": {
        "id": "0VwqTRHBCClF"
      },
      "outputs": [],
      "source": [
        "!pip install pyvirtualdisplay\n",
        "!pip install matplotlib"
      ]
    },
    {
      "cell_type": "code",
      "execution_count": null,
      "metadata": {
        "id": "-yVm7aeBCP05"
      },
      "outputs": [],
      "source": [
        "from pyvirtualdisplay import Display\n",
        "from matplotlib import pyplot as plt"
      ]
    },
    {
      "cell_type": "code",
      "execution_count": null,
      "metadata": {
        "id": "GG5PLmo_CcRU"
      },
      "outputs": [],
      "source": [
        "display = Display(visible=0, size=(800, 600))\n",
        "display.start()"
      ]
    },
    {
      "cell_type": "code",
      "execution_count": null,
      "metadata": {
        "id": "IlogBeBwORdv"
      },
      "outputs": [],
      "source": [
        "import tkinter as tk\n",
        "from tkinter import messagebox\n",
        "import pickle\n",
        "\n",
        "# Load the model and scaler\n",
        "model = pickle.load(open('vehicle_price_prediction_model.pkl', 'rb'))\n",
        "scaler = pickle.load(open('input_scaler.pkl', 'rb'))\n",
        "\n",
        "# Create the GUI window\n",
        "window = tk.Tk()\n",
        "window.title('Vehicle Price Predictor')\n",
        "window.geometry('400x300')\n",
        "# Create labels and input fields for each feature\n",
        "year_label = tk.Label(window, text='Year')\n",
        "year_label.pack()\n",
        "year_input = tk.Entry(window)\n",
        "year_input.pack()\n",
        "\n",
        "present_price_label = tk.Label(window, text='Present Price (in lakhs)')\n",
        "present_price_label.pack()\n",
        "present_price_input = tk.Entry(window)\n",
        "present_price_input.pack()\n",
        "\n",
        "kms_driven_label = tk.Label(window, text='Kms Driven')\n",
        "kms_driven_label.pack()\n",
        "kms_driven_input = tk.Entry(window)\n",
        "kms_driven_input.pack()\n",
        "'''\n",
        "fuel_type_label = tk.Label(window, text='Fuel Type (Petrol=0, Diesel=1, CNG=2)')\n",
        "fuel_type_label.pack()\n",
        "fuel_type_input = tk.Entry(window)\n",
        "fuel_type_input.pack()\n",
        "\n",
        "seller_type_label = tk.Label(window, text='Seller Type (Dealer=0, Individual=1)')\n",
        "seller_type_label.pack()\n",
        "seller_type_input = tk.Entry(window)\n",
        "seller_type_input.pack()\n",
        "\n",
        "transmission_label = tk.Label(window, text='Transmission (Manual=0, Automatic=1)')\n",
        "transmission_label.pack()\n",
        "transmission_input = tk.Entry(window)\n",
        "transmission_input.pack()\n",
        "\n",
        "owner_label = tk.Label(window, text='Number of Owners')\n",
        "owner_label.pack()\n",
        "owner_input = tk.Entry(window)\n",
        "owner_input.pack()\n",
        "'''\n",
        "\n",
        "# Function to predict the vehicle price\n",
        "def predict_price():\n",
        "    try:\n",
        "        # Get input values and scale them\n",
        "        year = float(year_input.get())\n",
        "        present_price = float(present_price_input.get())\n",
        "        kms_driven = float(kms_driven_input.get())\n",
        "'''       \n",
        "        fuel_type = float(fuel_type_input.get())\n",
        "        seller_type = float(seller_type_input.get())\n",
        "        transmission = float(transmission_input.get())\n",
        "        owner = float(owner_input.get())\n",
        "'''        \n",
        "        \n",
        "        scaled_values = scaler.transform([[year, present_price, kms_driven, fuel_type, seller_type, transmission, owner]])\n",
        "        \n",
        "        # Make prediction\n",
        "        predicted_price = model.predict(scaled_values)\n",
        "        \n",
        "        # Display prediction\n",
        "        messagebox.showinfo('Prediction', f'The predicted selling price of the vehicle is {predicted_price[0]:.2f} lakhs.')\n",
        "        \n",
        "    except Exception as e:\n",
        "        messagebox.showerror('Error', 'Please enter valid values for all the features.')\n",
        "\n",
        "# Create a button to predict the vehicle price\n",
        "predict_button = tk.Button(window, text='Predict', command=predict_price)\n",
        "predict_button.pack()\n",
        "\n",
        "window.mainloop()"
      ]
    },
    {
      "cell_type": "code",
      "execution_count": null,
      "metadata": {
        "colab": {
          "base_uri": "https://localhost:8080/"
        },
        "id": "3ggv6HqDQluC",
        "outputId": "10ff3a83-19d1-4900-ab20-aca960401c8c"
      },
      "outputs": [
        {
          "name": "stdout",
          "output_type": "stream",
          "text": [
            " * Serving Flask app '__main__'\n",
            " * Debug mode: off\n"
          ]
        },
        {
          "name": "stderr",
          "output_type": "stream",
          "text": [
            "INFO:werkzeug:\u001b[31m\u001b[1mWARNING: This is a development server. Do not use it in a production deployment. Use a production WSGI server instead.\u001b[0m\n",
            " * Running on http://127.0.0.1:5000\n",
            "INFO:werkzeug:\u001b[33mPress CTRL+C to quit\u001b[0m\n"
          ]
        }
      ],
      "source": [
        "from flask import Flask, request, jsonify\n",
        "\n",
        "app = Flask(__name__)\n",
        "\n",
        "@app.route('/api/cars', methods=['POST'])\n",
        "def submit_car_details():\n",
        "    year = request.form['year']\n",
        "    selling_price = request.form['selling_price']\n",
        "    km_driven = request.form['km_driven']\n",
        "    fuel = request.form['fuel']\n",
        "    seller_type = request.form['seller_type']\n",
        "    transmission = request.form['transmission']\n",
        "    owner = request.form['owner']\n",
        "    mileage = request.form['mileage']\n",
        "    seats = request.form['seats']\n",
        "    brand = request.form['brand']\n",
        "    model = request.form['model']\n",
        "    make_country = request.form['make_country']\n",
        "\n",
        "    # Do something with the form data here...\n",
        "    # For example, you could save it to a database or send an email notification\n",
        "\n",
        "    return jsonify({'success': True})\n",
        "if __name__ == '__main__':\n",
        "    app.run()"
      ]
    },
    {
      "cell_type": "code",
      "execution_count": null,
      "metadata": {
        "colab": {
          "base_uri": "https://localhost:8080/"
        },
        "id": "498jbkgNFZYP",
        "outputId": "d810d039-024c-4e11-c270-e41f1f5a2d60"
      },
      "outputs": [
        {
          "name": "stdout",
          "output_type": "stream",
          "text": [
            "Python 3.9.16\n"
          ]
        }
      ],
      "source": [
        "!python --version"
      ]
    },
    {
      "cell_type": "code",
      "execution_count": null,
      "metadata": {
        "colab": {
          "base_uri": "https://localhost:8080/"
        },
        "id": "QUaU9TvOGBHW",
        "outputId": "d02ebddf-eab1-4286-a2dd-205f7869fc17"
      },
      "outputs": [
        {
          "name": "stdout",
          "output_type": "stream",
          "text": [
            "4.0\n"
          ]
        }
      ],
      "source": [
        "import pickle\n",
        "print(pickle.format_version)"
      ]
    },
    {
      "cell_type": "code",
      "execution_count": null,
      "metadata": {
        "id": "x809XGoZGHY9"
      },
      "outputs": [],
      "source": [
        "with open('rf.pkl', 'wb') as file:\n",
        "  pickle.dump(rf, file)"
      ]
    },
    {
      "cell_type": "code",
      "execution_count": null,
      "metadata": {
        "id": "tk1s58VVGkKR"
      },
      "outputs": [],
      "source": []
    }
  ],
  "metadata": {
    "colab": {
      "provenance": []
    },
    "gpuClass": "standard",
    "kernelspec": {
      "display_name": "Python 3",
      "language": "python",
      "name": "python3"
    },
    "language_info": {
      "codemirror_mode": {
        "name": "ipython",
        "version": 3
      },
      "file_extension": ".py",
      "mimetype": "text/x-python",
      "name": "python",
      "nbconvert_exporter": "python",
      "pygments_lexer": "ipython3",
      "version": "3.10.6"
    }
  },
  "nbformat": 4,
  "nbformat_minor": 0
}
