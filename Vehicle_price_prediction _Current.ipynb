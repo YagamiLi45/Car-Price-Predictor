{
  "cells": [
    {
      "cell_type": "code",
      "execution_count": 2,
      "metadata": {
        "id": "WLPze3yt-IMi"
      },
      "outputs": [],
      "source": [
        "import pandas as pd \n",
        "import numpy as np\n",
        "import matplotlib.pyplot as plt\n",
        "import seaborn as sns "
      ]
    },
    {
      "cell_type": "code",
      "execution_count": 4,
      "metadata": {
        "id": "j1ed--YL-IMk"
      },
      "outputs": [],
      "source": [
        "# from pydrive.auth import GoogleAuth\n",
        "# from pydrive.drive import GoogleDrive \n",
        "# author = GoogleAuth()\n",
        "# author.LocalWebserverAuth() \n",
        "# drive = GoogleDrive(author)\n",
        "\n",
        "# file_id = 'https://drive.google.com/file/d/1FCh9R1tCfwqf-7oAYw9d9SbMaZbV9H4G/view?usp=share_link' \n",
        "# file_name='Car details v3.csv'\n",
        "# file = drive.CreateFile({'id': file_id})\n",
        "# file.GetContentFile(file_name)\n",
        "\n",
        "# # Load the CSV file into a pandas dataframe\n",
        "# df = pd.read_csv(file_name)\n",
        "\n"
      ]
    },
    {
      "cell_type": "code",
      "execution_count": 5,
      "metadata": {
        "id": "vFQ0vJwaLAhB"
      },
      "outputs": [],
      "source": [
        "df=pd.read_csv(\"Car details v3.csv\")"
      ]
    },
    {
      "cell_type": "code",
      "execution_count": 6,
      "metadata": {
        "colab": {
          "base_uri": "https://localhost:8080/",
          "height": 389
        },
        "id": "oHx8_qrz-IMl",
        "outputId": "0357c16c-9750-4089-a17c-9cb7a18748b3"
      },
      "outputs": [
        {
          "data": {
            "text/html": [
              "<div>\n",
              "<style scoped>\n",
              "    .dataframe tbody tr th:only-of-type {\n",
              "        vertical-align: middle;\n",
              "    }\n",
              "\n",
              "    .dataframe tbody tr th {\n",
              "        vertical-align: top;\n",
              "    }\n",
              "\n",
              "    .dataframe thead th {\n",
              "        text-align: right;\n",
              "    }\n",
              "</style>\n",
              "<table border=\"1\" class=\"dataframe\">\n",
              "  <thead>\n",
              "    <tr style=\"text-align: right;\">\n",
              "      <th></th>\n",
              "      <th>name</th>\n",
              "      <th>year</th>\n",
              "      <th>selling_price</th>\n",
              "      <th>km_driven</th>\n",
              "      <th>fuel</th>\n",
              "      <th>seller_type</th>\n",
              "      <th>transmission</th>\n",
              "      <th>owner</th>\n",
              "      <th>mileage</th>\n",
              "      <th>engine</th>\n",
              "      <th>max_power</th>\n",
              "      <th>torque</th>\n",
              "      <th>seats</th>\n",
              "    </tr>\n",
              "  </thead>\n",
              "  <tbody>\n",
              "    <tr>\n",
              "      <th>0</th>\n",
              "      <td>Maruti Swift Dzire VDI</td>\n",
              "      <td>2014</td>\n",
              "      <td>450000</td>\n",
              "      <td>145500</td>\n",
              "      <td>Diesel</td>\n",
              "      <td>Individual</td>\n",
              "      <td>Manual</td>\n",
              "      <td>First Owner</td>\n",
              "      <td>23.4 kmpl</td>\n",
              "      <td>1248 CC</td>\n",
              "      <td>74 bhp</td>\n",
              "      <td>190Nm@ 2000rpm</td>\n",
              "      <td>5.0</td>\n",
              "    </tr>\n",
              "    <tr>\n",
              "      <th>1</th>\n",
              "      <td>Skoda Rapid 1.5 TDI Ambition</td>\n",
              "      <td>2014</td>\n",
              "      <td>370000</td>\n",
              "      <td>120000</td>\n",
              "      <td>Diesel</td>\n",
              "      <td>Individual</td>\n",
              "      <td>Manual</td>\n",
              "      <td>Second Owner</td>\n",
              "      <td>21.14 kmpl</td>\n",
              "      <td>1498 CC</td>\n",
              "      <td>103.52 bhp</td>\n",
              "      <td>250Nm@ 1500-2500rpm</td>\n",
              "      <td>5.0</td>\n",
              "    </tr>\n",
              "    <tr>\n",
              "      <th>2</th>\n",
              "      <td>Honda City 2017-2020 EXi</td>\n",
              "      <td>2006</td>\n",
              "      <td>158000</td>\n",
              "      <td>140000</td>\n",
              "      <td>Petrol</td>\n",
              "      <td>Individual</td>\n",
              "      <td>Manual</td>\n",
              "      <td>Third Owner</td>\n",
              "      <td>17.7 kmpl</td>\n",
              "      <td>1497 CC</td>\n",
              "      <td>78 bhp</td>\n",
              "      <td>12.7@ 2,700(kgm@ rpm)</td>\n",
              "      <td>5.0</td>\n",
              "    </tr>\n",
              "    <tr>\n",
              "      <th>3</th>\n",
              "      <td>Hyundai i20 Sportz Diesel</td>\n",
              "      <td>2010</td>\n",
              "      <td>225000</td>\n",
              "      <td>127000</td>\n",
              "      <td>Diesel</td>\n",
              "      <td>Individual</td>\n",
              "      <td>Manual</td>\n",
              "      <td>First Owner</td>\n",
              "      <td>23.0 kmpl</td>\n",
              "      <td>1396 CC</td>\n",
              "      <td>90 bhp</td>\n",
              "      <td>22.4 kgm at 1750-2750rpm</td>\n",
              "      <td>5.0</td>\n",
              "    </tr>\n",
              "    <tr>\n",
              "      <th>4</th>\n",
              "      <td>Maruti Swift VXI BSIII</td>\n",
              "      <td>2007</td>\n",
              "      <td>130000</td>\n",
              "      <td>120000</td>\n",
              "      <td>Petrol</td>\n",
              "      <td>Individual</td>\n",
              "      <td>Manual</td>\n",
              "      <td>First Owner</td>\n",
              "      <td>16.1 kmpl</td>\n",
              "      <td>1298 CC</td>\n",
              "      <td>88.2 bhp</td>\n",
              "      <td>11.5@ 4,500(kgm@ rpm)</td>\n",
              "      <td>5.0</td>\n",
              "    </tr>\n",
              "  </tbody>\n",
              "</table>\n",
              "</div>"
            ],
            "text/plain": [
              "                           name  year  selling_price  km_driven    fuel  \\\n",
              "0        Maruti Swift Dzire VDI  2014         450000     145500  Diesel   \n",
              "1  Skoda Rapid 1.5 TDI Ambition  2014         370000     120000  Diesel   \n",
              "2      Honda City 2017-2020 EXi  2006         158000     140000  Petrol   \n",
              "3     Hyundai i20 Sportz Diesel  2010         225000     127000  Diesel   \n",
              "4        Maruti Swift VXI BSIII  2007         130000     120000  Petrol   \n",
              "\n",
              "  seller_type transmission         owner     mileage   engine   max_power  \\\n",
              "0  Individual       Manual   First Owner   23.4 kmpl  1248 CC      74 bhp   \n",
              "1  Individual       Manual  Second Owner  21.14 kmpl  1498 CC  103.52 bhp   \n",
              "2  Individual       Manual   Third Owner   17.7 kmpl  1497 CC      78 bhp   \n",
              "3  Individual       Manual   First Owner   23.0 kmpl  1396 CC      90 bhp   \n",
              "4  Individual       Manual   First Owner   16.1 kmpl  1298 CC    88.2 bhp   \n",
              "\n",
              "                     torque  seats  \n",
              "0            190Nm@ 2000rpm    5.0  \n",
              "1       250Nm@ 1500-2500rpm    5.0  \n",
              "2     12.7@ 2,700(kgm@ rpm)    5.0  \n",
              "3  22.4 kgm at 1750-2750rpm    5.0  \n",
              "4     11.5@ 4,500(kgm@ rpm)    5.0  "
            ]
          },
          "execution_count": 6,
          "metadata": {},
          "output_type": "execute_result"
        }
      ],
      "source": [
        "df.head()"
      ]
    },
    {
      "cell_type": "code",
      "execution_count": 7,
      "metadata": {
        "colab": {
          "base_uri": "https://localhost:8080/",
          "height": 300
        },
        "id": "XRad5ZCl-IMm",
        "outputId": "6393e149-1404-417b-f7f1-c969c2049ca8"
      },
      "outputs": [
        {
          "data": {
            "text/html": [
              "<div>\n",
              "<style scoped>\n",
              "    .dataframe tbody tr th:only-of-type {\n",
              "        vertical-align: middle;\n",
              "    }\n",
              "\n",
              "    .dataframe tbody tr th {\n",
              "        vertical-align: top;\n",
              "    }\n",
              "\n",
              "    .dataframe thead th {\n",
              "        text-align: right;\n",
              "    }\n",
              "</style>\n",
              "<table border=\"1\" class=\"dataframe\">\n",
              "  <thead>\n",
              "    <tr style=\"text-align: right;\">\n",
              "      <th></th>\n",
              "      <th>year</th>\n",
              "      <th>selling_price</th>\n",
              "      <th>km_driven</th>\n",
              "      <th>seats</th>\n",
              "    </tr>\n",
              "  </thead>\n",
              "  <tbody>\n",
              "    <tr>\n",
              "      <th>count</th>\n",
              "      <td>8128.000000</td>\n",
              "      <td>8.128000e+03</td>\n",
              "      <td>8.128000e+03</td>\n",
              "      <td>7907.000000</td>\n",
              "    </tr>\n",
              "    <tr>\n",
              "      <th>mean</th>\n",
              "      <td>2013.804011</td>\n",
              "      <td>6.382718e+05</td>\n",
              "      <td>6.981951e+04</td>\n",
              "      <td>5.416719</td>\n",
              "    </tr>\n",
              "    <tr>\n",
              "      <th>std</th>\n",
              "      <td>4.044249</td>\n",
              "      <td>8.062534e+05</td>\n",
              "      <td>5.655055e+04</td>\n",
              "      <td>0.959588</td>\n",
              "    </tr>\n",
              "    <tr>\n",
              "      <th>min</th>\n",
              "      <td>1983.000000</td>\n",
              "      <td>2.999900e+04</td>\n",
              "      <td>1.000000e+00</td>\n",
              "      <td>2.000000</td>\n",
              "    </tr>\n",
              "    <tr>\n",
              "      <th>25%</th>\n",
              "      <td>2011.000000</td>\n",
              "      <td>2.549990e+05</td>\n",
              "      <td>3.500000e+04</td>\n",
              "      <td>5.000000</td>\n",
              "    </tr>\n",
              "    <tr>\n",
              "      <th>50%</th>\n",
              "      <td>2015.000000</td>\n",
              "      <td>4.500000e+05</td>\n",
              "      <td>6.000000e+04</td>\n",
              "      <td>5.000000</td>\n",
              "    </tr>\n",
              "    <tr>\n",
              "      <th>75%</th>\n",
              "      <td>2017.000000</td>\n",
              "      <td>6.750000e+05</td>\n",
              "      <td>9.800000e+04</td>\n",
              "      <td>5.000000</td>\n",
              "    </tr>\n",
              "    <tr>\n",
              "      <th>max</th>\n",
              "      <td>2020.000000</td>\n",
              "      <td>1.000000e+07</td>\n",
              "      <td>2.360457e+06</td>\n",
              "      <td>14.000000</td>\n",
              "    </tr>\n",
              "  </tbody>\n",
              "</table>\n",
              "</div>"
            ],
            "text/plain": [
              "              year  selling_price     km_driven        seats\n",
              "count  8128.000000   8.128000e+03  8.128000e+03  7907.000000\n",
              "mean   2013.804011   6.382718e+05  6.981951e+04     5.416719\n",
              "std       4.044249   8.062534e+05  5.655055e+04     0.959588\n",
              "min    1983.000000   2.999900e+04  1.000000e+00     2.000000\n",
              "25%    2011.000000   2.549990e+05  3.500000e+04     5.000000\n",
              "50%    2015.000000   4.500000e+05  6.000000e+04     5.000000\n",
              "75%    2017.000000   6.750000e+05  9.800000e+04     5.000000\n",
              "max    2020.000000   1.000000e+07  2.360457e+06    14.000000"
            ]
          },
          "execution_count": 7,
          "metadata": {},
          "output_type": "execute_result"
        }
      ],
      "source": [
        "df.describe()"
      ]
    },
    {
      "cell_type": "code",
      "execution_count": 8,
      "metadata": {
        "colab": {
          "base_uri": "https://localhost:8080/"
        },
        "id": "NPpwfgwi-IMn",
        "outputId": "43749160-6aa9-43a6-80bd-f27dec8c0ab8"
      },
      "outputs": [
        {
          "data": {
            "text/plain": [
              "(8128, 13)"
            ]
          },
          "execution_count": 8,
          "metadata": {},
          "output_type": "execute_result"
        }
      ],
      "source": [
        "df.shape"
      ]
    },
    {
      "cell_type": "code",
      "execution_count": 9,
      "metadata": {
        "colab": {
          "base_uri": "https://localhost:8080/"
        },
        "id": "QyJeDQdo-IMn",
        "outputId": "ab1808a0-1123-44c0-8211-b0ce22bc5862"
      },
      "outputs": [
        {
          "name": "stdout",
          "output_type": "stream",
          "text": [
            "<class 'pandas.core.frame.DataFrame'>\n",
            "RangeIndex: 8128 entries, 0 to 8127\n",
            "Data columns (total 13 columns):\n",
            " #   Column         Non-Null Count  Dtype  \n",
            "---  ------         --------------  -----  \n",
            " 0   name           8128 non-null   object \n",
            " 1   year           8128 non-null   int64  \n",
            " 2   selling_price  8128 non-null   int64  \n",
            " 3   km_driven      8128 non-null   int64  \n",
            " 4   fuel           8128 non-null   object \n",
            " 5   seller_type    8128 non-null   object \n",
            " 6   transmission   8128 non-null   object \n",
            " 7   owner          8128 non-null   object \n",
            " 8   mileage        7907 non-null   object \n",
            " 9   engine         7907 non-null   object \n",
            " 10  max_power      7913 non-null   object \n",
            " 11  torque         7906 non-null   object \n",
            " 12  seats          7907 non-null   float64\n",
            "dtypes: float64(1), int64(3), object(9)\n",
            "memory usage: 825.6+ KB\n"
          ]
        }
      ],
      "source": [
        "df.info()"
      ]
    },
    {
      "cell_type": "code",
      "execution_count": 10,
      "metadata": {
        "colab": {
          "base_uri": "https://localhost:8080/"
        },
        "id": "QhjEUWKw-IMn",
        "outputId": "b6ee0dc9-5600-4b3d-f211-5934c179fc9a"
      },
      "outputs": [
        {
          "data": {
            "text/plain": [
              "Index(['name', 'year', 'selling_price', 'km_driven', 'fuel', 'seller_type',\n",
              "       'transmission', 'owner', 'mileage', 'engine', 'max_power', 'torque',\n",
              "       'seats'],\n",
              "      dtype='object')"
            ]
          },
          "execution_count": 10,
          "metadata": {},
          "output_type": "execute_result"
        }
      ],
      "source": [
        "df.columns"
      ]
    },
    {
      "cell_type": "code",
      "execution_count": 11,
      "metadata": {
        "colab": {
          "base_uri": "https://localhost:8080/"
        },
        "id": "LyFRxfpgZSbe",
        "outputId": "53b53a3d-65a1-465c-affb-f679a30eced7"
      },
      "outputs": [
        {
          "data": {
            "text/plain": [
              "name               0\n",
              "year               0\n",
              "selling_price      0\n",
              "km_driven          0\n",
              "fuel               0\n",
              "seller_type        0\n",
              "transmission       0\n",
              "owner              0\n",
              "mileage          221\n",
              "engine           221\n",
              "max_power        215\n",
              "torque           222\n",
              "seats            221\n",
              "dtype: int64"
            ]
          },
          "execution_count": 11,
          "metadata": {},
          "output_type": "execute_result"
        }
      ],
      "source": [
        "df.isnull().sum()"
      ]
    },
    {
      "cell_type": "code",
      "execution_count": null,
      "metadata": {
        "id": "DKIeSuldZcPd"
      },
      "outputs": [],
      "source": []
    },
    {
      "cell_type": "code",
      "execution_count": 12,
      "metadata": {
        "id": "XcutUSqH-IMn"
      },
      "outputs": [],
      "source": [
        "df.dropna(inplace=True)"
      ]
    },
    {
      "cell_type": "code",
      "execution_count": 13,
      "metadata": {
        "colab": {
          "base_uri": "https://localhost:8080/"
        },
        "id": "H15XJ94TV-QU",
        "outputId": "6d5ca0d8-5d9f-4d55-8f7a-8cbb49551946"
      },
      "outputs": [
        {
          "data": {
            "text/plain": [
              "(7906, 13)"
            ]
          },
          "execution_count": 13,
          "metadata": {},
          "output_type": "execute_result"
        }
      ],
      "source": [
        "df.shape"
      ]
    },
    {
      "cell_type": "code",
      "execution_count": 14,
      "metadata": {
        "colab": {
          "base_uri": "https://localhost:8080/"
        },
        "id": "IOnoCBOQ-IMo",
        "outputId": "96bf793e-ce95-4187-eb49-0ab69db150bc"
      },
      "outputs": [
        {
          "name": "stdout",
          "output_type": "stream",
          "text": [
            "Diesel    4299\n",
            "Petrol    3520\n",
            "CNG         52\n",
            "LPG         35\n",
            "Name: fuel, dtype: int64\n",
            "Individual          6563\n",
            "Dealer              1107\n",
            "Trustmark Dealer     236\n",
            "Name: seller_type, dtype: int64\n",
            "Manual       6865\n",
            "Automatic    1041\n",
            "Name: transmission, dtype: int64\n",
            "5.0     6254\n",
            "7.0     1120\n",
            "8.0      235\n",
            "4.0      133\n",
            "9.0       80\n",
            "6.0       62\n",
            "10.0      19\n",
            "2.0        2\n",
            "14.0       1\n",
            "Name: seats, dtype: int64\n",
            "18.9 kmpl      225\n",
            "19.7 kmpl      173\n",
            "18.6 kmpl      164\n",
            "21.1 kmpl      157\n",
            "17.0 kmpl      133\n",
            "              ... \n",
            "16.34 kmpl       1\n",
            "19.69 kmpl       1\n",
            "20.88 km/kg      1\n",
            "17.8 km/kg       1\n",
            "16.51 kmpl       1\n",
            "Name: mileage, Length: 393, dtype: int64\n",
            "Maruti Swift Dzire VDI                          129\n",
            "Maruti Alto 800 LXI                              82\n",
            "Maruti Alto LXi                                  71\n",
            "BMW X4 M Sport X xDrive20d                       62\n",
            "Maruti Swift VDI                                 61\n",
            "                                               ... \n",
            "Honda Jazz 1.2 S AT i VTEC                        1\n",
            "Hyundai i20 Active 1.2 SX with AVN                1\n",
            "Ambassador CLASSIC 1500 DSL AC                    1\n",
            "Tata Harrier XZ Dark Edition BSIV                 1\n",
            "Toyota Innova 2.5 GX (Diesel) 8 Seater BS IV      1\n",
            "Name: name, Length: 1982, dtype: int64\n",
            "First Owner             5215\n",
            "Second Owner            2016\n",
            "Third Owner              510\n",
            "Fourth & Above Owner     160\n",
            "Test Drive Car             5\n",
            "Name: owner, dtype: int64\n"
          ]
        }
      ],
      "source": [
        "print(df['fuel'].value_counts())\n",
        "print(df['seller_type'].value_counts())\n",
        "print(df['transmission'].value_counts())\n",
        "print(df['seats'].value_counts())\n",
        "print(df['mileage'].value_counts())\n",
        "print(df['name'].value_counts())\n",
        "print(df['owner'].value_counts())"
      ]
    },
    {
      "cell_type": "code",
      "execution_count": 15,
      "metadata": {
        "colab": {
          "base_uri": "https://localhost:8080/"
        },
        "id": "QZV45bRq0dpE",
        "outputId": "88ed92f0-0655-4042-e501-4c7549ca5b85"
      },
      "outputs": [
        {
          "name": "stdout",
          "output_type": "stream",
          "text": [
            "0        23.4\n",
            "1       21.14\n",
            "2        17.7\n",
            "3        23.0\n",
            "4        16.1\n",
            "        ...  \n",
            "8123     18.5\n",
            "8124     16.8\n",
            "8125     19.3\n",
            "8126    23.57\n",
            "8127    23.57\n",
            "Name: mileage, Length: 7906, dtype: object\n",
            "0       23.40\n",
            "1       21.14\n",
            "2       17.70\n",
            "3       23.00\n",
            "4       16.10\n",
            "        ...  \n",
            "8123    18.50\n",
            "8124    16.80\n",
            "8125    19.30\n",
            "8126    23.57\n",
            "8127    23.57\n",
            "Name: mileage, Length: 7906, dtype: float64\n",
            "      year  selling_price  km_driven    fuel seller_type transmission  \\\n",
            "0     2014         450000     145500  Diesel  Individual       Manual   \n",
            "1     2014         370000     120000  Diesel  Individual       Manual   \n",
            "2     2006         158000     140000  Petrol  Individual       Manual   \n",
            "3     2010         225000     127000  Diesel  Individual       Manual   \n",
            "4     2007         130000     120000  Petrol  Individual       Manual   \n",
            "...    ...            ...        ...     ...         ...          ...   \n",
            "8123  2013         320000     110000  Petrol  Individual       Manual   \n",
            "8124  2007         135000     119000  Diesel  Individual       Manual   \n",
            "8125  2009         382000     120000  Diesel  Individual       Manual   \n",
            "8126  2013         290000      25000  Diesel  Individual       Manual   \n",
            "8127  2013         290000      25000  Diesel  Individual       Manual   \n",
            "\n",
            "                     owner  mileage  seats    Brand                   Model  \n",
            "0              First Owner    23.40    5.0   Maruti         Swift Dzire VDI  \n",
            "1             Second Owner    21.14    5.0    Skoda  Rapid 1.5 TDI Ambition  \n",
            "2              Third Owner    17.70    5.0    Honda      City 2017-2020 EXi  \n",
            "3              First Owner    23.00    5.0  Hyundai       i20 Sportz Diesel  \n",
            "4              First Owner    16.10    5.0   Maruti         Swift VXI BSIII  \n",
            "...                    ...      ...    ...      ...                     ...  \n",
            "8123           First Owner    18.50    5.0  Hyundai               i20 Magna  \n",
            "8124  Fourth & Above Owner    16.80    5.0  Hyundai           Verna CRDi SX  \n",
            "8125           First Owner    19.30    5.0   Maruti         Swift Dzire ZDi  \n",
            "8126           First Owner    23.57    5.0     Tata              Indigo CR4  \n",
            "8127           First Owner    23.57    5.0     Tata              Indigo CR4  \n",
            "\n",
            "[7906 rows x 11 columns]\n"
          ]
        },
        {
          "name": "stderr",
          "output_type": "stream",
          "text": [
            "C:\\Users\\shant\\AppData\\Local\\Temp\\ipykernel_16268\\3517751090.py:3: FutureWarning: In a future version of pandas all arguments of StringMethods.split except for the argument 'pat' will be keyword-only.\n",
            "  df[['Brand', 'Model']] = df['name'].str.split(' ', 1, expand=True)\n"
          ]
        }
      ],
      "source": [
        "#Drop some columns that actually not need i.e. engine,seats,torque\n",
        "#in that  case we will different comapnay name and model \n",
        "df[['Brand', 'Model']] = df['name'].str.split(' ', 1, expand=True)\n",
        "df['mileage']=df['mileage'].str.split(' ').str.get(0)\n",
        "print(df['mileage'])\n",
        "df['mileage']=df['mileage'].astype(float)\n",
        "print(df['mileage'])\n",
        "df=df.drop(['name'],axis=1)\n",
        "df=df.drop(['torque','engine','max_power'],axis=1)\n",
        "print(df)"
      ]
    },
    {
      "cell_type": "code",
      "execution_count": 16,
      "metadata": {
        "colab": {
          "base_uri": "https://localhost:8080/"
        },
        "id": "WB1QQyD04-BP",
        "outputId": "7bb5dd33-8b28-4b90-f38e-9dcecbd5707c"
      },
      "outputs": [
        {
          "name": "stdout",
          "output_type": "stream",
          "text": [
            "Maruti           2367\n",
            "Hyundai          1360\n",
            "Mahindra          758\n",
            "Tata              719\n",
            "Honda             466\n",
            "Toyota            452\n",
            "Ford              388\n",
            "Chevrolet         230\n",
            "Renault           228\n",
            "Volkswagen        185\n",
            "BMW               118\n",
            "Skoda             104\n",
            "Nissan             81\n",
            "Jaguar             71\n",
            "Volvo              67\n",
            "Datsun             65\n",
            "Mercedes-Benz      54\n",
            "Fiat               41\n",
            "Audi               40\n",
            "Lexus              34\n",
            "Jeep               31\n",
            "Mitsubishi         14\n",
            "Force               6\n",
            "Land                6\n",
            "Isuzu               5\n",
            "Kia                 4\n",
            "Ambassador          4\n",
            "Daewoo              3\n",
            "MG                  3\n",
            "Ashok               1\n",
            "Opel                1\n",
            "Name: Brand, dtype: int64\n",
            "Swift Dzire VDI                          129\n",
            "Alto 800 LXI                              82\n",
            "Alto LXi                                  71\n",
            "X4 M Sport X xDrive20d                    62\n",
            "Swift VDI                                 61\n",
            "                                        ... \n",
            "Jazz 1.2 S AT i VTEC                       1\n",
            "i20 Active 1.2 SX with AVN                 1\n",
            "CLASSIC 1500 DSL AC                        1\n",
            "Harrier XZ Dark Edition BSIV               1\n",
            "Innova 2.5 GX (Diesel) 8 Seater BS IV      1\n",
            "Name: Model, Length: 1982, dtype: int64\n"
          ]
        }
      ],
      "source": [
        "print(df['Brand'].value_counts())\n",
        "print(df['Model'].value_counts())"
      ]
    },
    {
      "cell_type": "code",
      "execution_count": 17,
      "metadata": {
        "id": "gEJxzQRingge"
      },
      "outputs": [],
      "source": [
        "df[\"make_country\"] = 'Other'\n",
        "df.loc[df.Brand.isin(['Maruti', 'Mahindra', 'Tata', 'Force', 'Ambassador', 'Ashok']), \"make_country\"] = 'India'\n",
        "df.loc[df.Brand.isin(['Honda', 'Toyota', 'Nissan', 'Lexus', 'Isuzu', 'Mitsubishi', 'Datsun']), \"make_country\"] = 'Japan'\n",
        "df.loc[df.Brand.isin([ 'Ford', 'Chevrolet', 'Jeep']), \"make_country\"] = 'America'\n",
        "df.loc[df.Brand.isin([ 'Kia', 'Daewoo','Hyundai']), \"make_country\"] = 'South Korea'\n",
        "df.loc[df.Brand.isin(['Volkswagen', 'BMW', 'Skoda', 'Mercedes-Benz', 'Audi', 'Opel']), \"make_country\"] = 'Germany'\n",
        "df.loc[df.Brand.isin(['Jaguar', 'Land']), \"make_country\"] = 'UK'\n",
        "df.loc[df.Brand.isin(['Volvo','MG','Fiat','Renault']), \"make_country\"] = 'Other'\n"
      ]
    },
    {
      "cell_type": "code",
      "execution_count": 18,
      "metadata": {
        "colab": {
          "base_uri": "https://localhost:8080/",
          "height": 502
        },
        "id": "MOVnkuUv1Xj5",
        "outputId": "bf35a605-0f5e-4afb-f259-9cbfea9debff"
      },
      "outputs": [
        {
          "data": {
            "text/html": [
              "<div>\n",
              "<style scoped>\n",
              "    .dataframe tbody tr th:only-of-type {\n",
              "        vertical-align: middle;\n",
              "    }\n",
              "\n",
              "    .dataframe tbody tr th {\n",
              "        vertical-align: top;\n",
              "    }\n",
              "\n",
              "    .dataframe thead th {\n",
              "        text-align: right;\n",
              "    }\n",
              "</style>\n",
              "<table border=\"1\" class=\"dataframe\">\n",
              "  <thead>\n",
              "    <tr style=\"text-align: right;\">\n",
              "      <th></th>\n",
              "      <th>year</th>\n",
              "      <th>selling_price</th>\n",
              "      <th>km_driven</th>\n",
              "      <th>fuel</th>\n",
              "      <th>seller_type</th>\n",
              "      <th>transmission</th>\n",
              "      <th>owner</th>\n",
              "      <th>mileage</th>\n",
              "      <th>seats</th>\n",
              "      <th>Brand</th>\n",
              "      <th>Model</th>\n",
              "      <th>make_country</th>\n",
              "    </tr>\n",
              "  </thead>\n",
              "  <tbody>\n",
              "    <tr>\n",
              "      <th>0</th>\n",
              "      <td>2014</td>\n",
              "      <td>450000</td>\n",
              "      <td>145500</td>\n",
              "      <td>Diesel</td>\n",
              "      <td>Individual</td>\n",
              "      <td>Manual</td>\n",
              "      <td>First Owner</td>\n",
              "      <td>23.40</td>\n",
              "      <td>5.0</td>\n",
              "      <td>Maruti</td>\n",
              "      <td>Swift Dzire VDI</td>\n",
              "      <td>India</td>\n",
              "    </tr>\n",
              "    <tr>\n",
              "      <th>1</th>\n",
              "      <td>2014</td>\n",
              "      <td>370000</td>\n",
              "      <td>120000</td>\n",
              "      <td>Diesel</td>\n",
              "      <td>Individual</td>\n",
              "      <td>Manual</td>\n",
              "      <td>Second Owner</td>\n",
              "      <td>21.14</td>\n",
              "      <td>5.0</td>\n",
              "      <td>Skoda</td>\n",
              "      <td>Rapid 1.5 TDI Ambition</td>\n",
              "      <td>Germany</td>\n",
              "    </tr>\n",
              "    <tr>\n",
              "      <th>2</th>\n",
              "      <td>2006</td>\n",
              "      <td>158000</td>\n",
              "      <td>140000</td>\n",
              "      <td>Petrol</td>\n",
              "      <td>Individual</td>\n",
              "      <td>Manual</td>\n",
              "      <td>Third Owner</td>\n",
              "      <td>17.70</td>\n",
              "      <td>5.0</td>\n",
              "      <td>Honda</td>\n",
              "      <td>City 2017-2020 EXi</td>\n",
              "      <td>Japan</td>\n",
              "    </tr>\n",
              "    <tr>\n",
              "      <th>3</th>\n",
              "      <td>2010</td>\n",
              "      <td>225000</td>\n",
              "      <td>127000</td>\n",
              "      <td>Diesel</td>\n",
              "      <td>Individual</td>\n",
              "      <td>Manual</td>\n",
              "      <td>First Owner</td>\n",
              "      <td>23.00</td>\n",
              "      <td>5.0</td>\n",
              "      <td>Hyundai</td>\n",
              "      <td>i20 Sportz Diesel</td>\n",
              "      <td>South Korea</td>\n",
              "    </tr>\n",
              "    <tr>\n",
              "      <th>4</th>\n",
              "      <td>2007</td>\n",
              "      <td>130000</td>\n",
              "      <td>120000</td>\n",
              "      <td>Petrol</td>\n",
              "      <td>Individual</td>\n",
              "      <td>Manual</td>\n",
              "      <td>First Owner</td>\n",
              "      <td>16.10</td>\n",
              "      <td>5.0</td>\n",
              "      <td>Maruti</td>\n",
              "      <td>Swift VXI BSIII</td>\n",
              "      <td>India</td>\n",
              "    </tr>\n",
              "    <tr>\n",
              "      <th>...</th>\n",
              "      <td>...</td>\n",
              "      <td>...</td>\n",
              "      <td>...</td>\n",
              "      <td>...</td>\n",
              "      <td>...</td>\n",
              "      <td>...</td>\n",
              "      <td>...</td>\n",
              "      <td>...</td>\n",
              "      <td>...</td>\n",
              "      <td>...</td>\n",
              "      <td>...</td>\n",
              "      <td>...</td>\n",
              "    </tr>\n",
              "    <tr>\n",
              "      <th>8123</th>\n",
              "      <td>2013</td>\n",
              "      <td>320000</td>\n",
              "      <td>110000</td>\n",
              "      <td>Petrol</td>\n",
              "      <td>Individual</td>\n",
              "      <td>Manual</td>\n",
              "      <td>First Owner</td>\n",
              "      <td>18.50</td>\n",
              "      <td>5.0</td>\n",
              "      <td>Hyundai</td>\n",
              "      <td>i20 Magna</td>\n",
              "      <td>South Korea</td>\n",
              "    </tr>\n",
              "    <tr>\n",
              "      <th>8124</th>\n",
              "      <td>2007</td>\n",
              "      <td>135000</td>\n",
              "      <td>119000</td>\n",
              "      <td>Diesel</td>\n",
              "      <td>Individual</td>\n",
              "      <td>Manual</td>\n",
              "      <td>Fourth &amp; Above Owner</td>\n",
              "      <td>16.80</td>\n",
              "      <td>5.0</td>\n",
              "      <td>Hyundai</td>\n",
              "      <td>Verna CRDi SX</td>\n",
              "      <td>South Korea</td>\n",
              "    </tr>\n",
              "    <tr>\n",
              "      <th>8125</th>\n",
              "      <td>2009</td>\n",
              "      <td>382000</td>\n",
              "      <td>120000</td>\n",
              "      <td>Diesel</td>\n",
              "      <td>Individual</td>\n",
              "      <td>Manual</td>\n",
              "      <td>First Owner</td>\n",
              "      <td>19.30</td>\n",
              "      <td>5.0</td>\n",
              "      <td>Maruti</td>\n",
              "      <td>Swift Dzire ZDi</td>\n",
              "      <td>India</td>\n",
              "    </tr>\n",
              "    <tr>\n",
              "      <th>8126</th>\n",
              "      <td>2013</td>\n",
              "      <td>290000</td>\n",
              "      <td>25000</td>\n",
              "      <td>Diesel</td>\n",
              "      <td>Individual</td>\n",
              "      <td>Manual</td>\n",
              "      <td>First Owner</td>\n",
              "      <td>23.57</td>\n",
              "      <td>5.0</td>\n",
              "      <td>Tata</td>\n",
              "      <td>Indigo CR4</td>\n",
              "      <td>India</td>\n",
              "    </tr>\n",
              "    <tr>\n",
              "      <th>8127</th>\n",
              "      <td>2013</td>\n",
              "      <td>290000</td>\n",
              "      <td>25000</td>\n",
              "      <td>Diesel</td>\n",
              "      <td>Individual</td>\n",
              "      <td>Manual</td>\n",
              "      <td>First Owner</td>\n",
              "      <td>23.57</td>\n",
              "      <td>5.0</td>\n",
              "      <td>Tata</td>\n",
              "      <td>Indigo CR4</td>\n",
              "      <td>India</td>\n",
              "    </tr>\n",
              "  </tbody>\n",
              "</table>\n",
              "<p>7906 rows × 12 columns</p>\n",
              "</div>"
            ],
            "text/plain": [
              "      year  selling_price  km_driven    fuel seller_type transmission  \\\n",
              "0     2014         450000     145500  Diesel  Individual       Manual   \n",
              "1     2014         370000     120000  Diesel  Individual       Manual   \n",
              "2     2006         158000     140000  Petrol  Individual       Manual   \n",
              "3     2010         225000     127000  Diesel  Individual       Manual   \n",
              "4     2007         130000     120000  Petrol  Individual       Manual   \n",
              "...    ...            ...        ...     ...         ...          ...   \n",
              "8123  2013         320000     110000  Petrol  Individual       Manual   \n",
              "8124  2007         135000     119000  Diesel  Individual       Manual   \n",
              "8125  2009         382000     120000  Diesel  Individual       Manual   \n",
              "8126  2013         290000      25000  Diesel  Individual       Manual   \n",
              "8127  2013         290000      25000  Diesel  Individual       Manual   \n",
              "\n",
              "                     owner  mileage  seats    Brand                   Model  \\\n",
              "0              First Owner    23.40    5.0   Maruti         Swift Dzire VDI   \n",
              "1             Second Owner    21.14    5.0    Skoda  Rapid 1.5 TDI Ambition   \n",
              "2              Third Owner    17.70    5.0    Honda      City 2017-2020 EXi   \n",
              "3              First Owner    23.00    5.0  Hyundai       i20 Sportz Diesel   \n",
              "4              First Owner    16.10    5.0   Maruti         Swift VXI BSIII   \n",
              "...                    ...      ...    ...      ...                     ...   \n",
              "8123           First Owner    18.50    5.0  Hyundai               i20 Magna   \n",
              "8124  Fourth & Above Owner    16.80    5.0  Hyundai           Verna CRDi SX   \n",
              "8125           First Owner    19.30    5.0   Maruti         Swift Dzire ZDi   \n",
              "8126           First Owner    23.57    5.0     Tata              Indigo CR4   \n",
              "8127           First Owner    23.57    5.0     Tata              Indigo CR4   \n",
              "\n",
              "     make_country  \n",
              "0           India  \n",
              "1         Germany  \n",
              "2           Japan  \n",
              "3     South Korea  \n",
              "4           India  \n",
              "...           ...  \n",
              "8123  South Korea  \n",
              "8124  South Korea  \n",
              "8125        India  \n",
              "8126        India  \n",
              "8127        India  \n",
              "\n",
              "[7906 rows x 12 columns]"
            ]
          },
          "execution_count": 18,
          "metadata": {},
          "output_type": "execute_result"
        }
      ],
      "source": [
        "df"
      ]
    },
    {
      "cell_type": "code",
      "execution_count": 19,
      "metadata": {
        "colab": {
          "base_uri": "https://localhost:8080/"
        },
        "id": "OHrhYXxGVUh6",
        "outputId": "ed3e51d0-1655-44b6-afca-29e05cc3ccf7"
      },
      "outputs": [
        {
          "data": {
            "text/plain": [
              "array(['Manual', 'Automatic'], dtype=object)"
            ]
          },
          "execution_count": 19,
          "metadata": {},
          "output_type": "execute_result"
        }
      ],
      "source": [
        "df.transmission.unique()"
      ]
    },
    {
      "cell_type": "code",
      "execution_count": 20,
      "metadata": {
        "colab": {
          "base_uri": "https://localhost:8080/"
        },
        "id": "xwULo_9ZVhPt",
        "outputId": "9abd2b5a-c589-42d8-d305-0eb328ef59b9"
      },
      "outputs": [
        {
          "data": {
            "text/plain": [
              "array(['Individual', 'Dealer', 'Trustmark Dealer'], dtype=object)"
            ]
          },
          "execution_count": 20,
          "metadata": {},
          "output_type": "execute_result"
        }
      ],
      "source": [
        "df.seller_type.unique()"
      ]
    },
    {
      "cell_type": "code",
      "execution_count": 21,
      "metadata": {
        "colab": {
          "base_uri": "https://localhost:8080/",
          "height": 502
        },
        "id": "QomNiwWCq_ZE",
        "outputId": "ff443afd-7095-463b-f3a6-8639f016a66e"
      },
      "outputs": [
        {
          "data": {
            "text/html": [
              "<div>\n",
              "<style scoped>\n",
              "    .dataframe tbody tr th:only-of-type {\n",
              "        vertical-align: middle;\n",
              "    }\n",
              "\n",
              "    .dataframe tbody tr th {\n",
              "        vertical-align: top;\n",
              "    }\n",
              "\n",
              "    .dataframe thead th {\n",
              "        text-align: right;\n",
              "    }\n",
              "</style>\n",
              "<table border=\"1\" class=\"dataframe\">\n",
              "  <thead>\n",
              "    <tr style=\"text-align: right;\">\n",
              "      <th></th>\n",
              "      <th>year</th>\n",
              "      <th>selling_price</th>\n",
              "      <th>km_driven</th>\n",
              "      <th>fuel</th>\n",
              "      <th>seller_type</th>\n",
              "      <th>transmission</th>\n",
              "      <th>owner</th>\n",
              "      <th>mileage</th>\n",
              "      <th>seats</th>\n",
              "      <th>Brand</th>\n",
              "      <th>Model</th>\n",
              "      <th>make_country</th>\n",
              "    </tr>\n",
              "  </thead>\n",
              "  <tbody>\n",
              "    <tr>\n",
              "      <th>0</th>\n",
              "      <td>2014</td>\n",
              "      <td>450000</td>\n",
              "      <td>145500</td>\n",
              "      <td>Diesel</td>\n",
              "      <td>Individual</td>\n",
              "      <td>Manual</td>\n",
              "      <td>First Owner</td>\n",
              "      <td>23.40</td>\n",
              "      <td>5.0</td>\n",
              "      <td>Maruti</td>\n",
              "      <td>Swift Dzire VDI</td>\n",
              "      <td>India</td>\n",
              "    </tr>\n",
              "    <tr>\n",
              "      <th>1</th>\n",
              "      <td>2014</td>\n",
              "      <td>370000</td>\n",
              "      <td>120000</td>\n",
              "      <td>Diesel</td>\n",
              "      <td>Individual</td>\n",
              "      <td>Manual</td>\n",
              "      <td>Second Owner</td>\n",
              "      <td>21.14</td>\n",
              "      <td>5.0</td>\n",
              "      <td>Skoda</td>\n",
              "      <td>Rapid 1.5 TDI Ambition</td>\n",
              "      <td>Germany</td>\n",
              "    </tr>\n",
              "    <tr>\n",
              "      <th>2</th>\n",
              "      <td>2006</td>\n",
              "      <td>158000</td>\n",
              "      <td>140000</td>\n",
              "      <td>Petrol</td>\n",
              "      <td>Individual</td>\n",
              "      <td>Manual</td>\n",
              "      <td>Third Owner</td>\n",
              "      <td>17.70</td>\n",
              "      <td>5.0</td>\n",
              "      <td>Honda</td>\n",
              "      <td>City 2017-2020 EXi</td>\n",
              "      <td>Japan</td>\n",
              "    </tr>\n",
              "    <tr>\n",
              "      <th>3</th>\n",
              "      <td>2010</td>\n",
              "      <td>225000</td>\n",
              "      <td>127000</td>\n",
              "      <td>Diesel</td>\n",
              "      <td>Individual</td>\n",
              "      <td>Manual</td>\n",
              "      <td>First Owner</td>\n",
              "      <td>23.00</td>\n",
              "      <td>5.0</td>\n",
              "      <td>Hyundai</td>\n",
              "      <td>i20 Sportz Diesel</td>\n",
              "      <td>South Korea</td>\n",
              "    </tr>\n",
              "    <tr>\n",
              "      <th>4</th>\n",
              "      <td>2007</td>\n",
              "      <td>130000</td>\n",
              "      <td>120000</td>\n",
              "      <td>Petrol</td>\n",
              "      <td>Individual</td>\n",
              "      <td>Manual</td>\n",
              "      <td>First Owner</td>\n",
              "      <td>16.10</td>\n",
              "      <td>5.0</td>\n",
              "      <td>Maruti</td>\n",
              "      <td>Swift VXI BSIII</td>\n",
              "      <td>India</td>\n",
              "    </tr>\n",
              "    <tr>\n",
              "      <th>...</th>\n",
              "      <td>...</td>\n",
              "      <td>...</td>\n",
              "      <td>...</td>\n",
              "      <td>...</td>\n",
              "      <td>...</td>\n",
              "      <td>...</td>\n",
              "      <td>...</td>\n",
              "      <td>...</td>\n",
              "      <td>...</td>\n",
              "      <td>...</td>\n",
              "      <td>...</td>\n",
              "      <td>...</td>\n",
              "    </tr>\n",
              "    <tr>\n",
              "      <th>8123</th>\n",
              "      <td>2013</td>\n",
              "      <td>320000</td>\n",
              "      <td>110000</td>\n",
              "      <td>Petrol</td>\n",
              "      <td>Individual</td>\n",
              "      <td>Manual</td>\n",
              "      <td>First Owner</td>\n",
              "      <td>18.50</td>\n",
              "      <td>5.0</td>\n",
              "      <td>Hyundai</td>\n",
              "      <td>i20 Magna</td>\n",
              "      <td>South Korea</td>\n",
              "    </tr>\n",
              "    <tr>\n",
              "      <th>8124</th>\n",
              "      <td>2007</td>\n",
              "      <td>135000</td>\n",
              "      <td>119000</td>\n",
              "      <td>Diesel</td>\n",
              "      <td>Individual</td>\n",
              "      <td>Manual</td>\n",
              "      <td>Fourth &amp; Above Owner</td>\n",
              "      <td>16.80</td>\n",
              "      <td>5.0</td>\n",
              "      <td>Hyundai</td>\n",
              "      <td>Verna CRDi SX</td>\n",
              "      <td>South Korea</td>\n",
              "    </tr>\n",
              "    <tr>\n",
              "      <th>8125</th>\n",
              "      <td>2009</td>\n",
              "      <td>382000</td>\n",
              "      <td>120000</td>\n",
              "      <td>Diesel</td>\n",
              "      <td>Individual</td>\n",
              "      <td>Manual</td>\n",
              "      <td>First Owner</td>\n",
              "      <td>19.30</td>\n",
              "      <td>5.0</td>\n",
              "      <td>Maruti</td>\n",
              "      <td>Swift Dzire ZDi</td>\n",
              "      <td>India</td>\n",
              "    </tr>\n",
              "    <tr>\n",
              "      <th>8126</th>\n",
              "      <td>2013</td>\n",
              "      <td>290000</td>\n",
              "      <td>25000</td>\n",
              "      <td>Diesel</td>\n",
              "      <td>Individual</td>\n",
              "      <td>Manual</td>\n",
              "      <td>First Owner</td>\n",
              "      <td>23.57</td>\n",
              "      <td>5.0</td>\n",
              "      <td>Tata</td>\n",
              "      <td>Indigo CR4</td>\n",
              "      <td>India</td>\n",
              "    </tr>\n",
              "    <tr>\n",
              "      <th>8127</th>\n",
              "      <td>2013</td>\n",
              "      <td>290000</td>\n",
              "      <td>25000</td>\n",
              "      <td>Diesel</td>\n",
              "      <td>Individual</td>\n",
              "      <td>Manual</td>\n",
              "      <td>First Owner</td>\n",
              "      <td>23.57</td>\n",
              "      <td>5.0</td>\n",
              "      <td>Tata</td>\n",
              "      <td>Indigo CR4</td>\n",
              "      <td>India</td>\n",
              "    </tr>\n",
              "  </tbody>\n",
              "</table>\n",
              "<p>7906 rows × 12 columns</p>\n",
              "</div>"
            ],
            "text/plain": [
              "      year  selling_price  km_driven    fuel seller_type transmission  \\\n",
              "0     2014         450000     145500  Diesel  Individual       Manual   \n",
              "1     2014         370000     120000  Diesel  Individual       Manual   \n",
              "2     2006         158000     140000  Petrol  Individual       Manual   \n",
              "3     2010         225000     127000  Diesel  Individual       Manual   \n",
              "4     2007         130000     120000  Petrol  Individual       Manual   \n",
              "...    ...            ...        ...     ...         ...          ...   \n",
              "8123  2013         320000     110000  Petrol  Individual       Manual   \n",
              "8124  2007         135000     119000  Diesel  Individual       Manual   \n",
              "8125  2009         382000     120000  Diesel  Individual       Manual   \n",
              "8126  2013         290000      25000  Diesel  Individual       Manual   \n",
              "8127  2013         290000      25000  Diesel  Individual       Manual   \n",
              "\n",
              "                     owner  mileage  seats    Brand                   Model  \\\n",
              "0              First Owner    23.40    5.0   Maruti         Swift Dzire VDI   \n",
              "1             Second Owner    21.14    5.0    Skoda  Rapid 1.5 TDI Ambition   \n",
              "2              Third Owner    17.70    5.0    Honda      City 2017-2020 EXi   \n",
              "3              First Owner    23.00    5.0  Hyundai       i20 Sportz Diesel   \n",
              "4              First Owner    16.10    5.0   Maruti         Swift VXI BSIII   \n",
              "...                    ...      ...    ...      ...                     ...   \n",
              "8123           First Owner    18.50    5.0  Hyundai               i20 Magna   \n",
              "8124  Fourth & Above Owner    16.80    5.0  Hyundai           Verna CRDi SX   \n",
              "8125           First Owner    19.30    5.0   Maruti         Swift Dzire ZDi   \n",
              "8126           First Owner    23.57    5.0     Tata              Indigo CR4   \n",
              "8127           First Owner    23.57    5.0     Tata              Indigo CR4   \n",
              "\n",
              "     make_country  \n",
              "0           India  \n",
              "1         Germany  \n",
              "2           Japan  \n",
              "3     South Korea  \n",
              "4           India  \n",
              "...           ...  \n",
              "8123  South Korea  \n",
              "8124  South Korea  \n",
              "8125        India  \n",
              "8126        India  \n",
              "8127        India  \n",
              "\n",
              "[7906 rows x 12 columns]"
            ]
          },
          "execution_count": 21,
          "metadata": {},
          "output_type": "execute_result"
        }
      ],
      "source": [
        "df.dropna()"
      ]
    },
    {
      "cell_type": "code",
      "execution_count": 22,
      "metadata": {
        "colab": {
          "base_uri": "https://localhost:8080/"
        },
        "id": "eW3Xdc3P6lyz",
        "outputId": "f4c60e73-0535-4760-8b77-d09b81e37bfc"
      },
      "outputs": [
        {
          "name": "stdout",
          "output_type": "stream",
          "text": [
            "      year  selling_price  km_driven    fuel seller_type transmission  \\\n",
            "0     2014         450000     145500  Diesel  Individual       Manual   \n",
            "1     2014         370000     120000  Diesel  Individual       Manual   \n",
            "2     2006         158000     140000  Petrol  Individual       Manual   \n",
            "3     2010         225000     127000  Diesel  Individual       Manual   \n",
            "4     2007         130000     120000  Petrol  Individual       Manual   \n",
            "...    ...            ...        ...     ...         ...          ...   \n",
            "8121  2013         260000      50000  Petrol  Individual       Manual   \n",
            "8122  2014         475000      80000  Diesel  Individual       Manual   \n",
            "8123  2013         320000     110000  Petrol  Individual       Manual   \n",
            "8124  2007         135000     119000  Diesel  Individual       Manual   \n",
            "8125  2009         382000     120000  Diesel  Individual       Manual   \n",
            "\n",
            "                     owner  mileage  seats    Brand  \\\n",
            "0              First Owner    23.40    5.0   Maruti   \n",
            "1             Second Owner    21.14    5.0    Skoda   \n",
            "2              Third Owner    17.70    5.0    Honda   \n",
            "3              First Owner    23.00    5.0  Hyundai   \n",
            "4              First Owner    16.10    5.0   Maruti   \n",
            "...                    ...      ...    ...      ...   \n",
            "8121          Second Owner    18.90    5.0   Maruti   \n",
            "8122          Second Owner    22.54    5.0  Hyundai   \n",
            "8123           First Owner    18.50    5.0  Hyundai   \n",
            "8124  Fourth & Above Owner    16.80    5.0  Hyundai   \n",
            "8125           First Owner    19.30    5.0   Maruti   \n",
            "\n",
            "                           Model make_country  \n",
            "0                Swift Dzire VDI        India  \n",
            "1         Rapid 1.5 TDI Ambition      Germany  \n",
            "2             City 2017-2020 EXi        Japan  \n",
            "3              i20 Sportz Diesel  South Korea  \n",
            "4                Swift VXI BSIII        India  \n",
            "...                          ...          ...  \n",
            "8121  Wagon R VXI BS IV with ABS        India  \n",
            "8122          i20 Magna 1.4 CRDi  South Korea  \n",
            "8123                   i20 Magna  South Korea  \n",
            "8124               Verna CRDi SX  South Korea  \n",
            "8125             Swift Dzire ZDi        India  \n",
            "\n",
            "[6717 rows x 12 columns]\n"
          ]
        }
      ],
      "source": [
        "df=df.drop_duplicates()\n",
        "print(df)\n",
        "df=df.reset_index(drop=True)"
      ]
    },
    {
      "cell_type": "code",
      "execution_count": 23,
      "metadata": {
        "id": "AKMdO5AD8mFJ"
      },
      "outputs": [],
      "source": [
        "# df.drop(\"make_country\", axis = \"columns\", inplace = True)"
      ]
    },
    {
      "cell_type": "code",
      "execution_count": 24,
      "metadata": {
        "id": "tmdOx2SI9A50"
      },
      "outputs": [],
      "source": [
        "#Here Data Cleaning is done"
      ]
    },
    {
      "cell_type": "code",
      "execution_count": 25,
      "metadata": {
        "id": "Mfhg1aw_-IMo"
      },
      "outputs": [],
      "source": [
        "fuel_ty=df['fuel']\n",
        "seller_ty=df['seller_type']\n",
        "transmission_ty=df['transmission']\n",
        "selling_pri=df['selling_price']"
      ]
    },
    {
      "cell_type": "code",
      "execution_count": 26,
      "metadata": {
        "colab": {
          "base_uri": "https://localhost:8080/",
          "height": 469
        },
        "id": "AB7ZkMmD-IMo",
        "outputId": "11b33943-ca95-41c9-fe9b-c85257c327d7"
      },
      "outputs": [
        {
          "data": {
            "image/png": "[encoded data removed]",
            "text/plain": [
              "<Figure size 1500x500 with 3 Axes>"
            ]
          },
          "metadata": {},
          "output_type": "display_data"
        }
      ],
      "source": [
        "#Using ggplot from r language for histogram \n",
        "from matplotlib import style \n",
        "style.use('ggplot')\n",
        "fig=plt.figure(figsize=(15,5))\n",
        "fig.suptitle(\" Categorical data columns \")\n",
        "plt.subplot(1,3,1)\n",
        "plt.bar(fuel_ty,selling_pri,color='red')\n",
        "plt.xlabel('Fuel types')\n",
        "plt.ylabel('Selling price')\n",
        "plt.subplot(1,3,2)\n",
        "plt.bar(seller_ty,selling_pri,color='purple')\n",
        "plt.xlabel('Seller Types')\n",
        "plt.ylabel('Selling price')\n",
        "plt.subplot(1,3,3)\n",
        "plt.bar(transmission_ty,selling_pri,color='royalblue')\n",
        "plt.xlabel('Transmission type ')\n",
        "plt.ylabel('Selling price')\n",
        "plt.show()\n"
      ]
    },
    {
      "cell_type": "code",
      "execution_count": 27,
      "metadata": {
        "colab": {
          "base_uri": "https://localhost:8080/",
          "height": 452
        },
        "id": "cpbOXv6g-IMo",
        "outputId": "6d32c705-ae0f-49cb-f2b3-4826065fe20c"
      },
      "outputs": [
        {
          "data": {
            "text/plain": [
              "<Axes: >"
            ]
          },
          "execution_count": 27,
          "metadata": {},
          "output_type": "execute_result"
        },
        {
          "data": {
            "image/png": "[encoded data removed]",
            "text/plain": [
              "<Figure size 640x480 with 1 Axes>"
            ]
          },
          "metadata": {},
          "output_type": "display_data"
        }
      ],
      "source": [
        "sns.rugplot('selling_pri')"
      ]
    },
    {
      "cell_type": "code",
      "execution_count": 28,
      "metadata": {
        "id": "QR7txlJ__DsP"
      },
      "outputs": [],
      "source": [
        "#Regression starts works here\n",
        "import sklearn\n",
        "from sklearn.linear_model import LinearRegression\n",
        "from sklearn.model_selection import train_test_split\n",
        "from sklearn.preprocessing import StandardScaler,OneHotEncoder,LabelEncoder\n",
        "from sklearn.compose import make_column_transformer\n",
        "from sklearn import metrics\n",
        "from sklearn.metrics import r2_score\n",
        "from sklearn.preprocessing import OneHotEncoder"
      ]
    },
    {
      "cell_type": "code",
      "execution_count": 29,
      "metadata": {
        "colab": {
          "base_uri": "https://localhost:8080/"
        },
        "id": "n_933hLrHrLB",
        "outputId": "f33ae923-3223-4354-8830-ea3c2d5528ea"
      },
      "outputs": [
        {
          "data": {
            "text/plain": [
              "year               int64\n",
              "selling_price      int64\n",
              "km_driven          int64\n",
              "fuel              object\n",
              "seller_type       object\n",
              "transmission      object\n",
              "owner             object\n",
              "mileage          float64\n",
              "seats            float64\n",
              "Brand             object\n",
              "Model             object\n",
              "make_country      object\n",
              "dtype: object"
            ]
          },
          "execution_count": 29,
          "metadata": {},
          "output_type": "execute_result"
        }
      ],
      "source": [
        "df.dtypes"
      ]
    },
    {
      "cell_type": "code",
      "execution_count": 30,
      "metadata": {},
      "outputs": [
        {
          "data": {
            "text/html": [
              "<div>\n",
              "<style scoped>\n",
              "    .dataframe tbody tr th:only-of-type {\n",
              "        vertical-align: middle;\n",
              "    }\n",
              "\n",
              "    .dataframe tbody tr th {\n",
              "        vertical-align: top;\n",
              "    }\n",
              "\n",
              "    .dataframe thead th {\n",
              "        text-align: right;\n",
              "    }\n",
              "</style>\n",
              "<table border=\"1\" class=\"dataframe\">\n",
              "  <thead>\n",
              "    <tr style=\"text-align: right;\">\n",
              "      <th></th>\n",
              "      <th>year</th>\n",
              "      <th>selling_price</th>\n",
              "      <th>km_driven</th>\n",
              "      <th>fuel</th>\n",
              "      <th>seller_type</th>\n",
              "      <th>transmission</th>\n",
              "      <th>owner</th>\n",
              "      <th>mileage</th>\n",
              "      <th>seats</th>\n",
              "      <th>Brand</th>\n",
              "      <th>Model</th>\n",
              "      <th>make_country</th>\n",
              "    </tr>\n",
              "  </thead>\n",
              "  <tbody>\n",
              "    <tr>\n",
              "      <th>0</th>\n",
              "      <td>2014</td>\n",
              "      <td>450000</td>\n",
              "      <td>145500</td>\n",
              "      <td>Diesel</td>\n",
              "      <td>Individual</td>\n",
              "      <td>Manual</td>\n",
              "      <td>First Owner</td>\n",
              "      <td>23.40</td>\n",
              "      <td>5.0</td>\n",
              "      <td>Maruti</td>\n",
              "      <td>Swift Dzire VDI</td>\n",
              "      <td>India</td>\n",
              "    </tr>\n",
              "    <tr>\n",
              "      <th>1</th>\n",
              "      <td>2014</td>\n",
              "      <td>370000</td>\n",
              "      <td>120000</td>\n",
              "      <td>Diesel</td>\n",
              "      <td>Individual</td>\n",
              "      <td>Manual</td>\n",
              "      <td>Second Owner</td>\n",
              "      <td>21.14</td>\n",
              "      <td>5.0</td>\n",
              "      <td>Skoda</td>\n",
              "      <td>Rapid 1.5 TDI Ambition</td>\n",
              "      <td>Germany</td>\n",
              "    </tr>\n",
              "    <tr>\n",
              "      <th>2</th>\n",
              "      <td>2006</td>\n",
              "      <td>158000</td>\n",
              "      <td>140000</td>\n",
              "      <td>Petrol</td>\n",
              "      <td>Individual</td>\n",
              "      <td>Manual</td>\n",
              "      <td>Third Owner</td>\n",
              "      <td>17.70</td>\n",
              "      <td>5.0</td>\n",
              "      <td>Honda</td>\n",
              "      <td>City 2017-2020 EXi</td>\n",
              "      <td>Japan</td>\n",
              "    </tr>\n",
              "    <tr>\n",
              "      <th>3</th>\n",
              "      <td>2010</td>\n",
              "      <td>225000</td>\n",
              "      <td>127000</td>\n",
              "      <td>Diesel</td>\n",
              "      <td>Individual</td>\n",
              "      <td>Manual</td>\n",
              "      <td>First Owner</td>\n",
              "      <td>23.00</td>\n",
              "      <td>5.0</td>\n",
              "      <td>Hyundai</td>\n",
              "      <td>i20 Sportz Diesel</td>\n",
              "      <td>South Korea</td>\n",
              "    </tr>\n",
              "    <tr>\n",
              "      <th>4</th>\n",
              "      <td>2007</td>\n",
              "      <td>130000</td>\n",
              "      <td>120000</td>\n",
              "      <td>Petrol</td>\n",
              "      <td>Individual</td>\n",
              "      <td>Manual</td>\n",
              "      <td>First Owner</td>\n",
              "      <td>16.10</td>\n",
              "      <td>5.0</td>\n",
              "      <td>Maruti</td>\n",
              "      <td>Swift VXI BSIII</td>\n",
              "      <td>India</td>\n",
              "    </tr>\n",
              "    <tr>\n",
              "      <th>...</th>\n",
              "      <td>...</td>\n",
              "      <td>...</td>\n",
              "      <td>...</td>\n",
              "      <td>...</td>\n",
              "      <td>...</td>\n",
              "      <td>...</td>\n",
              "      <td>...</td>\n",
              "      <td>...</td>\n",
              "      <td>...</td>\n",
              "      <td>...</td>\n",
              "      <td>...</td>\n",
              "      <td>...</td>\n",
              "    </tr>\n",
              "    <tr>\n",
              "      <th>6712</th>\n",
              "      <td>2013</td>\n",
              "      <td>260000</td>\n",
              "      <td>50000</td>\n",
              "      <td>Petrol</td>\n",
              "      <td>Individual</td>\n",
              "      <td>Manual</td>\n",
              "      <td>Second Owner</td>\n",
              "      <td>18.90</td>\n",
              "      <td>5.0</td>\n",
              "      <td>Maruti</td>\n",
              "      <td>Wagon R VXI BS IV with ABS</td>\n",
              "      <td>India</td>\n",
              "    </tr>\n",
              "    <tr>\n",
              "      <th>6713</th>\n",
              "      <td>2014</td>\n",
              "      <td>475000</td>\n",
              "      <td>80000</td>\n",
              "      <td>Diesel</td>\n",
              "      <td>Individual</td>\n",
              "      <td>Manual</td>\n",
              "      <td>Second Owner</td>\n",
              "      <td>22.54</td>\n",
              "      <td>5.0</td>\n",
              "      <td>Hyundai</td>\n",
              "      <td>i20 Magna 1.4 CRDi</td>\n",
              "      <td>South Korea</td>\n",
              "    </tr>\n",
              "    <tr>\n",
              "      <th>6714</th>\n",
              "      <td>2013</td>\n",
              "      <td>320000</td>\n",
              "      <td>110000</td>\n",
              "      <td>Petrol</td>\n",
              "      <td>Individual</td>\n",
              "      <td>Manual</td>\n",
              "      <td>First Owner</td>\n",
              "      <td>18.50</td>\n",
              "      <td>5.0</td>\n",
              "      <td>Hyundai</td>\n",
              "      <td>i20 Magna</td>\n",
              "      <td>South Korea</td>\n",
              "    </tr>\n",
              "    <tr>\n",
              "      <th>6715</th>\n",
              "      <td>2007</td>\n",
              "      <td>135000</td>\n",
              "      <td>119000</td>\n",
              "      <td>Diesel</td>\n",
              "      <td>Individual</td>\n",
              "      <td>Manual</td>\n",
              "      <td>Fourth &amp; Above Owner</td>\n",
              "      <td>16.80</td>\n",
              "      <td>5.0</td>\n",
              "      <td>Hyundai</td>\n",
              "      <td>Verna CRDi SX</td>\n",
              "      <td>South Korea</td>\n",
              "    </tr>\n",
              "    <tr>\n",
              "      <th>6716</th>\n",
              "      <td>2009</td>\n",
              "      <td>382000</td>\n",
              "      <td>120000</td>\n",
              "      <td>Diesel</td>\n",
              "      <td>Individual</td>\n",
              "      <td>Manual</td>\n",
              "      <td>First Owner</td>\n",
              "      <td>19.30</td>\n",
              "      <td>5.0</td>\n",
              "      <td>Maruti</td>\n",
              "      <td>Swift Dzire ZDi</td>\n",
              "      <td>India</td>\n",
              "    </tr>\n",
              "  </tbody>\n",
              "</table>\n",
              "<p>6717 rows × 12 columns</p>\n",
              "</div>"
            ],
            "text/plain": [
              "      year  selling_price  km_driven    fuel seller_type transmission  \\\n",
              "0     2014         450000     145500  Diesel  Individual       Manual   \n",
              "1     2014         370000     120000  Diesel  Individual       Manual   \n",
              "2     2006         158000     140000  Petrol  Individual       Manual   \n",
              "3     2010         225000     127000  Diesel  Individual       Manual   \n",
              "4     2007         130000     120000  Petrol  Individual       Manual   \n",
              "...    ...            ...        ...     ...         ...          ...   \n",
              "6712  2013         260000      50000  Petrol  Individual       Manual   \n",
              "6713  2014         475000      80000  Diesel  Individual       Manual   \n",
              "6714  2013         320000     110000  Petrol  Individual       Manual   \n",
              "6715  2007         135000     119000  Diesel  Individual       Manual   \n",
              "6716  2009         382000     120000  Diesel  Individual       Manual   \n",
              "\n",
              "                     owner  mileage  seats    Brand  \\\n",
              "0              First Owner    23.40    5.0   Maruti   \n",
              "1             Second Owner    21.14    5.0    Skoda   \n",
              "2              Third Owner    17.70    5.0    Honda   \n",
              "3              First Owner    23.00    5.0  Hyundai   \n",
              "4              First Owner    16.10    5.0   Maruti   \n",
              "...                    ...      ...    ...      ...   \n",
              "6712          Second Owner    18.90    5.0   Maruti   \n",
              "6713          Second Owner    22.54    5.0  Hyundai   \n",
              "6714           First Owner    18.50    5.0  Hyundai   \n",
              "6715  Fourth & Above Owner    16.80    5.0  Hyundai   \n",
              "6716           First Owner    19.30    5.0   Maruti   \n",
              "\n",
              "                           Model make_country  \n",
              "0                Swift Dzire VDI        India  \n",
              "1         Rapid 1.5 TDI Ambition      Germany  \n",
              "2             City 2017-2020 EXi        Japan  \n",
              "3              i20 Sportz Diesel  South Korea  \n",
              "4                Swift VXI BSIII        India  \n",
              "...                          ...          ...  \n",
              "6712  Wagon R VXI BS IV with ABS        India  \n",
              "6713          i20 Magna 1.4 CRDi  South Korea  \n",
              "6714                   i20 Magna  South Korea  \n",
              "6715               Verna CRDi SX  South Korea  \n",
              "6716             Swift Dzire ZDi        India  \n",
              "\n",
              "[6717 rows x 12 columns]"
            ]
          },
          "execution_count": 30,
          "metadata": {},
          "output_type": "execute_result"
        }
      ],
      "source": [
        "df"
      ]
    },
    {
      "cell_type": "code",
      "execution_count": 31,
      "metadata": {},
      "outputs": [
        {
          "data": {
            "text/plain": [
              "Index(['year', 'selling_price', 'km_driven', 'fuel', 'seller_type',\n",
              "       'transmission', 'owner', 'mileage', 'seats', 'Brand', 'Model',\n",
              "       'make_country'],\n",
              "      dtype='object')"
            ]
          },
          "execution_count": 31,
          "metadata": {},
          "output_type": "execute_result"
        }
      ],
      "source": []
    },
    {
      "cell_type": "code",
      "execution_count": 33,
      "metadata": {
        "colab": {
          "base_uri": "https://localhost:8080/"
        },
        "id": "1kq7cdg7-IMp",
        "outputId": "bde8b2c9-e606-46f3-dc95-eec71c0c0929"
      },
      "outputs": [
        {
          "ename": "SyntaxError",
          "evalue": "expected ':' (4251536559.py, line 11)",
          "output_type": "error",
          "traceback": [
            "\u001b[1;36m  Input \u001b[1;32mIn [33]\u001b[1;36m\u001b[0m\n\u001b[1;33m    else is_string_dtype(df[columns]):\u001b[0m\n\u001b[1;37m         ^\u001b[0m\n\u001b[1;31mSyntaxError\u001b[0m\u001b[1;31m:\u001b[0m expected ':'\n"
          ]
        }
      ],
      "source": [
        "x=df.drop(['selling_price'],axis=1)\n",
        "y=df['selling_price']\n",
        "\n",
        "# onehot_cols=['fuel','seller_type','transmission','owner','Brand','Model', 'make_country']\n",
        "# num_cols=['year','km_driven','mileage','seats']\n",
        "string_col=[]\n",
        "num_col=[]\n",
        "for columns in df:\n",
        "    if is_numeric_dtype(df[columns]):\n",
        "       num_col.append(columns)\n",
        "    else is_string_dtype(df[columns]):   \n",
        "       string_col.append(columns)\n",
        "ohe=OneHotEncoder()\n",
        "col_trans=make_column_transformer((StandardScaler(),num_cols),(OneHotEncoder(sparse_output = False),onehot_cols),remainder='passthrough')\n",
        "\n",
        "col_trans.fit(x)\n",
        "x = col_trans.transform(x)\n",
        "col_trans.get_feature_names_out()\n",
        "# label=LabelEncoder()\n",
        "# y=label.fit_transform(y)"
      ]
    },
    {
      "cell_type": "code",
      "execution_count": null,
      "metadata": {},
      "outputs": [],
      "source": [
        "# scaler=StandardScaler()\n",
        "# y=np.array(y).reshape(-1,1)\n",
        "# y=scaler.fit_transform(y)\n",
        "# y"
      ]
    },
    {
      "cell_type": "code",
      "execution_count": null,
      "metadata": {
        "colab": {
          "base_uri": "https://localhost:8080/"
        },
        "id": "7lbCyWc8-IMp",
        "outputId": "088a8da9-92a8-4d50-c4fd-7895e55f76f9"
      },
      "outputs": [
        {
          "name": "stdout",
          "output_type": "stream",
          "text": [
            "(6717, 2038)\n"
          ]
        },
        {
          "data": {
            "text/plain": [
              "(6717,)"
            ]
          },
          "execution_count": 318,
          "metadata": {},
          "output_type": "execute_result"
        }
      ],
      "source": [
        "print(x.shape)\n",
        "y.shape"
      ]
    },
    {
      "cell_type": "code",
      "execution_count": null,
      "metadata": {
        "id": "BpyGQEWu-IMp"
      },
      "outputs": [],
      "source": [
        "#Regression starts works here\n",
        "import sklearn\n",
        "from sklearn.linear_model import LinearRegression\n",
        "from sklearn.model_selection import train_test_split\n",
        "from sklearn.preprocessing import StandardScaler,OneHotEncoder\n",
        "from sklearn.compose import make_column_transformer\n",
        "from sklearn import metrics\n",
        "from sklearn.metrics import r2_score,mean_squared_error,mean_absolute_percentage_error,mean_absolute_error\n",
        "from sklearn.preprocessing import OneHotEncoder\n",
        "from sklearn.pipeline import make_pipeline"
      ]
    },
    {
      "cell_type": "code",
      "execution_count": null,
      "metadata": {
        "id": "D4LcmXgh-IMq"
      },
      "outputs": [],
      "source": [
        "X_train,X_test,Y_train,Y_test=train_test_split(x,y,test_size=0.15,random_state=100)"
      ]
    },
    {
      "cell_type": "code",
      "execution_count": null,
      "metadata": {
        "colab": {
          "base_uri": "https://localhost:8080/"
        },
        "id": "NiGlW5N0-IMq",
        "outputId": "8f414829-a1fb-47f7-cfcb-b9725d605c47"
      },
      "outputs": [
        {
          "name": "stdout",
          "output_type": "stream",
          "text": [
            "(5709, 2038)\n",
            "(1008, 2038)\n",
            "(5709,)\n",
            "(1008,)\n"
          ]
        }
      ],
      "source": [
        "print(X_train.shape)\n",
        "print(X_test.shape)\n",
        "print(Y_train.shape)\n",
        "print(Y_test.shape)"
      ]
    },
    {
      "cell_type": "code",
      "execution_count": null,
      "metadata": {
        "id": "im-ejtiw-IMq"
      },
      "outputs": [],
      "source": [
        "# #standardize the data\n",
        "# scaler=StandardScaler()\n",
        "# X_train=scaler.fit_transform(X_train)\n",
        "# X_test=scaler.transform(X_test)\n"
      ]
    },
    {
      "cell_type": "code",
      "execution_count": null,
      "metadata": {
        "id": "w7bU8zTFHF8L"
      },
      "outputs": [],
      "source": [
        "# lr=LinearRegression()"
      ]
    },
    {
      "cell_type": "code",
      "execution_count": null,
      "metadata": {
        "id": "0PHI9QCRNVvB"
      },
      "outputs": [],
      "source": []
    },
    {
      "cell_type": "code",
      "execution_count": null,
      "metadata": {
        "id": "RuGHmAdNHHtt"
      },
      "outputs": [],
      "source": [
        "# pipe=make_pipeline(col_trans,lr)\n",
        "# pipe.fit(X_train,Y_train)"
      ]
    },
    {
      "cell_type": "code",
      "execution_count": null,
      "metadata": {
        "id": "bI_Ra_rQAaSs"
      },
      "outputs": [],
      "source": [
        "metric_list = []"
      ]
    },
    {
      "cell_type": "code",
      "execution_count": null,
      "metadata": {
        "colab": {
          "base_uri": "https://localhost:8080/",
          "height": 827
        },
        "id": "NmBpbRYc-IMq",
        "outputId": "1f728089-0614-433c-a532-4d60066b2ea0"
      },
      "outputs": [
        {
          "name": "stdout",
          "output_type": "stream",
          "text": [
            "[ 524227.49793744  708748.99880391  321485.43447037 ...  363250.7232738\n",
            "  666709.03238256 1233884.56763212]\n",
            "--------------------------------------------\n",
            "Coeff are : [ 121906.43659452  -11148.5122972    28519.92705528 ...  230723.92178446\n",
            " -378576.21804012  752268.44310231]\n",
            "--------------------------------------------\n",
            "Intercept  : 1449327.3118206123\n",
            "--------------------------------------------\n",
            "train_accuracy_lr: 0.9750433450745002\n",
            "--------------------------------------------\n",
            "test_accuracy_lr: 0.8565442553421471\n",
            "--------------------------------------------\n",
            " Acuracy of Our Model is : 0.8565442553421471\n",
            "--------------------------------------------\n"
          ]
        },
        {
          "data": {
            "image/png": "[encoded data removed]",
            "text/plain": [
              "<Figure size 600x600 with 1 Axes>"
            ]
          },
          "metadata": {},
          "output_type": "display_data"
        }
      ],
      "source": [
        "\n",
        "#Linear Regression\n",
        "\n",
        "lr=LinearRegression()\n",
        "lr.fit(X_train,Y_train)\n",
        "Y_pred=lr.predict(X_test)\n",
        "print(Y_pred)\n",
        "\n",
        "train_accuracy_lr = lr.score(X_train, Y_train)\n",
        "test_accuracy_lr = lr.score(X_test, Y_test)\n",
        "r2_score_lr = r2_score(Y_test, Y_pred)\n",
        "mse=mean_squared_error(Y_test,Y_pred)\n",
        "mae=mean_absolute_error(Y_test,Y_pred)\n",
        "rmse=np.sqrt(mse)\n",
        "mape=mean_absolute_percentage_error(Y_test,Y_pred)\n",
        "\n",
        "temp_list  = [\"lr\", r2_score_lr,mae,mse,rmse,mape]\n",
        "metric_list.append(temp_list)\n",
        "\n",
        "print(\"--------------------------------------------\")\n",
        "print(\"Coeff are :\",lr.coef_)\n",
        "print(\"--------------------------------------------\")\n",
        "print(\"Intercept  :\",lr.intercept_)\n",
        "print(\"--------------------------------------------\")\n",
        "print('train_accuracy_lr:', train_accuracy_lr)\n",
        "print(\"--------------------------------------------\")\n",
        "print('test_accuracy_lr:', test_accuracy_lr)\n",
        "print(\"--------------------------------------------\")\n",
        "print(' Acuracy of Our Model is :', r2_score_lr)\n",
        "print(\"--------------------------------------------\")\n",
        "plt.figure(figsize= (6, 6))\n",
        "plt.title(\"Visualizing the Regression using Linear Regression algorithm\")\n",
        "plt.scatter(Y_test,Y_pred, color = \"red\")\n",
        "plt.xlabel(\"New Predicted Price\")\n",
        "plt.ylabel(\"Selling Price\")\n",
        "plt.show()\n",
        "\n",
        "\n",
        "\n",
        "# # Save the model\n",
        "# with open('vehicle_price_prediction_model.pkl', 'wb') as f:\n",
        "#     pickle.dump(lr, f)\n",
        "\n",
        "# # Save the scaler\n",
        "# with open('input_scaler.pkl', 'wb') as f:\n",
        "#     pickle.dump(scaler, f)\n",
        "\n"
      ]
    },
    {
      "cell_type": "code",
      "execution_count": null,
      "metadata": {
        "colab": {
          "base_uri": "https://localhost:8080/"
        },
        "id": "Czau0RIQs1wX",
        "outputId": "abd75f02-738b-4a30-a523-462d4736b420"
      },
      "outputs": [
        {
          "name": "stdout",
          "output_type": "stream",
          "text": [
            "2038\n",
            "2038\n"
          ]
        }
      ],
      "source": [
        "print(len(lr.coef_))\n",
        "print(len(col_trans.get_feature_names_out()))\n",
        "# df_lt_importance[\"\"]\n",
        "df_lr_importance = pd.DataFrame()\n",
        "df_lr_importance[\"var_name\"] = col_trans.get_feature_names_out()\n",
        "df_lr_importance[\"lr_importance\"] = abs(lr.coef_)\n",
        "df_lr_importance.sort_values(['lr_importance'], ascending = False)\n",
        "df_lr_importance.to_csv('importance.csv')"
      ]
    },
    {
      "cell_type": "code",
      "execution_count": null,
      "metadata": {
        "colab": {
          "base_uri": "https://localhost:8080/",
          "height": 723
        },
        "id": "uwJVWTLk5SEQ",
        "outputId": "38847bdb-55ef-4ed0-9bb2-c60f2995df27"
      },
      "outputs": [
        {
          "name": "stdout",
          "output_type": "stream",
          "text": [
            "[ 456683.33333333  642333.33333333  298158.31666667 ...  308125.\n",
            "  612266.61666667 1149266.63333333]\n",
            "--------------------------------------------\n",
            "train_accuracy_rf: 0.966727389150641\n",
            "--------------------------------------------\n",
            "test_accuracy_rf: 0.9018461170955472\n",
            "--------------------------------------------\n",
            " Acuracy of Our Model is : 0.9018461170955472\n",
            "--------------------------------------------\n"
          ]
        },
        {
          "data": {
            "image/png": "[encoded data removed]",
            "text/plain": [
              "<Figure size 600x600 with 1 Axes>"
            ]
          },
          "metadata": {},
          "output_type": "display_data"
        }
      ],
      "source": [
        "#Random froest Regression\n",
        "from sklearn.ensemble import RandomForestRegressor\n",
        "rf=RandomForestRegressor(n_estimators=60)\n",
        "rf.fit(X_train,Y_train)\n",
        "Y_pred=rf.predict(X_test)\n",
        "print(Y_pred)\n",
        "\n",
        "train_accuracy_rf = rf.score(X_train, Y_train)\n",
        "test_accuracy_rf= rf.score(X_test, Y_test)\n",
        "r2_score_rf= r2_score(Y_test, Y_pred)\n",
        "mse=mean_squared_error(Y_test,Y_pred)\n",
        "mae=mean_absolute_error(Y_test,Y_pred)\n",
        "rmse=np.sqrt(mse)\n",
        "mape=mean_absolute_percentage_error(Y_test,Y_pred)\n",
        "\n",
        "temp_list  = [\"Rf\", r2_score_rf,mae,mse,rmse,mape]\n",
        "metric_list.append(temp_list)\n",
        "#Random forest does not have coeff anf intercepts\n",
        "#print(\"Coeff are :\",rf.coef_)\n",
        "#print(\"Intercept  :\",rf.intercept_)\n",
        "print(\"--------------------------------------------\")\n",
        "print('train_accuracy_rf:', train_accuracy_rf)\n",
        "print(\"--------------------------------------------\")\n",
        "print('test_accuracy_rf:', test_accuracy_rf)\n",
        "print(\"--------------------------------------------\")\n",
        "print(' Acuracy of Our Model is :', r2_score_rf)\n",
        "print(\"--------------------------------------------\")\n",
        "plt.figure(figsize= (6, 6))\n",
        "plt.title(\"Visualizing the Regression using Random Forest Regression algorithm\")\n",
        "plt.scatter(Y_test,Y_pred, color = \"red\")\n",
        "plt.xlabel(\"New Predicted Price\")\n",
        "plt.ylabel(\"Selling Price\")\n",
        "plt.show()"
      ]
    },
    {
      "cell_type": "code",
      "execution_count": null,
      "metadata": {
        "id": "Rhcjrjb_5grj"
      },
      "outputs": [],
      "source": [
        "df_lr_importance[\"rf_importance\"] = rf.feature_importances_\n",
        "df_lr_importance.to_csv(\"importance.csv\")"
      ]
    },
    {
      "cell_type": "code",
      "execution_count": null,
      "metadata": {
        "colab": {
          "base_uri": "https://localhost:8080/"
        },
        "id": "HkgUb34ISz7q",
        "outputId": "56a07146-ef19-42df-fe2e-1a48d2557103"
      },
      "outputs": [
        {
          "data": {
            "text/plain": [
              "Index(['year', 'selling_price', 'km_driven', 'fuel', 'seller_type',\n",
              "       'transmission', 'owner', 'mileage', 'seats', 'Brand', 'Model',\n",
              "       'make_country'],\n",
              "      dtype='object')"
            ]
          },
          "execution_count": 330,
          "metadata": {},
          "output_type": "execute_result"
        }
      ],
      "source": [
        "df.columns"
      ]
    },
    {
      "cell_type": "code",
      "execution_count": null,
      "metadata": {
        "id": "ZX17c2lHPQGH"
      },
      "outputs": [],
      "source": [
        "import pickle\n",
        "pipe=make_pipeline(col_trans,rf)\n",
        "pipe.predict(df.drop(['selling_price'],axis=1))\n",
        "with open('rf_pipeline.pkl', 'wb') as file:\n",
        "  pickle.dump(pipe, file)"
      ]
    },
    {
      "cell_type": "code",
      "execution_count": null,
      "metadata": {
        "colab": {
          "base_uri": "https://localhost:8080/",
          "height": 882
        },
        "id": "6lqkwfr6m9dh",
        "outputId": "f0db3a83-2043-4298-cb2c-0fc825fcc2d3"
      },
      "outputs": [
        {
          "name": "stderr",
          "output_type": "stream",
          "text": [
            "c:\\Users\\shant\\AppData\\Local\\Programs\\Python\\Python310\\lib\\site-packages\\sklearn\\linear_model\\_coordinate_descent.py:631: ConvergenceWarning: Objective did not converge. You might want to increase the number of iterations, check the scale of the features or consider increasing regularisation. Duality gap: 2.006e+13, tolerance: 1.595e+11\n",
            "  model = cd_fast.enet_coordinate_descent(\n"
          ]
        },
        {
          "name": "stdout",
          "output_type": "stream",
          "text": [
            "[ 523940.36355061  709224.33897386  322062.70234373 ...  362821.83283428\n",
            "  666648.77886572 1233526.94646322]\n",
            "--------------------------------------------\n",
            "Coeff are : [122427.70291784 -11154.35699973  26201.84985369 ...   7610.89601259\n",
            "   5427.01347403      0.        ]\n",
            "--------------------------------------------\n",
            "Intercept  : 366589.8979903307\n",
            "--------------------------------------------\n",
            "train_accuracy_ls: 0.9750294409880457\n",
            "--------------------------------------------\n",
            "test_accuracy_ls: 0.8568956571524408\n",
            "--------------------------------------------\n",
            " Acuracy of Our Model is : 0.8568956571524408\n",
            "--------------------------------------------\n"
          ]
        },
        {
          "data": {
            "image/png": "[encoded data removed]",
            "text/plain": [
              "<Figure size 600x600 with 1 Axes>"
            ]
          },
          "metadata": {},
          "output_type": "display_data"
        }
      ],
      "source": [
        "#Lasso \n",
        "from sklearn.linear_model import Lasso\n",
        "ls=Lasso(0.1)\n",
        "ls.fit(X_train,Y_train)\n",
        "Y_pred=ls.predict(X_test)\n",
        "print(Y_pred)\n",
        "\n",
        "train_accuracy_ls = ls.score(X_train, Y_train)\n",
        "test_accuracy_ls= ls.score(X_test, Y_test)\n",
        "r2_score_ls = r2_score(Y_test, Y_pred)\n",
        "mse=mean_squared_error(Y_test,Y_pred)\n",
        "mae=mean_absolute_error(Y_test,Y_pred)\n",
        "rmse=np.sqrt(mse)\n",
        "mape=mean_absolute_percentage_error(Y_test,Y_pred)\n",
        "\n",
        "temp_list  = [\"ls\", r2_score_ls,mae,mse,rmse,mape]\n",
        "metric_list.append(temp_list)\n",
        "print(\"--------------------------------------------\")\n",
        "print(\"Coeff are :\",ls.coef_)\n",
        "print(\"--------------------------------------------\")\n",
        "print(\"Intercept  :\",ls.intercept_)\n",
        "print(\"--------------------------------------------\")\n",
        "print('train_accuracy_ls:', train_accuracy_ls)\n",
        "print(\"--------------------------------------------\")\n",
        "print('test_accuracy_ls:', test_accuracy_ls)\n",
        "print(\"--------------------------------------------\")\n",
        "print(' Acuracy of Our Model is :', r2_score_ls)\n",
        "print(\"--------------------------------------------\")\n",
        "plt.figure(figsize= (6, 6))\n",
        "plt.title(\"Visualizing the Regression using Lasso Regression algorithm\")\n",
        "plt.scatter(Y_test,Y_pred, color = \"red\")\n",
        "plt.xlabel(\"New Predicted Price\")\n",
        "plt.ylabel(\"Selling Price\")\n",
        "plt.show()"
      ]
    },
    {
      "cell_type": "code",
      "execution_count": null,
      "metadata": {
        "colab": {
          "base_uri": "https://localhost:8080/",
          "height": 827
        },
        "id": "ZH0fPIqVnIOH",
        "outputId": "5872d8a4-826a-4d19-a284-8b4652f5b73c"
      },
      "outputs": [
        {
          "name": "stderr",
          "output_type": "stream",
          "text": [
            "c:\\Users\\shant\\AppData\\Local\\Programs\\Python\\Python310\\lib\\site-packages\\sklearn\\linear_model\\_stochastic_gradient.py:1549: ConvergenceWarning: Maximum number of iteration reached before convergence. Consider increasing max_iter to improve the fit.\n",
            "  warnings.warn(\n"
          ]
        },
        {
          "name": "stdout",
          "output_type": "stream",
          "text": [
            "[512913.50734432 794370.29272472 420518.36441422 ... 383258.26289903\n",
            " 655655.48235355 900826.64341783]\n",
            "--------------------------------------------\n",
            "Coeff are : [ 211323.79258244  -16778.48114044  -79907.55351274 ...  299628.49289792\n",
            " -194736.09492041  696473.66556199]\n",
            "--------------------------------------------\n",
            "Intercept  : [585026.33041618]\n",
            "--------------------------------------------\n",
            "train_accuracy_sgd: 0.8636584758959474\n",
            "--------------------------------------------\n",
            "test_accuracy_sgd: 0.8268809845658343\n",
            "--------------------------------------------\n",
            " Acuracy of Our Model is : 0.8268809845658343\n",
            "--------------------------------------------\n"
          ]
        },
        {
          "data": {
            "image/png": "[encoded data removed]",
            "text/plain": [
              "<Figure size 600x600 with 1 Axes>"
            ]
          },
          "metadata": {},
          "output_type": "display_data"
        }
      ],
      "source": [
        "#SGD Regressor \n",
        "from sklearn.linear_model import SGDRegressor\n",
        "sgd=SGDRegressor(loss=\"squared_error\")\n",
        "sgd.fit(X_train,Y_train)\n",
        "Y_pred=sgd.predict(X_test)\n",
        "print(Y_pred)\n",
        "\n",
        "train_accuracy_sgd = sgd.score(X_train, Y_train)\n",
        "test_accuracy_sgd= sgd.score(X_test, Y_test)\n",
        "r2_score_sgd= r2_score(Y_test, Y_pred)\n",
        "mse=mean_squared_error(Y_test,Y_pred)\n",
        "mae=mean_absolute_error(Y_test,Y_pred)\n",
        "rmse=np.sqrt(mse)\n",
        "mape=mean_absolute_percentage_error(Y_test,Y_pred)\n",
        "\n",
        "temp_list  = [\"sgd\", r2_score_sgd,mae,mse,rmse,mape]\n",
        "metric_list.append(temp_list)\n",
        "print(\"--------------------------------------------\")\n",
        "print(\"Coeff are :\",sgd.coef_)\n",
        "print(\"--------------------------------------------\")\n",
        "print(\"Intercept  :\",sgd.intercept_)\n",
        "print(\"--------------------------------------------\")\n",
        "print('train_accuracy_sgd:', train_accuracy_sgd)\n",
        "print(\"--------------------------------------------\")\n",
        "print('test_accuracy_sgd:', test_accuracy_sgd)\n",
        "print(\"--------------------------------------------\")\n",
        "print(' Acuracy of Our Model is :', r2_score_sgd)\n",
        "print(\"--------------------------------------------\")\n",
        "plt.figure(figsize= (6, 6))\n",
        "plt.title(\"Visualizing the Regression using SGDRegressor Regression algorithm\")\n",
        "plt.scatter(Y_test,Y_pred, color = \"red\")\n",
        "plt.xlabel(\"New Predicted Price\")\n",
        "plt.ylabel(\"Selling Price\")\n",
        "plt.show()"
      ]
    },
    {
      "cell_type": "code",
      "execution_count": null,
      "metadata": {
        "colab": {
          "base_uri": "https://localhost:8080/",
          "height": 740
        },
        "id": "-lz-8Z6Nnnu8",
        "outputId": "56e7ec5b-a775-42cd-a739-1ef76e07bb1d"
      },
      "outputs": [
        {
          "name": "stdout",
          "output_type": "stream",
          "text": [
            "[ 513939.9525     1163484.03414762  546952.72918419 ...  656776.87859288\n",
            "  656776.87859288  728012.12427931]\n",
            "--------------------------------------------\n",
            "train_accuracy_ada: 0.6140701815013407\n",
            "--------------------------------------------\n",
            "test_accuracy_ada: 0.5347184101482382\n",
            "--------------------------------------------\n",
            " Acuracy of Our Model is : 0.5347184101482382\n",
            "--------------------------------------------\n"
          ]
        },
        {
          "data": {
            "image/png": "[encoded data removed]",
            "text/plain": [
              "<Figure size 600x600 with 1 Axes>"
            ]
          },
          "metadata": {},
          "output_type": "display_data"
        }
      ],
      "source": [
        "#Adaboost\n",
        "from sklearn.ensemble import AdaBoostRegressor\n",
        "ada=AdaBoostRegressor(n_estimators=10)\n",
        "ada.fit(X_train,Y_train)\n",
        "Y_pred=ada.predict(X_test)\n",
        "print(Y_pred)\n",
        "\n",
        "train_accuracy_ada = ada.score(X_train, Y_train)\n",
        "test_accuracy_ada= ada.score(X_test, Y_test)\n",
        "r2_score_ada= r2_score(Y_test, Y_pred)\n",
        "mse=mean_squared_error(Y_test,Y_pred)\n",
        "mae=mean_absolute_error(Y_test,Y_pred)\n",
        "rmse=np.sqrt(mse)\n",
        "mape=mean_absolute_percentage_error(Y_test,Y_pred)\n",
        "\n",
        "temp_list  = [\"ada\", r2_score_ada,mae,mse,rmse,mape]\n",
        "metric_list.append(temp_list)\n",
        "#Adaboost does not have coeff and intedcept\n",
        "#print(\"Coeff are :\",ada.coef_)\n",
        "#print(\"Intercept  :\",ada.intercept_)\n",
        "print(\"--------------------------------------------\")\n",
        "print('train_accuracy_ada:', train_accuracy_ada)\n",
        "print(\"--------------------------------------------\")\n",
        "print('test_accuracy_ada:', test_accuracy_ada)\n",
        "print(\"--------------------------------------------\")\n",
        "print(' Acuracy of Our Model is :', r2_score_ada)\n",
        "print(\"--------------------------------------------\")\n",
        "plt.figure(figsize= (6, 6))\n",
        "plt.title(\"Visualizing the Regression using Adaboost Regression algorithm\")\n",
        "plt.scatter(Y_test,Y_pred, color = \"red\")\n",
        "plt.xlabel(\"New Predicted Price\")\n",
        "plt.ylabel(\"Selling Price\")\n",
        "plt.show()"
      ]
    },
    {
      "cell_type": "code",
      "execution_count": null,
      "metadata": {
        "colab": {
          "base_uri": "https://localhost:8080/",
          "height": 723
        },
        "id": "jC2HUb71nvEr",
        "outputId": "05a3d094-9934-4e01-d42a-e5a8ed076e28"
      },
      "outputs": [
        {
          "name": "stdout",
          "output_type": "stream",
          "text": [
            "[472596.8  597709.06 396725.   ... 363579.62 540748.3  957465.3 ]\n",
            "--------------------------------------------\n",
            "train_accuracy_xgb: 0.9108333471354516\n",
            "--------------------------------------------\n",
            "test_accuracy_xgb: 0.8647421782097953\n",
            "--------------------------------------------\n",
            " Acuracy of Our Model is : 0.8647421782097953\n",
            "--------------------------------------------\n"
          ]
        },
        {
          "data": {
            "image/png": "[encoded data removed]",
            "text/plain": [
              "<Figure size 600x600 with 1 Axes>"
            ]
          },
          "metadata": {},
          "output_type": "display_data"
        }
      ],
      "source": [
        "#Xgboost\n",
        "import xgboost as xg\n",
        "xgb=xg.XGBRegressor(n_estimators=10)\n",
        "xgb.fit(X_train,Y_train)\n",
        "Y_pred=xgb.predict(X_test)\n",
        "print(Y_pred)\n",
        "\n",
        "train_accuracy_xgb = xgb.score(X_train, Y_train)\n",
        "test_accuracy_xgb= xgb.score(X_test, Y_test)\n",
        "r2_score_xgb= r2_score(Y_test, Y_pred)\n",
        "mse=mean_squared_error(Y_test,Y_pred)\n",
        "mae=mean_absolute_error(Y_test,Y_pred)\n",
        "rmse=np.sqrt(mse)\n",
        "mape=mean_absolute_percentage_error(Y_test,Y_pred)\n",
        "\n",
        "temp_list  = [\"xgb\", r2_score_xgb,mae,mse,rmse,mape]\n",
        "metric_list.append(temp_list)\n",
        "#Xgboost regressor does not have coef and intercepts \n",
        "#print(\"Coeff are :\",xgb.coef_)\n",
        "#print(\"Intercept  :\",xgb.intercept_)\n",
        "print(\"--------------------------------------------\")\n",
        "print('train_accuracy_xgb:', train_accuracy_xgb)\n",
        "print(\"--------------------------------------------\")\n",
        "print('test_accuracy_xgb:', test_accuracy_xgb)\n",
        "print(\"--------------------------------------------\")\n",
        "print(' Acuracy of Our Model is :', r2_score_xgb)\n",
        "print(\"--------------------------------------------\")\n",
        "plt.figure(figsize= (6, 6))\n",
        "plt.title(\"Visualizing the Regression using Xgboost Regression algorithm\")\n",
        "plt.scatter(Y_test,Y_pred, color = \"red\")\n",
        "plt.xlabel(\"New Predicted Price\")\n",
        "plt.ylabel(\"Selling Price\")\n",
        "plt.show()"
      ]
    },
    {
      "cell_type": "code",
      "execution_count": null,
      "metadata": {
        "colab": {
          "base_uri": "https://localhost:8080/",
          "height": 723
        },
        "id": "eH00Dw4vrugm",
        "outputId": "cd261fae-66ed-47ba-8bbd-77f970f08f36"
      },
      "outputs": [
        {
          "name": "stdout",
          "output_type": "stream",
          "text": [
            "[ 486600.   639500.   340499.8 ...  295900.   602499.9 1293700. ]\n",
            "--------------------------------------------\n",
            "train_accuracy_knn: 0.8120320372734866\n",
            "--------------------------------------------\n",
            "test_accuracy_knn: 0.828629908163604\n",
            "--------------------------------------------\n",
            " Acuracy of Our Model is : 0.828629908163604\n",
            "--------------------------------------------\n"
          ]
        },
        {
          "data": {
            "image/png": "[encoded data removed]",
            "text/plain": [
              "<Figure size 600x600 with 1 Axes>"
            ]
          },
          "metadata": {},
          "output_type": "display_data"
        }
      ],
      "source": [
        "#KNN\n",
        "from sklearn.neighbors import KNeighborsRegressor\n",
        "knn=KNeighborsRegressor(n_neighbors=10)\n",
        "knn.fit(X_train,Y_train)\n",
        "Y_pred=knn.predict(X_test)\n",
        "print(Y_pred)\n",
        "\n",
        "train_accuracy_knn = knn.score(X_train, Y_train)\n",
        "test_accuracy_knn= knn.score(X_test, Y_test)\n",
        "r2_score_knn= r2_score(Y_test, Y_pred)\n",
        "mse=mean_squared_error(Y_test,Y_pred)\n",
        "mae=mean_absolute_error(Y_test,Y_pred)\n",
        "rmse=np.sqrt(mse)\n",
        "mape=mean_absolute_percentage_error(Y_test,Y_pred)\n",
        "\n",
        "temp_list  = [\"knn\", r2_score_rf,mae,mse,rmse,mape]\n",
        "metric_list.append(temp_list)\n",
        "#KNeighbors does not hav an coefficeints and intercepts\n",
        "#print(\"Coeff are :\",knn\n",
        "#.coef_)\n",
        "#print(\"Intercept  :\",knn\n",
        "#.intercept_)\n",
        "print(\"--------------------------------------------\")\n",
        "print('train_accuracy_knn:', train_accuracy_knn)\n",
        "print(\"--------------------------------------------\")\n",
        "print('test_accuracy_knn:', test_accuracy_knn)\n",
        "print(\"--------------------------------------------\")\n",
        "print(' Acuracy of Our Model is :', r2_score_knn)\n",
        "print(\"--------------------------------------------\")\n",
        "plt.figure(figsize= (6, 6))\n",
        "plt.title(\"Visualizing the Regression using KNeighbors Regression algorithm\")\n",
        "plt.scatter(Y_test,Y_pred, color = \"red\")\n",
        "plt.xlabel(\"New Predicted Price\")\n",
        "plt.ylabel(\"Selling Price\")\n",
        "plt.show()"
      ]
    },
    {
      "cell_type": "code",
      "execution_count": null,
      "metadata": {},
      "outputs": [
        {
          "ename": "SyntaxError",
          "evalue": "invalid syntax (3113034039.py, line 2)",
          "output_type": "error",
          "traceback": [
            "\u001b[1;36m  Input \u001b[1;32mIn [337]\u001b[1;36m\u001b[0m\n\u001b[1;33m    Metric_list=pd.DataFrame(metric_list,columns=)\u001b[0m\n\u001b[1;37m                                                 ^\u001b[0m\n\u001b[1;31mSyntaxError\u001b[0m\u001b[1;31m:\u001b[0m invalid syntax\n"
          ]
        }
      ],
      "source": [
        "col_name=['Model','R2_Score','MAE','MSE','RMSE','MAPE']\n",
        "Metric_list=pd.DataFrame(metric_list,columns=col_name)\n",
        "Metric_list\n",
        "Metric_list.to_pickle(\"Performance_of_all.pkl\")\n",
        "\n"
      ]
    },
    {
      "cell_type": "code",
      "execution_count": null,
      "metadata": {},
      "outputs": [
        {
          "data": {
            "text/html": [
              "<div>\n",
              "<style scoped>\n",
              "    .dataframe tbody tr th:only-of-type {\n",
              "        vertical-align: middle;\n",
              "    }\n",
              "\n",
              "    .dataframe tbody tr th {\n",
              "        vertical-align: top;\n",
              "    }\n",
              "\n",
              "    .dataframe thead th {\n",
              "        text-align: right;\n",
              "    }\n",
              "</style>\n",
              "<table border=\"1\" class=\"dataframe\">\n",
              "  <thead>\n",
              "    <tr style=\"text-align: right;\">\n",
              "      <th></th>\n",
              "      <th>0</th>\n",
              "      <th>1</th>\n",
              "      <th>2</th>\n",
              "      <th>3</th>\n",
              "      <th>4</th>\n",
              "    </tr>\n",
              "  </thead>\n",
              "  <tbody>\n",
              "    <tr>\n",
              "      <th>0</th>\n",
              "      <td>lr</td>\n",
              "      <td>-1.126114e+08</td>\n",
              "      <td>5.411103e+09</td>\n",
              "      <td>1.220271e+09</td>\n",
              "      <td>4.236211e+03</td>\n",
              "    </tr>\n",
              "    <tr>\n",
              "      <th>1</th>\n",
              "      <td>Rf</td>\n",
              "      <td>9.009757e-01</td>\n",
              "      <td>1.604596e+05</td>\n",
              "      <td>8.389116e+04</td>\n",
              "      <td>1.828397e-01</td>\n",
              "    </tr>\n",
              "    <tr>\n",
              "      <th>2</th>\n",
              "      <td>ls</td>\n",
              "      <td>8.560319e-01</td>\n",
              "      <td>1.934763e+05</td>\n",
              "      <td>1.019227e+05</td>\n",
              "      <td>2.596034e-01</td>\n",
              "    </tr>\n",
              "    <tr>\n",
              "      <th>3</th>\n",
              "      <td>sgd</td>\n",
              "      <td>-1.628757e+25</td>\n",
              "      <td>2.057893e+18</td>\n",
              "      <td>1.729011e+18</td>\n",
              "      <td>6.622057e+12</td>\n",
              "    </tr>\n",
              "    <tr>\n",
              "      <th>4</th>\n",
              "      <td>ada</td>\n",
              "      <td>5.321542e-01</td>\n",
              "      <td>3.487755e+05</td>\n",
              "      <td>2.223058e+05</td>\n",
              "      <td>6.342309e-01</td>\n",
              "    </tr>\n",
              "    <tr>\n",
              "      <th>5</th>\n",
              "      <td>xgb</td>\n",
              "      <td>8.562382e-01</td>\n",
              "      <td>1.933377e+05</td>\n",
              "      <td>1.086588e+05</td>\n",
              "      <td>2.516660e-01</td>\n",
              "    </tr>\n",
              "    <tr>\n",
              "      <th>6</th>\n",
              "      <td>knn</td>\n",
              "      <td>9.009757e-01</td>\n",
              "      <td>4.308067e+05</td>\n",
              "      <td>2.168332e+05</td>\n",
              "      <td>5.443171e-01</td>\n",
              "    </tr>\n",
              "  </tbody>\n",
              "</table>\n",
              "</div>"
            ],
            "text/plain": [
              "     0             1             2             3             4\n",
              "0   lr -1.126114e+08  5.411103e+09  1.220271e+09  4.236211e+03\n",
              "1   Rf  9.009757e-01  1.604596e+05  8.389116e+04  1.828397e-01\n",
              "2   ls  8.560319e-01  1.934763e+05  1.019227e+05  2.596034e-01\n",
              "3  sgd -1.628757e+25  2.057893e+18  1.729011e+18  6.622057e+12\n",
              "4  ada  5.321542e-01  3.487755e+05  2.223058e+05  6.342309e-01\n",
              "5  xgb  8.562382e-01  1.933377e+05  1.086588e+05  2.516660e-01\n",
              "6  knn  9.009757e-01  4.308067e+05  2.168332e+05  5.443171e-01"
            ]
          },
          "execution_count": 104,
          "metadata": {},
          "output_type": "execute_result"
        }
      ],
      "source": [
        "Metric_list"
      ]
    },
    {
      "cell_type": "code",
      "execution_count": null,
      "metadata": {},
      "outputs": [],
      "source": []
    }
  ],
  "metadata": {
    "colab": {
      "provenance": []
    },
    "gpuClass": "standard",
    "kernelspec": {
      "display_name": "Python 3",
      "language": "python",
      "name": "python3"
    },
    "language_info": {
      "codemirror_mode": {
        "name": "ipython",
        "version": 3
      },
      "file_extension": ".py",
      "mimetype": "text/x-python",
      "name": "python",
      "nbconvert_exporter": "python",
      "pygments_lexer": "ipython3",
      "version": "3.10.6"
    }
  },
  "nbformat": 4,
  "nbformat_minor": 0
}
